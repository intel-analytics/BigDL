{
 "cells": [
  {
   "cell_type": "code",
   "execution_count": null,
   "id": "367f1800",
   "metadata": {},
   "outputs": [],
   "source": [
    "import sys\n",
    "from random import random\n",
    "from operator import add\n",
    "import os"
   ]
  },
  {
   "cell_type": "code",
   "execution_count": null,
   "id": "e922a8c2",
   "metadata": {},
   "outputs": [],
   "source": [
    "from pyspark.sql import SparkSession\n",
    "from pyspark import SparkConf"
   ]
  },
  {
   "cell_type": "code",
   "execution_count": null,
   "id": "d9208970",
   "metadata": {},
   "outputs": [],
   "source": [
    "def square_2_random(_: int) -> float:\n",
    "    x = random() * 2 - 1\n",
    "    y = random() * 2 - 1\n",
    "    return 1 if x ** 2 + y ** 2 <= 1 else 0"
   ]
  },
  {
   "cell_type": "code",
   "execution_count": null,
   "id": "c97abc43",
   "metadata": {},
   "outputs": [],
   "source": [
    "def get_spark_on_k8s_conf(spark_conf, sgx_enabled = True):\n",
    "    if sgx_enabled:\n",
    "        return (spark_conf.set(\"spark.kubernetes.sgx.enabled\", \"true\")\n",
    "            .set(\"spark.kubernetes.sgx.driver.mem\", \"64g\")\n",
    "            .set(\"spark.kubernetes.sgx.driver.jvm.mem\", \"12g\")\n",
    "            .set(\"spark.kubernetes.sgx.executor.mem\", \"64g\")\n",
    "            .set(\"spark.kubernetes.sgx.executor.jvm.mem\", \"12g\"))\n",
    "    else:\n",
    "        return spark_conf"
   ]
  },
  {
   "cell_type": "code",
   "execution_count": null,
   "id": "e0f9c87a",
   "metadata": {},
   "outputs": [],
   "source": [
    "master = os.getenv(\"RUNTIME_SPARK_MASTER\")\n",
    "print(\"k8s master url is \" + str(master))\n",
    "image = os.getenv(\"RUNTIME_K8S_SPARK_IMAGE\")\n",
    "print(\"executor image is \" + str(image))\n",
    "driver_ip = os.getenv(\"LOCAL_IP\")\n",
    "print(\"driver ip is \" + str(driver_ip))\n",
    "\n",
    "conf = (SparkConf().setMaster(master)\n",
    "        .setAppName(\"sgx-pyspark-pi-notebook-example\")\n",
    "        .set(\"spark.submit.deployMode\", \"client\")\n",
    "        .set(\"spark.kubernetes.container.image\", image)\n",
    "        .set(\"spark.driver.host\", driver_ip)\n",
    "        .set(\"spark.driver.memory\", \"32g\")\n",
    "        .set(\"spark.executor.cores\", \"8\")\n",
    "        .set(\"spark.executor.memory\", \"32g\")\n",
    "        .set(\"spark.executor.instances\", \"2\")\n",
    "        .set(\"spark.cores.max\", \"32\")\n",
    "        .set(\"spark.kubernetes.driver.podTemplateFile\", \"/ppml/spark-driver-template.yaml\")\n",
    "        .set(\"spark.kubernetes.executor.podTemplateFile\", \"/ppml/spark-executor-template.yaml\")\n",
    "        .set(\"spark.kubernetes.authenticate.driver.serviceAccountName\", \"spark\")\n",
    "        .set(\"spark.kubernetes.executor.deleteOnTermination\", \"false\")\n",
    "        .set(\"spark.network.timeout\", \"10000000\")\n",
    "        .set(\"spark.executor.heartbeatInterval\", \"10000000\")\n",
    "        .set(\"spark.python.use.daemon\", \"false\")\n",
    "        .set(\"spark.python.worker.reuse\", \"false\")\n",
    "        .set(\"spark.authenticate\", \"true\")\n",
    "        .set(\"spark.authenticate.secret\", \"1234qwer\")\n",
    "        .set(\"spark.kubernetes.executor.secretKeyRef.SPARK_AUTHENTICATE_SECRET\", \"spark-secret:secret\")\n",
    "        .set(\"spark.kubernetes.driver.secretKeyRef.SPARK_AUTHENTICATE_SECRET\", \"spark-secret:secret\"))\n",
    "\n",
    "spark_on_k8s_conf = get_spark_on_k8s_conf(spark_conf = conf, sgx_enabled = True)"
   ]
  },
  {
   "cell_type": "code",
   "execution_count": null,
   "id": "b3b1a409",
   "metadata": {},
   "outputs": [],
   "source": [
    "if __name__ == '__main__':\n",
    "    sc = SparkSession.builder.config(conf = spark_on_k8s_conf).getOrCreate()\n",
    "    partiton_num = 2\n",
    "    n = 100000 * partiton_num\n",
    "    count = sc.sparkContext.parallelize(range(1, n + 1), partiton_num).map(square_2_random).reduce(add)\n",
    "    print(\"[INFO] Successful! Pi is roughly %f\" % (4.0 * count / n))\n",
    "    sc.stop()"
   ]
  }
 ],
 "metadata": {
  "kernelspec": {
   "display_name": "Python 3 (ipykernel)",
   "language": "python",
   "name": "python3"
  },
  "language_info": {
   "codemirror_mode": {
    "name": "ipython",
    "version": 3
   },
   "file_extension": ".py",
   "mimetype": "text/x-python",
   "name": "python",
   "nbconvert_exporter": "python",
   "pygments_lexer": "ipython3",
   "version": "3.8.10"
  }
 },
 "nbformat": 4,
 "nbformat_minor": 5
}
