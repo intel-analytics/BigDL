{
 "cells": [
  {
   "cell_type": "code",
   "execution_count": null,
   "id": "685a7492",
   "metadata": {},
   "outputs": [],
   "source": [
    "import sys\n",
    "from random import random\n",
    "from operator import add"
   ]
  },
  {
   "cell_type": "code",
   "execution_count": null,
   "id": "b0a3f143",
   "metadata": {},
   "outputs": [],
   "source": [
    "from pyspark.sql import SparkSession\n",
    "from bigdl.ppml.utils.ppml_conf import PPMLConf"
   ]
  },
  {
   "cell_type": "code",
   "execution_count": null,
   "id": "4d432b5e",
   "metadata": {},
   "outputs": [],
   "source": [
    "def square_2_random(_: int) -> float:\n",
    "    x = random() * 2 - 1\n",
    "    y = random() * 2 - 1\n",
    "    return 1 if x ** 2 + y ** 2 <= 1 else 0"
   ]
  },
  {
   "cell_type": "code",
   "execution_count": null,
   "id": "8618d94a",
   "metadata": {},
   "outputs": [],
   "source": [
    "ppml_conf = (PPMLConf(sgx_enabled = True)\n",
    "        .setAppName(\"sgx-pyspark-pi-notebook-example\")\n",
    "        .set(\"spark.driver.memory\", \"32g\")\n",
    "        .set(\"spark.executor.cores\", \"8\")\n",
    "        .set(\"spark.executor.memory\", \"32g\")\n",
    "        .set(\"spark.executor.instances\", \"2\")\n",
    "        .set(\"spark.cores.max\", \"32\"))"
   ]
  },
  {
   "cell_type": "code",
   "execution_count": null,
   "id": "61b19434",
   "metadata": {},
   "outputs": [],
   "source": [
    "if __name__ == '__main__':\n",
    "    sc = SparkSession.builder.config(conf=(ppml_conf.conf())).getOrCreate()\n",
    "    partiton_num = 2\n",
    "    n = 100000 * partiton_num\n",
    "    count = sc.sparkContext.parallelize(range(1, n + 1), partiton_num).map(square_2_random).reduce(add)\n",
    "    sc.stop()"
   ]
  },
  {
   "cell_type": "code",
   "execution_count": null,
   "id": "ab274a9c",
   "metadata": {},
   "outputs": [],
   "source": [
    "print(\"Pi is roughly %f\" % (4.0 * count / n))"
   ]
  }
 ],
 "metadata": {
  "kernelspec": {
   "display_name": "Python 3 (ipykernel)",
   "language": "python",
   "name": "python3"
  },
  "language_info": {
   "codemirror_mode": {
    "name": "ipython",
    "version": 3
   },
   "file_extension": ".py",
   "mimetype": "text/x-python",
   "name": "python",
   "nbconvert_exporter": "python",
   "pygments_lexer": "ipython3",
   "version": "3.8.10"
  }
 },
 "nbformat": 4,
 "nbformat_minor": 5
}
