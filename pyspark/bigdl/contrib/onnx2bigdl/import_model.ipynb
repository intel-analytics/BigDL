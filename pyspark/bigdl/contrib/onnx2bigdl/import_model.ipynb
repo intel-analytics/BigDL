{
 "cells": [
  {
   "cell_type": "code",
   "execution_count": null,
   "metadata": {},
   "outputs": [],
   "source": [
    "# coding: utf-8\n",
    "\"\"\"Functions for importing ONNX models to MXNet and for checking metadata\"\"\"\n",
    "# pylint: disable=no-member\n",
    "\n",
    "from .import_onnx import GraphProto"
   ]
  },
  {
   "cell_type": "code",
   "execution_count": null,
   "metadata": {},
   "outputs": [],
   "source": [
    "def import_model(model_file):\n",
    "    \"\"\"Imports the ONNX model file, passed as a parameter, into MXNet symbol and parameters.\n",
    "    Operator support and coverage -\n",
    "    https://cwiki.apache.org/confluence/display/MXNET/MXNet-ONNX+Integration\n",
    "\n",
    "    Parameters\n",
    "    ----------\n",
    "    model_file : str\n",
    "        ONNX model file name\n",
    "\n",
    "    Returns\n",
    "    -------\n",
    "    sym : :class:`~mxnet.symbol.Symbol`\n",
    "        MXNet symbol object\n",
    "\n",
    "    arg_params : dict of ``str`` to :class:`~mxnet.ndarray.NDArray`\n",
    "        Dict of converted parameters stored in ``mxnet.ndarray.NDArray`` format\n",
    "\n",
    "    aux_params : dict of ``str`` to :class:`~mxnet.ndarray.NDArray`\n",
    "        Dict of converted parameters stored in ``mxnet.ndarray.NDArray`` format\n",
    "\n",
    "    Notes\n",
    "    -----\n",
    "    This method is available when you ``import mxnet.contrib.onnx``\n",
    "\n",
    "    \"\"\"\n",
    "    graph = GraphProto()\n",
    "\n",
    "    try:\n",
    "        import onnx\n",
    "    except ImportError:\n",
    "        raise ImportError(\"Onnx and protobuf need to be installed. \"\n",
    "                          + \"Instructions to install - https://github.com/onnx/onnx\")\n",
    "    # loads model file and returns ONNX protobuf object\n",
    "    model_proto = onnx.load_model(model_file)\n",
    "    sym, arg_params, aux_params = graph.from_onnx(model_proto.graph)\n",
    "    return sym, arg_params, aux_params"
   ]
  },
  {
   "cell_type": "code",
   "execution_count": null,
   "metadata": {},
   "outputs": [],
   "source": [
    "def get_model_metadata(model_file):\n",
    "    \"\"\"\n",
    "    Returns the name and shape information of input and output tensors of the given ONNX model file.\n",
    "\n",
    "    Notes\n",
    "    -----\n",
    "    This method is available when you ``import mxnet.contrib.onnx``\n",
    "\n",
    "    Parameters\n",
    "    ----------\n",
    "    model_file : str\n",
    "        ONNX model file name\n",
    "\n",
    "    Returns\n",
    "    -------\n",
    "    model_metadata : dict\n",
    "        A dictionary object mapping various metadata to its corresponding value.\n",
    "        The dictionary will have the following template::\n",
    "\n",
    "          'input_tensor_data' : list of tuples representing the shape of the input paramters\n",
    "          'output_tensor_data' : list of tuples representing the shape of the output of the model\n",
    "    \"\"\"\n",
    "    graph = GraphProto()\n",
    "\n",
    "    try:\n",
    "        import onnx\n",
    "    except ImportError:\n",
    "        raise ImportError(\"Onnx and protobuf need to be installed. \"\n",
    "                          + \"Instructions to install - https://github.com/onnx/onnx\")\n",
    "    model_proto = onnx.load_model(model_file)\n",
    "    metadata = graph.get_graph_metadata(model_proto.graph)\n",
    "    return metadata"
   ]
  }
 ],
 "metadata": {
  "kernelspec": {
   "display_name": "Python 3",
   "language": "python",
   "name": "python3"
  },
  "language_info": {
   "codemirror_mode": {
    "name": "ipython",
    "version": 3
   },
   "file_extension": ".py",
   "mimetype": "text/x-python",
   "name": "python",
   "nbconvert_exporter": "python",
   "pygments_lexer": "ipython3",
   "version": "3.5.2"
  }
 },
 "nbformat": 4,
 "nbformat_minor": 2
}
