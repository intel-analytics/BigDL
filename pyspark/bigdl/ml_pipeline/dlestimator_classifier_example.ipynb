{
 "cells": [
  {
   "cell_type": "code",
   "execution_count": 1,
   "metadata": {
    "collapsed": false
   },
   "outputs": [
    {
     "name": "stdout",
     "output_type": "stream",
     "text": [
      "creating: createSequential\n",
      "creating: createLinear\n",
      "creating: createMSECriterion\n",
      "creating: createDLEstimator\n"
     ]
    }
   ],
   "source": [
    "from bigdl.nn.layer import *\n",
    "from bigdl.nn.criterion import *\n",
    "from bigdl.util.common import *\n",
    "from bigdl.ml_pipeline.dl_classifier import *\n",
    "from pyspark.sql.types import *\n",
    "from pyspark.context import SparkContext\n",
    "\n",
    "if __name__ == \"__main__\":\n",
    "    sc.setLogLevel(\"INFO\")\n",
    "    sqlContext = SQLContext(sc)\n",
    "    init_engine()\n",
    "    model = Sequential().add(Linear(2, 2))\n",
    "    criterion = MSECriterion()\n",
    "    estimator = DLEstimator(model, criterion, [2], [2]).setBatchSize(4).setMaxEpoch(10)\n",
    "    data = sc.parallelize([\n",
    "        ((2.0, 1.0), (1.0, 2.0)),\n",
    "        ((1.0, 2.0), (2.0, 1.0)),\n",
    "        ((2.0, 1.0), (1.0, 2.0)),\n",
    "        ((1.0, 2.0), (2.0, 1.0))])\n",
    "\n",
    "    schema = StructType([\n",
    "        StructField(\"features\", ArrayType(DoubleType(), False), False),\n",
    "        StructField(\"label\", ArrayType(DoubleType(), False), False)])\n",
    "    df = sqlContext.createDataFrame(data, schema)\n",
    "    dlModel = estimator.fit(df)\n",
    "    dlModel.transform(df).show(False)"
   ]
  },
  {
   "cell_type": "code",
   "execution_count": 2,
   "metadata": {
    "collapsed": false
   },
   "outputs": [
    {
     "name": "stdout",
     "output_type": "stream",
     "text": [
      "creating: createSequential\n",
      "creating: createLinear\n",
      "creating: createClassNLLCriterion\n",
      "creating: createDLClassifier\n"
     ]
    }
   ],
   "source": [
    "    model = Sequential().add(Linear(2, 2))\n",
    "    criterion = ClassNLLCriterion()\n",
    "    classifier = DLClassifier(model, criterion, [2]).setBatchSize(4).setMaxEpoch(10)\n",
    "    data = sc.parallelize([\n",
    "        ((2.0, 1.0), (1.0, 2.0)),\n",
    "        ((1.0, 2.0), (2.0, 1.0)),\n",
    "        ((2.0, 1.0), (1.0, 2.0)),\n",
    "        ((1.0, 2.0), (2.0, 1.0))])\n",
    "\n",
    "    schema = StructType([\n",
    "        StructField(\"features\", ArrayType(DoubleType(), False), False),\n",
    "        StructField(\"label\", ArrayType(DoubleType(), False), False)])\n",
    "    df = sqlContext.createDataFrame(data, schema)\n",
    "    dlModel = classifier.fit(df)\n",
    "    dlModel.transform(df).show(False)"
   ]
  },
  {
   "cell_type": "code",
   "execution_count": null,
   "metadata": {
    "collapsed": true
   },
   "outputs": [],
   "source": []
  }
 ],
 "metadata": {
  "kernelspec": {
   "display_name": "Python 2",
   "language": "python",
   "name": "python2"
  },
  "language_info": {
   "codemirror_mode": {
    "name": "ipython",
    "version": 2
   },
   "file_extension": ".py",
   "mimetype": "text/x-python",
   "name": "python",
   "nbconvert_exporter": "python",
   "pygments_lexer": "ipython2",
   "version": "2.7.13"
  }
 },
 "nbformat": 4,
 "nbformat_minor": 0
}
