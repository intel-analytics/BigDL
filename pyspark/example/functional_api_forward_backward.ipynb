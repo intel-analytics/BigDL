{
 "cells": [
  {
   "cell_type": "code",
   "execution_count": 1,
   "metadata": {},
   "outputs": [],
   "source": [
    "from pyspark.context import SparkContext\n",
    "from bigdl.util.common import *\n",
    "sc = get_spark_context(conf=create_spark_conf()) # in case sparkcontext haven't been created.\n",
    "init_engine()"
   ]
  },
  {
   "cell_type": "code",
   "execution_count": 2,
   "metadata": {},
   "outputs": [
    {
     "name": "stdout",
     "output_type": "stream",
     "text": [
      "creating: createLinear\n",
      "creating: createLinear\n",
      "creating: createCAddTable\n",
      "creating: createReLU\n",
      "creating: createThreshold\n",
      "creating: createGraph\n",
      "[[ 1.  1.  1.  1.]\n",
      " [ 1.  1.  1.  1.]]\n",
      "[array([ 3.,  3.,  3.,  3.], dtype=float32), array([ 6.,  6.,  6.,  6.], dtype=float32)]\n"
     ]
    }
   ],
   "source": [
    "from bigdl.nn.layer import *\n",
    "\n",
    "fc1 = Linear(4, 2)()\n",
    "fc2 = Linear(4, 2)()\n",
    "cadd = CAddTable()([fc1, fc2])\n",
    "output1 = ReLU()(cadd)\n",
    "output2 = Threshold(10.0)(cadd)\n",
    "graph = Graph([fc1, fc2], [output1, output2])\n",
    "fc1.element().set_weights([np.ones((4, 2)), np.ones((2, ))])\n",
    "fc2.element().set_weights([np.ones((4, 2)) * 2, np.ones((2, )) * 2])\n",
    "output = graph.forward([np.array([0.1, 0.2, -0.3, -0.4]),\n",
    "                        np.array([0.5, 0.4, -0.2, -0.1])])\n",
    "gradInput = graph.backward([np.array([0.1, 0.2, -0.3, -0.4]),\n",
    "                            np.array([0.5, 0.4, -0.2, -0.1])],\n",
    "                           [np.array([1.0, 2.0]),\n",
    "                                    np.array([3.0, 4.0])])\n",
    "weights = fc1.element().get_weights()[0]\n",
    "print(weights)\n",
    "print(gradInput)"
   ]
  },
  {
   "cell_type": "code",
   "execution_count": null,
   "metadata": {
    "collapsed": true
   },
   "outputs": [],
   "source": []
  }
 ],
 "metadata": {
  "kernelspec": {
   "display_name": "Python 2",
   "language": "python",
   "name": "python2"
  },
  "language_info": {
   "codemirror_mode": {
    "name": "ipython",
    "version": 2
   },
   "file_extension": ".py",
   "mimetype": "text/x-python",
   "name": "python",
   "nbconvert_exporter": "python",
   "pygments_lexer": "ipython2",
   "version": "2.7.6"
  }
 },
 "nbformat": 4,
 "nbformat_minor": 1
}
