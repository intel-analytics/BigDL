{
  "cells": [
    {
      "cell_type": "markdown",
      "source": [
        "# Accelerate TensorFlow Inference using OpenVINO"
      ],
      "metadata": {}
    },
    {
      "cell_type": "markdown",
      "source": [
        "You can use ``InferenceOptimizer.trace(..., accelerator='openvino')`` API to enable the OpenVINO acceleration for TensorFlow inference. It only takes a few lines."
      ],
      "metadata": {}
    },
    {
      "cell_type": "markdown",
      "source": [
        "To apply OpenVINO acceleration, the following dependencies need to be installed first:"
      ],
      "metadata": {
        "nbsphinx": "hidden"
      }
    },
    {
      "cell_type": "code",
      "source": [
        "# for BigDL-Nano\n",
        "!pip install --pre --upgrade bigdl-nano[tensorflow,inference]\n",
        "!source bigdl-nano-init\n",
        "\n",
        "# for OpenVINO acceleration\n",
        "!pip install openvino-dev "
      ],
      "outputs": [],
      "execution_count": null,
      "metadata": {
        "nbsphinx": "hidden"
      }
    },
    {
      "cell_type": "markdown",
      "source": [
        "> 📝 **Note**\n",
        ">\n",
        ">  We recommend to run the commands above, especially `source bigdl-nano-init` before jupyter kernel is started, or some of the optimizations may not take effect."
      ],
      "metadata": {
        "nbsphinx": "hidden"
      }
    },
    {
      "cell_type": "markdown",
      "source": [
        "Let's take an [EfficientNetB0 model](https://www.tensorflow.org/api_docs/python/tf/keras/applications/efficientnet/EfficientNetB0) pretrained on ImageNet dataset as an example. First, we load the model:"
      ],
      "metadata": {}
    },
    {
      "cell_type": "code",
      "source": [
        "from tensorflow.keras.applications import EfficientNetB0\n",
        "\n",
        "model = EfficientNetB0(weights='imagenet')"
      ],
      "outputs": [],
      "execution_count": null,
      "metadata": {}
    },
    {
      "cell_type": "markdown",
      "source": [
        "To enable OpenVINO acceleration for your TensorFlow inference, **the only change you need to made is to import BigDL-Nano** `InferenceOptimizer`**, and trace your TensorFlow model to convert it into an OpenVINO accelerated module for inference**:"
      ],
      "metadata": {}
    },
    {
      "cell_type": "code",
      "source": [
        "import tensorflow as tf\n",
        "from bigdl.nano.tf.keras import InferenceOptimizer\n",
        "\n",
        "ort_model = InferenceOptimizer.trace(model,\n",
        "                                     accelerator=\"openvino\",\n",
        "                                     input_spec=tf.TensorSpec(shape=(None, 224, 224, 3))\n",
        "                                     )"
      ],
      "outputs": [],
      "execution_count": null,
      "metadata": {}
    },
    {
      "cell_type": "markdown",
      "source": [
        "> 📝 **Note**\n",
        "> \n",
        ">  `input_spec` is the parameter for OpenVINO accelerator to know the **shape** of the model input. Here, we specify our test dataset to consist of images with $224 \\times 224$ pixels and $3$ input channels.\n",
        "> \n",
        ">  Please refer to [API documentation](https://bigdl.readthedocs.io/en/latest/doc/PythonAPI/Nano/tensorflow.html) for more information on `InferenceOptimizer.trace`."
      ],
      "metadata": {}
    },
    {
      "cell_type": "markdown",
      "source": [
        "You could then do the normal inference steps with the model optimized by OpenVINO:"
      ],
      "metadata": {}
    },
    {
      "cell_type": "code",
      "source": [
        "x = tf.random.normal(shape=(2, 224, 224, 3))\n",
        "# use the optimized model here\n",
        "y_hat = ort_model(x)\n",
        "predictions = tf.argmax(y_hat, axis=1)\n",
        "print(predictions)"
      ],
      "outputs": [],
      "execution_count": null,
      "metadata": {}
    },
    {
      "cell_type": "markdown",
      "source": [
        "> 📚 **Related Readings**\n",
        "> \n",
        "> - [How to install BigDL-Nano](https://bigdl.readthedocs.io/en/latest/doc/Nano/Overview/nano.html#install)\n",
        "> - [How to install BigDL-Nano in Google Colab](https://bigdl.readthedocs.io/en/latest/doc/Nano/Howto/install_in_colab.html)"
      ],
      "metadata": {}
    }
  ],
  "metadata": {
    "kernelspec": {
      "display_name": "Python 3.7.10 ('ruonan_nano')",
      "language": "python",
      "name": "python3"
    },
    "language_info": {
      "name": "python",
      "version": "3.7.10"
    },
    "orig_nbformat": 4,
    "vscode": {
      "interpreter": {
        "hash": "d347a5dca25745bedb029e46e41f7d6c8c9b5181ecb97033e2e81a7538459254"
      }
    },
    "nteract": {
      "version": "0.28.0"
    }
  },
  "nbformat": 4,
  "nbformat_minor": 2
}