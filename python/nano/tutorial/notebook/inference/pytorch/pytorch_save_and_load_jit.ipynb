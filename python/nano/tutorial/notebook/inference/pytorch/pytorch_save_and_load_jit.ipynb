{
  "cells": [
    {
      "cell_type": "markdown",
      "metadata": {},
      "source": [
        "[View the runnable example on GitHub](https://github.com/intel-analytics/BigDL/tree/main/python/nano/tutorial/notebook/inference/pytorch/pytorch_save_and_load_jit.ipynb)"
      ]
    },
    {
      "cell_type": "markdown",
      "metadata": {},
      "source": [
        "# Save and Load Optimized JIT Model\n",
        "\n",
        "This example illustrates how to save and load a model accelerated by JIT.\n",
        "In this example, we use a ResNet18 model pretrained. Then, by calling `InferenceOptimizer.trace(model, accelerator=\"jit\"...)`, we can obtain a model accelarated by JIT method. By calling `InferenceOptimizer.save(model_name, path)` , we could save the model to a folder. By calling `InferenceOptimizer.load(path)`, we could load the model from a folder."
      ]
    },
    {
      "cell_type": "markdown",
      "metadata": {},
      "source": [
        "To inference using Bigdl-nano InferenceOptimizer, the following packages need to be installed first. We recommend you to use [Miniconda](https://docs.conda.io/en/latest/miniconda.html) to prepare the environment and install the following packages in a conda environment.\n",
        "\n",
        "You can create a conda environment by executing:\n",
        "\n",
        "```\n",
        "# \"nano\" is conda environment name, you can use any name you like.\n",
        "conda create -n nano python=3.7 setuptools=58.0.4\n",
        "conda activate nano\n",
        "```\n",
        "> 📝 **Note**\n",
        ">\n",
        "> During your installation, there may be some warnings or errors about version, just ignore them."
      ]
    },
    {
      "cell_type": "code",
      "execution_count": null,
      "metadata": {},
      "outputs": [],
      "source": [
        "# Necessary packages for inference accelaration\n",
        "!pip install --pre --upgrade bigdl-nano[pytorch]"
      ]
    },
    {
      "cell_type": "markdown",
      "metadata": {},
      "source": [
        "First, prepare model. We need load the pretrained ResNet18 model."
      ]
    },
    {
      "cell_type": "code",
      "execution_count": null,
      "metadata": {},
      "outputs": [],
      "source": [
        "import torch\n",
        "from torchvision.models import resnet18\n",
        "\n",
        "model_ft = resnet18(pretrained=True)"
      ]
    },
    {
      "cell_type": "markdown",
      "metadata": {},
      "source": [
        "Accelerate Inference Using JIT"
      ]
    },
    {
      "cell_type": "code",
      "execution_count": null,
      "metadata": {},
      "outputs": [],
      "source": [
        "from bigdl.nano.pytorch import InferenceOptimizer\n",
        "jit_model = InferenceOptimizer.trace(model_ft,\n",
        "                                     accelerator=\"jit\",\n",
        "                                     input_sample=torch.rand(1, 3, 224, 224))"
      ]
    },
    {
      "cell_type": "markdown",
      "metadata": {},
      "source": [
        "Save Optimized JIT Model\n",
        "The saved model files will be saved at \"./optimized_model_jit\" directory\n",
        "There are 2 files in optimized_model_jit, users only need to take \"ckpt.pth\" file for further usage:\n",
        "\n",
        "* nano_model_meta.yml: meta information of the saved model checkpoint\n",
        "* ckpt.pth: JIT model checkpoint for general use, describes model structure"
      ]
    },
    {
      "cell_type": "code",
      "execution_count": null,
      "metadata": {},
      "outputs": [],
      "source": [
        "InferenceOptimizer.save(jit_model, \"./optimized_model_jit\")"
      ]
    },
    {
      "cell_type": "markdown",
      "metadata": {},
      "source": [
        "Load the Optimized Model"
      ]
    },
    {
      "cell_type": "code",
      "execution_count": null,
      "metadata": {},
      "outputs": [],
      "source": [
        "loaded_model = InferenceOptimizer.load(\"./optimized_model_jit\")"
      ]
    },
    {
      "cell_type": "markdown",
      "metadata": {},
      "source": [
        "Inference with the Loaded Model"
      ]
    },
    {
      "cell_type": "code",
      "execution_count": null,
      "metadata": {},
      "outputs": [],
      "source": [
        "with InferenceOptimizer.get_context(loaded_model):\n",
        "    x = torch.rand(2, 3, 224, 224)\n",
        "    y_hat = loaded_model(x)\n",
        "    predictions = y_hat.argmax(dim=1)\n",
        "    print(predictions)"
      ]
    },
    {
      "cell_type": "markdown",
      "metadata": {},
      "source": [
        "\n",
        "> 📚 **Related Readings**\n",
        ">\n",
        "> - [How to install BigDL-Nano](https://bigdl.readthedocs.io/en/latest/doc/Nano/Overview/install.html)\n",
        "> - [How to install BigDL-Nano in Google Colab](https://bigdl.readthedocs.io/en/latest/doc/Nano/Howto/Install/install_in_colab.html)"
      ]
    }
  ],
  "metadata": {
    "kernelspec": {
      "display_name": "Python 3.7.10 ('ruonan_nano')",
      "language": "python",
      "name": "python3"
    },
    "language_info": {
      "codemirror_mode": {
        "name": "ipython",
        "version": 3
      },
      "file_extension": ".py",
      "mimetype": "text/x-python",
      "name": "python",
      "nbconvert_exporter": "python",
      "pygments_lexer": "ipython3",
      "version": "3.7.10"
    },
    "orig_nbformat": 4,
    "vscode": {
      "interpreter": {
        "hash": "d347a5dca25745bedb029e46e41f7d6c8c9b5181ecb97033e2e81a7538459254"
      }
    }
  },
  "nbformat": 4,
  "nbformat_minor": 2
}
