{
 "cells": [
  {
   "cell_type": "markdown",
   "id": "ef33b643",
   "metadata": {},
   "source": [
    "## BigDL-Nano Resnet example on Stanford Dogs dataset\n",
    "---\n",
    "This example illustrates how to apply bigdl-nano optimizations on a image recognition case based on Tensorflow Keras framework. The basic image recognition module is pre-trained EfficientNetB0 from tensorflow.keras.applications and fine-tune it on [Stanford Dogs](http://vision.stanford.edu/aditya86/ImageNetDogs/) image recognition dataset. "
   ]
  },
  {
   "cell_type": "code",
   "execution_count": 1,
   "id": "d6ce663e",
   "metadata": {},
   "outputs": [],
   "source": [
    "import os\n",
    "from time import time\n",
    "\n",
    "import tensorflow as tf\n",
    "from tensorflow.keras import layers\n",
    "from tensorflow.keras.models import Sequential\n",
    "from tensorflow.keras.applications import EfficientNetB0\n",
    "import tensorflow_datasets as tfds\n",
    "\n",
    "from bigdl.nano.tf.keras import Model"
   ]
  },
  {
   "cell_type": "code",
   "execution_count": 2,
   "id": "381495df",
   "metadata": {},
   "outputs": [],
   "source": [
    "IMG_SIZE=224\n",
    "BATCH_SIZE=64\n",
    "DATASET_NAME=\"stanford_dogs\""
   ]
  },
  {
   "cell_type": "markdown",
   "id": "f49885ff",
   "metadata": {},
   "source": [
    "### Loading data\n",
    "---\n",
    "Here we load data from tensorflow_datasets (hereafter TFDS). Stanford Dogs dataset is provided in TFDS as stanford_dogs. It features 20,580 images that belong to 120 classes of dog breeds (12,000 for training and 8,580 for testing)."
   ]
  },
  {
   "cell_type": "code",
   "execution_count": 3,
   "id": "1a88cd7a",
   "metadata": {},
   "outputs": [
    {
     "name": "stderr",
     "output_type": "stream",
     "text": [
      "2022-05-24 11:20:42.456226: I tensorflow/core/platform/cpu_feature_guard.cc:151] This TensorFlow binary is optimized with oneAPI Deep Neural Network Library (oneDNN) to use the following CPU instructions in performance-critical operations:  AVX2 AVX512F FMA\n",
      "To enable them in other operations, rebuild TensorFlow with the appropriate compiler flags.\n"
     ]
    }
   ],
   "source": [
    "(ds_train, ds_test), ds_info=tfds.load(\n",
    "    DATASET_NAME, data_dir=\"tensorflow_datasets/\" ,split=[\"train\", \"train\"], with_info=True, as_supervised=True\n",
    ")\n",
    "NUM_CLASSES = ds_info.features[\"label\"].num_classes\n",
    "STEPS = len(ds_train)/BATCH_SIZE\n",
    "\n",
    "size = (IMG_SIZE, IMG_SIZE)\n",
    "ds_train = ds_train.map(lambda image, label: (tf.image.resize(image, size), label))\n",
    "ds_test = ds_test.map(lambda image, label: (tf.image.resize(image, size), label))"
   ]
  },
  {
   "cell_type": "markdown",
   "id": "2863af62",
   "metadata": {},
   "source": [
    "### Data augmentation\n",
    "---\n",
    "To augment the dataset it can beneficial to make augmenter functions: a function that receives an image (a tf.Tensor) and a label and returns a new augmented image and label. By defining functions for each augmentation operation we can easily attach them to datasets and control when they are evaluated."
   ]
  },
  {
   "cell_type": "code",
   "execution_count": 4,
   "id": "d9764283",
   "metadata": {},
   "outputs": [],
   "source": [
    "def rotate(image, label):\n",
    "    return (tf.image.rot90(image, tf.random_uniform_initializer(minval=0, maxval=4)(shape=[], dtype=tf.int32)), label)\n",
    "\n",
    "def flip(image, label):\n",
    "    image = tf.image.random_flip_left_right(image)\n",
    "    image = tf.image.random_flip_up_down(image)\n",
    "    return (image, label)\n",
    "\n",
    "def contrast(image, label):\n",
    "    return (tf.image.random_contrast(image, 0.7, 1.3), label)\n",
    "\n",
    "def color(image, label):\n",
    "    image = tf.image.random_hue(image, 0.08)\n",
    "    image = tf.image.random_saturation(image, 0.6, 1.6)\n",
    "    image = tf.image.random_brightness(image, 0.05)\n",
    "    image = tf.image.random_contrast(image, 0.7, 1.3)\n",
    "    return (image, label)\n"
   ]
  },
  {
   "cell_type": "code",
   "execution_count": 5,
   "id": "fe26aa11",
   "metadata": {},
   "outputs": [],
   "source": [
    "ds_train = ds_train.repeat(50)\n",
    "augmentations = [rotate, flip, contrast, color]\n",
    "\n",
    "for f in augmentations:\n",
    "    ds_train = ds_train.map(f, num_parallel_calls=4)\n",
    "\n",
    "ds_train = ds_train.shuffle(1000)"
   ]
  },
  {
   "cell_type": "markdown",
   "id": "a439df50",
   "metadata": {},
   "source": [
    "### Prepare inputs\n",
    "---\n",
    "Once we verify the input data and augmentation are working correctly, we prepare dataset for training. The input data are resized to uniform IMG_SIZE. The labels are put into one-hot (a.k.a. categorical) encoding. The dataset is batched."
   ]
  },
  {
   "cell_type": "code",
   "execution_count": 6,
   "id": "67fc82c0",
   "metadata": {},
   "outputs": [],
   "source": [
    "def input_preprocess(image, label):\n",
    "    label = tf.one_hot(label, NUM_CLASSES)\n",
    "    return image, label\n",
    "\n",
    "\n",
    "ds_train = ds_train.map(\n",
    "    input_preprocess, num_parallel_calls=tf.data.AUTOTUNE\n",
    ")\n",
    "ds_train = ds_train.batch(batch_size=BATCH_SIZE, drop_remainder=True)\n",
    "ds_train = ds_train.prefetch(tf.data.AUTOTUNE)\n",
    "\n",
    "ds_test = ds_test.map(input_preprocess)\n",
    "ds_test = ds_test.batch(batch_size=BATCH_SIZE, drop_remainder=True)"
   ]
  },
  {
   "cell_type": "markdown",
   "id": "290760a8",
   "metadata": {},
   "source": [
    "### Transfer learning from pre-trained weights\n",
    "---\n",
    "Here we initialize the model with pre-trained ImageNet weights, and we fine-tune it on Stanford Dogs dataset."
   ]
  },
  {
   "cell_type": "code",
   "execution_count": 7,
   "id": "eb14afbf",
   "metadata": {},
   "outputs": [],
   "source": [
    "def build_model(num_classes, learning_rate=1e-2):\n",
    "    inputs = layers.Input(shape=(IMG_SIZE, IMG_SIZE, 3))\n",
    "    model = EfficientNetB0(include_top=False, input_tensor=inputs, weights=\"imagenet\")\n",
    "\n",
    "    # Freeze the pretrained weights\n",
    "    model.trainable = False\n",
    "\n",
    "    # Rebuild top\n",
    "    x = layers.GlobalAveragePooling2D(name=\"avg_pool\")(model.output)\n",
    "    x = layers.BatchNormalization()(x)\n",
    "\n",
    "    top_dropout_rate = 0.2\n",
    "    x = layers.Dropout(top_dropout_rate, name=\"top_dropout\")(x)\n",
    "    outputs = layers.Dense(NUM_CLASSES, activation=\"softmax\", name=\"pred\")(x)\n",
    "\n",
    "    # Compile\n",
    "    model = Model(inputs, outputs, name=\"EfficientNet\")\n",
    "    optimizer = tf.keras.optimizers.Adam(learning_rate=learning_rate)\n",
    "    model.compile(\n",
    "        optimizer=optimizer, loss=\"categorical_crossentropy\", metrics=[\"accuracy\"]\n",
    "    )\n",
    "    return model\n",
    "\n",
    "def unfreeze_model(model):\n",
    "    # We unfreeze the top 20 layers while leaving BatchNorm layers frozen\n",
    "    for layer in model.layers[-20:]:\n",
    "        if not isinstance(layer, layers.BatchNormalization):\n",
    "            layer.trainable = True\n",
    "\n",
    "    optimizer = tf.keras.optimizers.Adam(learning_rate=1e-4)\n",
    "    model.compile(\n",
    "        optimizer=optimizer, loss=\"categorical_crossentropy\", metrics=[\"accuracy\"]\n",
    "    )"
   ]
  },
  {
   "cell_type": "markdown",
   "id": "67ca9fea",
   "metadata": {},
   "source": [
    "### Train\n",
    "---\n",
    "Use Model.fit from bigdl.nano.tf.keras for BigDl-Nano tf.keras.\n",
    "\n",
    "This function override tf.keras.Model.fit to add more parameters.\n",
    "\n",
    "\n",
    "Additional parameters:\n",
    "```\n",
    "        :param num_processes:  when num_processes is not None, it specifies how many sub-processes\n",
    "                               to launch to run pseudo-distributed training; when num_processes is None,\n",
    "                               training will run in the current process.\n",
    "                               \n",
    "        :param backend: Use backend 'multiprocessing', 'horovod', 'ray', defaults to None.\n",
    "                        when num_processes is not None, it specifies which backend to use when\n",
    "                       launching sub-processes to run psedu-distributed training; \n",
    "                       when num_processes is None, this parameter takes no effect.\n",
    "```"
   ]
  },
  {
   "cell_type": "markdown",
   "id": "9be6a071",
   "metadata": {},
   "source": [
    "### Single process"
   ]
  },
  {
   "cell_type": "code",
   "execution_count": 8,
   "id": "03a6bc8a",
   "metadata": {},
   "outputs": [
    {
     "name": "stdout",
     "output_type": "stream",
     "text": [
      "Epoch 1/25\n"
     ]
    },
    {
     "name": "stderr",
     "output_type": "stream",
     "text": [
      "tcmalloc: large alloc 1073741824 bytes == 0x562b4429a000 @  0x7f787ec64d3f 0x7f787ec9b0c0 0x7f787ec9e082 0x7f787ec9e243 0x7f786f2d0402 0x7f786366aeb0 0x7f786368b0b5 0x7f786368e9ea 0x7f786368ef69 0x7f786368f2d1 0x7f7863683ce3 0x7f785ed49051 0x7f785eba438d 0x7f785e937087 0x7f785e93791e 0x7f785e937b1d 0x7f7864ab2ded 0x7f785ed4ad7c 0x7f785ecd16d5 0x7f785ecc524e 0x7f786a6e7941 0x7f7864097953 0x7f78640941f3 0x7f785f426313 0x7f787ebfb609 0x7f787eb20163\n"
     ]
    },
    {
     "name": "stdout",
     "output_type": "stream",
     "text": [
      "188/187 [==============================] - ETA: 0s - loss: 3.4458 - accuracy: 0.3779"
     ]
    },
    {
     "name": "stderr",
     "output_type": "stream",
     "text": [
      "tcmalloc: large alloc 2147483648 bytes == 0x562b8c90a000 @  0x7f787ec64d3f 0x7f787ec9b0c0 0x7f787ec9e082 0x7f787ec9e243 0x7f786f2d0402 0x7f786366aeb0 0x7f786368b0b5 0x7f786368e9ea 0x7f786368ef69 0x7f786368f2d1 0x7f7863683ce3 0x7f785ed49051 0x7f785eba438d 0x7f785e937087 0x7f785e93791e 0x7f785e937b1d 0x7f7864917bfd 0x7f785ed4ad7c 0x7f785ecd4cec 0x7f786409776e 0x7f78640941f3 0x7f785f426313 0x7f787ebfb609 0x7f787eb20163\n"
     ]
    },
    {
     "name": "stdout",
     "output_type": "stream",
     "text": [
      "187/187 [==============================] - 116s 584ms/step - loss: 3.4458 - accuracy: 0.3779 - val_loss: 0.7801 - val_accuracy: 0.7680\n",
      "Epoch 2/25\n",
      "187/187 [==============================] - 107s 571ms/step - loss: 1.8158 - accuracy: 0.5418 - val_loss: 0.5834 - val_accuracy: 0.8168\n",
      "Epoch 3/25\n",
      "187/187 [==============================] - 107s 574ms/step - loss: 1.4824 - accuracy: 0.5900 - val_loss: 0.5069 - val_accuracy: 0.8372\n",
      "Epoch 4/25\n",
      "187/187 [==============================] - 107s 570ms/step - loss: 1.3678 - accuracy: 0.6177 - val_loss: 0.4730 - val_accuracy: 0.8449\n",
      "Epoch 5/25\n",
      "187/187 [==============================] - 106s 564ms/step - loss: 1.3522 - accuracy: 0.6151 - val_loss: 0.4580 - val_accuracy: 0.8518\n",
      "Epoch 6/25\n",
      "187/187 [==============================] - 107s 571ms/step - loss: 1.2854 - accuracy: 0.6319 - val_loss: 0.4440 - val_accuracy: 0.8559\n",
      "Epoch 7/25\n",
      "187/187 [==============================] - 106s 568ms/step - loss: 1.2907 - accuracy: 0.6320 - val_loss: 0.4350 - val_accuracy: 0.8613\n",
      "Epoch 8/25\n",
      "187/187 [==============================] - 106s 568ms/step - loss: 1.2765 - accuracy: 0.6367 - val_loss: 0.4166 - val_accuracy: 0.8638\n",
      "Epoch 9/25\n",
      "187/187 [==============================] - 106s 567ms/step - loss: 1.2528 - accuracy: 0.6423 - val_loss: 0.4073 - val_accuracy: 0.8650\n",
      "Epoch 10/25\n",
      "187/187 [==============================] - 106s 565ms/step - loss: 1.2332 - accuracy: 0.6439 - val_loss: 0.4086 - val_accuracy: 0.8666\n",
      "Epoch 11/25\n",
      "187/187 [==============================] - 107s 571ms/step - loss: 1.2773 - accuracy: 0.6382 - val_loss: 0.4463 - val_accuracy: 0.8529\n",
      "Epoch 12/25\n",
      "187/187 [==============================] - 106s 568ms/step - loss: 1.2144 - accuracy: 0.6519 - val_loss: 0.3680 - val_accuracy: 0.8776\n",
      "Epoch 13/25\n",
      "187/187 [==============================] - 106s 569ms/step - loss: 1.2408 - accuracy: 0.6451 - val_loss: 0.4021 - val_accuracy: 0.8646\n",
      "Epoch 14/25\n",
      "187/187 [==============================] - 106s 566ms/step - loss: 1.2304 - accuracy: 0.6484 - val_loss: 0.4032 - val_accuracy: 0.8645\n",
      "Epoch 15/25\n",
      "187/187 [==============================] - 106s 565ms/step - loss: 1.2118 - accuracy: 0.6582 - val_loss: 0.3974 - val_accuracy: 0.8686\n",
      "Epoch 16/25\n",
      "187/187 [==============================] - 105s 563ms/step - loss: 1.2121 - accuracy: 0.6596 - val_loss: 0.3996 - val_accuracy: 0.8658\n",
      "Epoch 17/25\n",
      "187/187 [==============================] - 107s 570ms/step - loss: 1.2557 - accuracy: 0.6483 - val_loss: 0.3643 - val_accuracy: 0.8790\n",
      "Epoch 18/25\n",
      "187/187 [==============================] - 106s 565ms/step - loss: 1.2023 - accuracy: 0.6645 - val_loss: 0.3920 - val_accuracy: 0.8671\n",
      "Epoch 19/25\n",
      "187/187 [==============================] - 107s 572ms/step - loss: 1.2015 - accuracy: 0.6611 - val_loss: 0.4045 - val_accuracy: 0.8693\n",
      "Epoch 20/25\n",
      "187/187 [==============================] - 107s 570ms/step - loss: 1.2098 - accuracy: 0.6612 - val_loss: 0.3712 - val_accuracy: 0.8761\n",
      "Epoch 21/25\n",
      "187/187 [==============================] - 108s 576ms/step - loss: 1.2179 - accuracy: 0.6531 - val_loss: 0.3640 - val_accuracy: 0.8806\n",
      "Epoch 22/25\n",
      "187/187 [==============================] - 107s 572ms/step - loss: 1.2240 - accuracy: 0.6620 - val_loss: 0.3898 - val_accuracy: 0.8720\n",
      "Epoch 23/25\n",
      "187/187 [==============================] - 107s 574ms/step - loss: 1.2271 - accuracy: 0.6592 - val_loss: 0.3798 - val_accuracy: 0.8763\n",
      "Epoch 24/25\n",
      "187/187 [==============================] - 107s 569ms/step - loss: 1.2249 - accuracy: 0.6582 - val_loss: 0.4121 - val_accuracy: 0.8702\n",
      "Epoch 25/25\n",
      "187/187 [==============================] - 108s 575ms/step - loss: 1.1933 - accuracy: 0.6639 - val_loss: 0.3889 - val_accuracy: 0.8743\n",
      "Epoch 1/10\n",
      "187/187 [==============================] - 124s 632ms/step - loss: 0.9507 - accuracy: 0.7279 - val_loss: 0.2378 - val_accuracy: 0.9259\n",
      "Epoch 2/10\n",
      "187/187 [==============================] - 119s 636ms/step - loss: 0.8297 - accuracy: 0.7552 - val_loss: 0.2133 - val_accuracy: 0.9317\n",
      "Epoch 3/10\n",
      "187/187 [==============================] - 118s 632ms/step - loss: 0.7504 - accuracy: 0.7725 - val_loss: 0.1938 - val_accuracy: 0.9386\n",
      "Epoch 4/10\n",
      "187/187 [==============================] - 118s 631ms/step - loss: 0.6954 - accuracy: 0.7851 - val_loss: 0.1820 - val_accuracy: 0.9403\n",
      "Epoch 5/10\n",
      "187/187 [==============================] - 118s 631ms/step - loss: 0.6619 - accuracy: 0.7921 - val_loss: 0.1731 - val_accuracy: 0.9462\n",
      "Epoch 6/10\n",
      "187/187 [==============================] - 118s 632ms/step - loss: 0.6337 - accuracy: 0.8019 - val_loss: 0.1544 - val_accuracy: 0.9505\n",
      "Epoch 7/10\n",
      "187/187 [==============================] - 118s 633ms/step - loss: 0.6134 - accuracy: 0.8083 - val_loss: 0.1465 - val_accuracy: 0.9546\n",
      "Epoch 8/10\n",
      "187/187 [==============================] - 119s 638ms/step - loss: 0.5564 - accuracy: 0.8241 - val_loss: 0.1352 - val_accuracy: 0.9590\n",
      "Epoch 9/10\n",
      "187/187 [==============================] - 118s 628ms/step - loss: 0.5399 - accuracy: 0.8332 - val_loss: 0.1263 - val_accuracy: 0.9616\n",
      "Epoch 10/10\n",
      "187/187 [==============================] - 118s 630ms/step - loss: 0.5133 - accuracy: 0.8394 - val_loss: 0.1189 - val_accuracy: 0.9660\n",
      "187/187 [==============================] - 49s 259ms/step - loss: 0.1189 - accuracy: 0.9660\n"
     ]
    },
    {
     "name": "stderr",
     "output_type": "stream",
     "text": [
      "/opt/conda/envs/nanoWithTf/lib/python3.7/site-packages/keras/engine/functional.py:1410: CustomMaskWarning: Custom mask layers require a config and must override get_config. When loading, the custom mask layer must be passed to the custom_objects argument.\n",
      "  layer_config = serialize_layer_fn(layer)\n"
     ]
    }
   ],
   "source": [
    "model_single = build_model(num_classes=NUM_CLASSES)\n",
    "\n",
    "start = time()\n",
    "epochs = 25  # @param {type: \"slider\", min:8, max:80}\n",
    "model_single.fit(ds_train, epochs=epochs, steps_per_epoch=STEPS, validation_data=ds_test, verbose=1)\n",
    "\n",
    "unfreeze_model(model_single)\n",
    "\n",
    "epochs = 10  # @param {type: \"slider\", min:8, max:50}\n",
    "model_single.fit(ds_train, epochs=epochs, steps_per_epoch=STEPS,validation_data=ds_test, verbose=1)\n",
    "fit_time_model_single = time() - start\n",
    "acc_model_single = model_single.evaluate(ds_test, verbose=1)\n",
    "\n",
    "model_single.save(\"EfficientNetB0.h5\")"
   ]
  },
  {
   "cell_type": "markdown",
   "id": "ee11a679",
   "metadata": {},
   "source": [
    "### Multiple processes"
   ]
  },
  {
   "cell_type": "code",
   "execution_count": 9,
   "id": "1e6587b4",
   "metadata": {},
   "outputs": [
    {
     "name": "stderr",
     "output_type": "stream",
     "text": [
      "2022-05-24 12:26:08.107422: W tensorflow/python/util/util.cc:368] Sets are not currently considered sequences, but this may change in the future, so consider avoiding using them.\n"
     ]
    },
    {
     "name": "stdout",
     "output_type": "stream",
     "text": [
      "INFO:tensorflow:Assets written to: /tmp/tmpbx58adkb/temp_model/assets\n"
     ]
    },
    {
     "name": "stderr",
     "output_type": "stream",
     "text": [
      "INFO:tensorflow:Assets written to: /tmp/tmpbx58adkb/temp_model/assets\n",
      "/opt/conda/envs/nanoWithTf/lib/python3.7/site-packages/keras/engine/functional.py:1410: CustomMaskWarning: Custom mask layers require a config and must override get_config. When loading, the custom mask layer must be passed to the custom_objects argument.\n",
      "  layer_config = serialize_layer_fn(layer)\n",
      "/opt/conda/envs/nanoWithTf/lib/python3.7/site-packages/keras/saving/saved_model/layer_serialization.py:112: CustomMaskWarning: Custom mask layers require a config and must override get_config. When loading, the custom mask layer must be passed to the custom_objects argument.\n",
      "  return generic_utils.serialize_keras_object(obj)\n",
      "2022-05-24 12:26:26.770996: I tensorflow/core/platform/cpu_feature_guard.cc:151] This TensorFlow binary is optimized with oneAPI Deep Neural Network Library (oneDNN) to use the following CPU instructions in performance-critical operations:  AVX2 AVX512F FMA\n",
      "To enable them in other operations, rebuild TensorFlow with the appropriate compiler flags.\n",
      "2022-05-24 12:26:26.779921: I tensorflow/core/distributed_runtime/rpc/grpc_channel.cc:272] Initialize GrpcChannelCache for job worker -> {0 -> localhost:53537, 1 -> localhost:49401}\n",
      "2022-05-24 12:26:26.780396: I tensorflow/core/distributed_runtime/rpc/grpc_server_lib.cc:427] Started server with target: grpc://localhost:53537\n",
      "2022-05-24 12:26:26.965525: I tensorflow/core/platform/cpu_feature_guard.cc:151] This TensorFlow binary is optimized with oneAPI Deep Neural Network Library (oneDNN) to use the following CPU instructions in performance-critical operations:  AVX2 AVX512F FMA\n",
      "To enable them in other operations, rebuild TensorFlow with the appropriate compiler flags.\n",
      "2022-05-24 12:26:26.983236: I tensorflow/core/distributed_runtime/rpc/grpc_channel.cc:272] Initialize GrpcChannelCache for job worker -> {0 -> localhost:53537, 1 -> localhost:49401}\n",
      "2022-05-24 12:26:26.983670: I tensorflow/core/distributed_runtime/rpc/grpc_server_lib.cc:427] Started server with target: grpc://localhost:49401\n",
      "2022-05-24 12:26:40.379702: W tensorflow/core/grappler/optimizers/data/auto_shard.cc:537] The `assert_cardinality` transformation is currently not handled by the auto-shard rewrite and will be removed.\n",
      "2022-05-24 12:26:40.385881: W tensorflow/core/grappler/optimizers/data/auto_shard.cc:537] The `assert_cardinality` transformation is currently not handled by the auto-shard rewrite and will be removed.\n",
      "2022-05-24 12:26:40.505711: W tensorflow/core/framework/dataset.cc:744] Input of GeneratorDatasetOp::Dataset will not be optimized because the dataset does not implement the AsGraphDefInternal() method needed to apply optimizations.\n",
      "2022-05-24 12:26:40.506729: W tensorflow/core/framework/dataset.cc:744] Input of GeneratorDatasetOp::Dataset will not be optimized because the dataset does not implement the AsGraphDefInternal() method needed to apply optimizations.\n",
      "tcmalloc: large alloc 1073741824 bytes == 0x5583a7a1e000 @  0x7f9880dded3f 0x7f9880e150c0 0x7f9880e18082 0x7f9880e18243 0x7f987adbb402 0x7f986f155eb0 0x7f986f1760b5 0x7f986f1799ea 0x7f986f179f69 0x7f986f17a2d1 0x7f986f16ece3 0x7f986a834051 0x7f986a68f38d 0x7f986a422087 0x7f986a42291e 0x7f986a422b1d 0x7f9875e13bf5 0x7f986a835d7c 0x7f986a7bc6d5 0x7f986a7b024e 0x7f986fb8276e 0x7f986fb7f1f3 0x7f986af11313 0x7f9880d75609 0x7f9880c9a163\n",
      "tcmalloc: large alloc 1073741824 bytes == 0x55acecbc0000 @  0x7f585ed0ad3f 0x7f585ed410c0 0x7f585ed44082 0x7f585ed44243 0x7f5858ce7402 0x7f584d081eb0 0x7f584d0a20b5 0x7f584d0a59ea 0x7f584d0a5f69 0x7f584d0a62d1 0x7f584d09ace3 0x7f5848760051 0x7f58485bb38d 0x7f584834e087 0x7f584834e91e 0x7f584834eb1d 0x7f5853d3fbf5 0x7f5848761d7c 0x7f58486e86d5 0x7f58486dc24e 0x7f584daae76e 0x7f584daab1f3 0x7f5848e3d313 0x7f585eca1609 0x7f585ebc6163\n"
     ]
    },
    {
     "name": "stdout",
     "output_type": "stream",
     "text": [
      "Epoch 1/25\n",
      "188/187 [==============================] - ETA: 0s - loss: 3.4050 - accuracy: 0.3825"
     ]
    },
    {
     "name": "stderr",
     "output_type": "stream",
     "text": [
      "2022-05-24 12:27:46.894594: W tensorflow/core/grappler/optimizers/data/auto_shard.cc:537] The `assert_cardinality` transformation is currently not handled by the auto-shard rewrite and will be removed.\n",
      "2022-05-24 12:27:46.895898: W tensorflow/core/grappler/optimizers/data/auto_shard.cc:537] The `assert_cardinality` transformation is currently not handled by the auto-shard rewrite and will be removed.\n",
      "2022-05-24 12:27:46.976849: W tensorflow/core/framework/dataset.cc:744] Input of GeneratorDatasetOp::Dataset will not be optimized because the dataset does not implement the AsGraphDefInternal() method needed to apply optimizations.\n",
      "2022-05-24 12:27:46.978746: W tensorflow/core/framework/dataset.cc:744] Input of GeneratorDatasetOp::Dataset will not be optimized because the dataset does not implement the AsGraphDefInternal() method needed to apply optimizations.\n",
      "WARNING:tensorflow:Your input ran out of data; interrupting training. Make sure that your dataset or generator can generate at least `steps_per_epoch * epochs` batches (in this case, 187 batches). You may need to use the repeat() function when building your dataset.\n",
      "WARNING:tensorflow:Your input ran out of data; interrupting training. Make sure that your dataset or generator can generate at least `steps_per_epoch * epochs` batches (in this case, 187 batches). You may need to use the repeat() function when building your dataset.\n"
     ]
    },
    {
     "name": "stdout",
     "output_type": "stream",
     "text": [
      "187/187 [==============================] - 105s 509ms/step - loss: 3.4050 - accuracy: 0.3825 - val_loss: 0.7525 - val_accuracy: 0.7694\n",
      "Epoch 2/25\n",
      "187/187 [==============================] - 42s 222ms/step - loss: 1.8490 - accuracy: 0.5317\n"
     ]
    },
    {
     "name": "stderr",
     "output_type": "stream",
     "text": [
      "2022-05-24 12:29:07.292133: W tensorflow/core/framework/dataset.cc:744] Input of GeneratorDatasetOp::Dataset will not be optimized because the dataset does not implement the AsGraphDefInternal() method needed to apply optimizations.\n",
      "2022-05-24 12:29:07.295382: W tensorflow/core/framework/dataset.cc:744] Input of GeneratorDatasetOp::Dataset will not be optimized because the dataset does not implement the AsGraphDefInternal() method needed to apply optimizations.\n"
     ]
    },
    {
     "name": "stdout",
     "output_type": "stream",
     "text": [
      "Epoch 3/25\n",
      "187/187 [==============================] - 40s 213ms/step - loss: 1.5218 - accuracy: 0.5818\n"
     ]
    },
    {
     "name": "stderr",
     "output_type": "stream",
     "text": [
      "2022-05-24 12:29:47.137757: W tensorflow/core/framework/dataset.cc:744] Input of GeneratorDatasetOp::Dataset will not be optimized because the dataset does not implement the AsGraphDefInternal() method needed to apply optimizations.\n",
      "2022-05-24 12:29:47.144971: W tensorflow/core/framework/dataset.cc:744] Input of GeneratorDatasetOp::Dataset will not be optimized because the dataset does not implement the AsGraphDefInternal() method needed to apply optimizations.\n"
     ]
    },
    {
     "name": "stdout",
     "output_type": "stream",
     "text": [
      "Epoch 4/25\n",
      "187/187 [==============================] - 40s 212ms/step - loss: 1.4397 - accuracy: 0.5968\n"
     ]
    },
    {
     "name": "stderr",
     "output_type": "stream",
     "text": [
      "2022-05-24 12:30:26.851172: W tensorflow/core/framework/dataset.cc:744] Input of GeneratorDatasetOp::Dataset will not be optimized because the dataset does not implement the AsGraphDefInternal() method needed to apply optimizations.\n",
      "2022-05-24 12:30:26.854465: W tensorflow/core/framework/dataset.cc:744] Input of GeneratorDatasetOp::Dataset will not be optimized because the dataset does not implement the AsGraphDefInternal() method needed to apply optimizations.\n"
     ]
    },
    {
     "name": "stdout",
     "output_type": "stream",
     "text": [
      "Epoch 5/25\n",
      "187/187 [==============================] - 39s 211ms/step - loss: 1.4003 - accuracy: 0.6035\n"
     ]
    },
    {
     "name": "stderr",
     "output_type": "stream",
     "text": [
      "2022-05-24 12:31:06.375512: W tensorflow/core/framework/dataset.cc:744] Input of GeneratorDatasetOp::Dataset will not be optimized because the dataset does not implement the AsGraphDefInternal() method needed to apply optimizations.\n",
      "2022-05-24 12:31:06.378575: W tensorflow/core/framework/dataset.cc:744] Input of GeneratorDatasetOp::Dataset will not be optimized because the dataset does not implement the AsGraphDefInternal() method needed to apply optimizations.\n"
     ]
    },
    {
     "name": "stdout",
     "output_type": "stream",
     "text": [
      "Epoch 6/25\n",
      "187/187 [==============================] - 40s 211ms/step - loss: 1.3370 - accuracy: 0.6243\n"
     ]
    },
    {
     "name": "stderr",
     "output_type": "stream",
     "text": [
      "2022-05-24 12:31:45.911236: W tensorflow/core/framework/dataset.cc:744] Input of GeneratorDatasetOp::Dataset will not be optimized because the dataset does not implement the AsGraphDefInternal() method needed to apply optimizations.\n",
      "2022-05-24 12:31:45.932201: W tensorflow/core/framework/dataset.cc:744] Input of GeneratorDatasetOp::Dataset will not be optimized because the dataset does not implement the AsGraphDefInternal() method needed to apply optimizations.\n"
     ]
    },
    {
     "name": "stdout",
     "output_type": "stream",
     "text": [
      "Epoch 7/25\n",
      "187/187 [==============================] - 39s 209ms/step - loss: 1.3108 - accuracy: 0.6229\n"
     ]
    },
    {
     "name": "stderr",
     "output_type": "stream",
     "text": [
      "2022-05-24 12:32:25.000469: W tensorflow/core/framework/dataset.cc:744] Input of GeneratorDatasetOp::Dataset will not be optimized because the dataset does not implement the AsGraphDefInternal() method needed to apply optimizations.\n",
      "2022-05-24 12:32:25.019323: W tensorflow/core/framework/dataset.cc:744] Input of GeneratorDatasetOp::Dataset will not be optimized because the dataset does not implement the AsGraphDefInternal() method needed to apply optimizations.\n"
     ]
    },
    {
     "name": "stdout",
     "output_type": "stream",
     "text": [
      "Epoch 8/25\n",
      "187/187 [==============================] - 40s 212ms/step - loss: 1.3279 - accuracy: 0.6231\n"
     ]
    },
    {
     "name": "stderr",
     "output_type": "stream",
     "text": [
      "2022-05-24 12:33:04.777924: W tensorflow/core/framework/dataset.cc:744] Input of GeneratorDatasetOp::Dataset will not be optimized because the dataset does not implement the AsGraphDefInternal() method needed to apply optimizations.\n",
      "2022-05-24 12:33:04.803973: W tensorflow/core/framework/dataset.cc:744] Input of GeneratorDatasetOp::Dataset will not be optimized because the dataset does not implement the AsGraphDefInternal() method needed to apply optimizations.\n"
     ]
    },
    {
     "name": "stdout",
     "output_type": "stream",
     "text": [
      "Epoch 9/25\n",
      "187/187 [==============================] - 39s 209ms/step - loss: 1.3182 - accuracy: 0.6273\n"
     ]
    },
    {
     "name": "stderr",
     "output_type": "stream",
     "text": [
      "2022-05-24 12:33:43.921737: W tensorflow/core/framework/dataset.cc:744] Input of GeneratorDatasetOp::Dataset will not be optimized because the dataset does not implement the AsGraphDefInternal() method needed to apply optimizations.\n",
      "2022-05-24 12:33:43.933067: W tensorflow/core/framework/dataset.cc:744] Input of GeneratorDatasetOp::Dataset will not be optimized because the dataset does not implement the AsGraphDefInternal() method needed to apply optimizations.\n"
     ]
    },
    {
     "name": "stdout",
     "output_type": "stream",
     "text": [
      "Epoch 10/25\n",
      "187/187 [==============================] - 40s 213ms/step - loss: 1.3234 - accuracy: 0.6295\n"
     ]
    },
    {
     "name": "stderr",
     "output_type": "stream",
     "text": [
      "2022-05-24 12:34:23.860942: W tensorflow/core/framework/dataset.cc:744] Input of GeneratorDatasetOp::Dataset will not be optimized because the dataset does not implement the AsGraphDefInternal() method needed to apply optimizations.\n",
      "2022-05-24 12:34:23.875494: W tensorflow/core/framework/dataset.cc:744] Input of GeneratorDatasetOp::Dataset will not be optimized because the dataset does not implement the AsGraphDefInternal() method needed to apply optimizations.\n"
     ]
    },
    {
     "name": "stdout",
     "output_type": "stream",
     "text": [
      "Epoch 11/25\n",
      "187/187 [==============================] - 40s 212ms/step - loss: 1.2660 - accuracy: 0.6394\n"
     ]
    },
    {
     "name": "stderr",
     "output_type": "stream",
     "text": [
      "2022-05-24 12:35:03.595517: W tensorflow/core/framework/dataset.cc:744] Input of GeneratorDatasetOp::Dataset will not be optimized because the dataset does not implement the AsGraphDefInternal() method needed to apply optimizations.\n",
      "2022-05-24 12:35:03.610060: W tensorflow/core/framework/dataset.cc:744] Input of GeneratorDatasetOp::Dataset will not be optimized because the dataset does not implement the AsGraphDefInternal() method needed to apply optimizations.\n"
     ]
    },
    {
     "name": "stdout",
     "output_type": "stream",
     "text": [
      "Epoch 12/25\n",
      "187/187 [==============================] - 40s 211ms/step - loss: 1.2580 - accuracy: 0.6447\n"
     ]
    },
    {
     "name": "stderr",
     "output_type": "stream",
     "text": [
      "2022-05-24 12:35:43.164454: W tensorflow/core/framework/dataset.cc:744] Input of GeneratorDatasetOp::Dataset will not be optimized because the dataset does not implement the AsGraphDefInternal() method needed to apply optimizations.\n",
      "2022-05-24 12:35:43.168934: W tensorflow/core/framework/dataset.cc:744] Input of GeneratorDatasetOp::Dataset will not be optimized because the dataset does not implement the AsGraphDefInternal() method needed to apply optimizations.\n"
     ]
    },
    {
     "name": "stdout",
     "output_type": "stream",
     "text": [
      "Epoch 13/25\n",
      "187/187 [==============================] - 39s 210ms/step - loss: 1.2905 - accuracy: 0.6374\n"
     ]
    },
    {
     "name": "stderr",
     "output_type": "stream",
     "text": [
      "2022-05-24 12:36:22.495723: W tensorflow/core/framework/dataset.cc:744] Input of GeneratorDatasetOp::Dataset will not be optimized because the dataset does not implement the AsGraphDefInternal() method needed to apply optimizations.\n",
      "2022-05-24 12:36:22.509572: W tensorflow/core/framework/dataset.cc:744] Input of GeneratorDatasetOp::Dataset will not be optimized because the dataset does not implement the AsGraphDefInternal() method needed to apply optimizations.\n"
     ]
    },
    {
     "name": "stdout",
     "output_type": "stream",
     "text": [
      "Epoch 14/25\n",
      "187/187 [==============================] - 40s 213ms/step - loss: 1.2735 - accuracy: 0.6402\n"
     ]
    },
    {
     "name": "stderr",
     "output_type": "stream",
     "text": [
      "2022-05-24 12:37:02.363104: W tensorflow/core/framework/dataset.cc:744] Input of GeneratorDatasetOp::Dataset will not be optimized because the dataset does not implement the AsGraphDefInternal() method needed to apply optimizations.\n",
      "2022-05-24 12:37:02.386006: W tensorflow/core/framework/dataset.cc:744] Input of GeneratorDatasetOp::Dataset will not be optimized because the dataset does not implement the AsGraphDefInternal() method needed to apply optimizations.\n"
     ]
    },
    {
     "name": "stdout",
     "output_type": "stream",
     "text": [
      "Epoch 15/25\n",
      "187/187 [==============================] - 40s 214ms/step - loss: 1.2818 - accuracy: 0.6406\n"
     ]
    },
    {
     "name": "stderr",
     "output_type": "stream",
     "text": [
      "2022-05-24 12:37:42.498055: W tensorflow/core/framework/dataset.cc:744] Input of GeneratorDatasetOp::Dataset will not be optimized because the dataset does not implement the AsGraphDefInternal() method needed to apply optimizations.\n",
      "2022-05-24 12:37:42.499523: W tensorflow/core/framework/dataset.cc:744] Input of GeneratorDatasetOp::Dataset will not be optimized because the dataset does not implement the AsGraphDefInternal() method needed to apply optimizations.\n"
     ]
    },
    {
     "name": "stdout",
     "output_type": "stream",
     "text": [
      "Epoch 16/25\n",
      "187/187 [==============================] - 40s 212ms/step - loss: 1.2609 - accuracy: 0.6472\n"
     ]
    },
    {
     "name": "stderr",
     "output_type": "stream",
     "text": [
      "2022-05-24 12:38:22.199365: W tensorflow/core/framework/dataset.cc:744] Input of GeneratorDatasetOp::Dataset will not be optimized because the dataset does not implement the AsGraphDefInternal() method needed to apply optimizations.\n",
      "2022-05-24 12:38:22.214211: W tensorflow/core/framework/dataset.cc:744] Input of GeneratorDatasetOp::Dataset will not be optimized because the dataset does not implement the AsGraphDefInternal() method needed to apply optimizations.\n"
     ]
    },
    {
     "name": "stdout",
     "output_type": "stream",
     "text": [
      "Epoch 17/25\n",
      "187/187 [==============================] - 39s 211ms/step - loss: 1.2673 - accuracy: 0.6452\n"
     ]
    },
    {
     "name": "stderr",
     "output_type": "stream",
     "text": [
      "2022-05-24 12:39:01.702932: W tensorflow/core/framework/dataset.cc:744] Input of GeneratorDatasetOp::Dataset will not be optimized because the dataset does not implement the AsGraphDefInternal() method needed to apply optimizations.\n",
      "2022-05-24 12:39:01.725192: W tensorflow/core/framework/dataset.cc:744] Input of GeneratorDatasetOp::Dataset will not be optimized because the dataset does not implement the AsGraphDefInternal() method needed to apply optimizations.\n"
     ]
    },
    {
     "name": "stdout",
     "output_type": "stream",
     "text": [
      "Epoch 18/25\n",
      "187/187 [==============================] - 40s 213ms/step - loss: 1.2570 - accuracy: 0.6470\n"
     ]
    },
    {
     "name": "stderr",
     "output_type": "stream",
     "text": [
      "2022-05-24 12:39:41.674519: W tensorflow/core/framework/dataset.cc:744] Input of GeneratorDatasetOp::Dataset will not be optimized because the dataset does not implement the AsGraphDefInternal() method needed to apply optimizations.\n",
      "2022-05-24 12:39:41.690605: W tensorflow/core/framework/dataset.cc:744] Input of GeneratorDatasetOp::Dataset will not be optimized because the dataset does not implement the AsGraphDefInternal() method needed to apply optimizations.\n"
     ]
    },
    {
     "name": "stdout",
     "output_type": "stream",
     "text": [
      "Epoch 19/25\n",
      "187/187 [==============================] - 39s 211ms/step - loss: 1.2413 - accuracy: 0.6494\n"
     ]
    },
    {
     "name": "stderr",
     "output_type": "stream",
     "text": [
      "2022-05-24 12:40:21.185033: W tensorflow/core/framework/dataset.cc:744] Input of GeneratorDatasetOp::Dataset will not be optimized because the dataset does not implement the AsGraphDefInternal() method needed to apply optimizations.\n",
      "2022-05-24 12:40:21.188523: W tensorflow/core/framework/dataset.cc:744] Input of GeneratorDatasetOp::Dataset will not be optimized because the dataset does not implement the AsGraphDefInternal() method needed to apply optimizations.\n"
     ]
    },
    {
     "name": "stdout",
     "output_type": "stream",
     "text": [
      "Epoch 20/25\n",
      "187/187 [==============================] - 40s 213ms/step - loss: 1.2535 - accuracy: 0.6445\n"
     ]
    },
    {
     "name": "stderr",
     "output_type": "stream",
     "text": [
      "2022-05-24 12:41:01.052651: W tensorflow/core/framework/dataset.cc:744] Input of GeneratorDatasetOp::Dataset will not be optimized because the dataset does not implement the AsGraphDefInternal() method needed to apply optimizations.\n",
      "2022-05-24 12:41:01.053407: W tensorflow/core/framework/dataset.cc:744] Input of GeneratorDatasetOp::Dataset will not be optimized because the dataset does not implement the AsGraphDefInternal() method needed to apply optimizations.\n"
     ]
    },
    {
     "name": "stdout",
     "output_type": "stream",
     "text": [
      "Epoch 21/25\n",
      "187/187 [==============================] - 39s 211ms/step - loss: 1.2688 - accuracy: 0.6495\n"
     ]
    },
    {
     "name": "stderr",
     "output_type": "stream",
     "text": [
      "2022-05-24 12:41:40.513596: W tensorflow/core/framework/dataset.cc:744] Input of GeneratorDatasetOp::Dataset will not be optimized because the dataset does not implement the AsGraphDefInternal() method needed to apply optimizations.\n",
      "2022-05-24 12:41:40.516969: W tensorflow/core/framework/dataset.cc:744] Input of GeneratorDatasetOp::Dataset will not be optimized because the dataset does not implement the AsGraphDefInternal() method needed to apply optimizations.\n"
     ]
    },
    {
     "name": "stdout",
     "output_type": "stream",
     "text": [
      "Epoch 22/25\n",
      "187/187 [==============================] - 39s 211ms/step - loss: 1.2657 - accuracy: 0.6489\n"
     ]
    },
    {
     "name": "stderr",
     "output_type": "stream",
     "text": [
      "2022-05-24 12:42:20.022391: W tensorflow/core/framework/dataset.cc:744] Input of GeneratorDatasetOp::Dataset will not be optimized because the dataset does not implement the AsGraphDefInternal() method needed to apply optimizations.\n",
      "2022-05-24 12:42:20.029482: W tensorflow/core/framework/dataset.cc:744] Input of GeneratorDatasetOp::Dataset will not be optimized because the dataset does not implement the AsGraphDefInternal() method needed to apply optimizations.\n"
     ]
    },
    {
     "name": "stdout",
     "output_type": "stream",
     "text": [
      "Epoch 23/25\n",
      "187/187 [==============================] - 39s 209ms/step - loss: 1.2204 - accuracy: 0.6681\n"
     ]
    },
    {
     "name": "stderr",
     "output_type": "stream",
     "text": [
      "2022-05-24 12:42:59.196272: W tensorflow/core/framework/dataset.cc:744] Input of GeneratorDatasetOp::Dataset will not be optimized because the dataset does not implement the AsGraphDefInternal() method needed to apply optimizations.\n",
      "2022-05-24 12:42:59.196881: W tensorflow/core/framework/dataset.cc:744] Input of GeneratorDatasetOp::Dataset will not be optimized because the dataset does not implement the AsGraphDefInternal() method needed to apply optimizations.\n"
     ]
    },
    {
     "name": "stdout",
     "output_type": "stream",
     "text": [
      "Epoch 24/25\n",
      "187/187 [==============================] - 40s 213ms/step - loss: 1.2871 - accuracy: 0.6419\n"
     ]
    },
    {
     "name": "stderr",
     "output_type": "stream",
     "text": [
      "2022-05-24 12:43:39.127823: W tensorflow/core/framework/dataset.cc:744] Input of GeneratorDatasetOp::Dataset will not be optimized because the dataset does not implement the AsGraphDefInternal() method needed to apply optimizations.\n",
      "2022-05-24 12:43:39.147646: W tensorflow/core/framework/dataset.cc:744] Input of GeneratorDatasetOp::Dataset will not be optimized because the dataset does not implement the AsGraphDefInternal() method needed to apply optimizations.\n"
     ]
    },
    {
     "name": "stdout",
     "output_type": "stream",
     "text": [
      "Epoch 25/25\n",
      "187/187 [==============================] - 40s 211ms/step - loss: 1.2393 - accuracy: 0.6555\n"
     ]
    },
    {
     "name": "stderr",
     "output_type": "stream",
     "text": [
      "2022-05-24 12:44:18.675124: W tensorflow/core/framework/dataset.cc:744] Input of GeneratorDatasetOp::Dataset will not be optimized because the dataset does not implement the AsGraphDefInternal() method needed to apply optimizations.\n",
      "2022-05-24 12:44:18.678041: W tensorflow/core/framework/dataset.cc:744] Input of GeneratorDatasetOp::Dataset will not be optimized because the dataset does not implement the AsGraphDefInternal() method needed to apply optimizations.\n",
      "2022-05-24 12:44:27.131151: W tensorflow/python/util/util.cc:368] Sets are not currently considered sequences, but this may change in the future, so consider avoiding using them.\n",
      "2022-05-24 12:44:27.176825: W tensorflow/python/util/util.cc:368] Sets are not currently considered sequences, but this may change in the future, so consider avoiding using them.\n",
      "/opt/conda/envs/nanoWithTf/lib/python3.7/site-packages/keras/engine/functional.py:1410: CustomMaskWarning: Custom mask layers require a config and must override get_config. When loading, the custom mask layer must be passed to the custom_objects argument.\n",
      "  layer_config = serialize_layer_fn(layer)\n",
      "/opt/conda/envs/nanoWithTf/lib/python3.7/site-packages/keras/saving/saved_model/layer_serialization.py:112: CustomMaskWarning: Custom mask layers require a config and must override get_config. When loading, the custom mask layer must be passed to the custom_objects argument.\n",
      "  return generic_utils.serialize_keras_object(obj)\n",
      "/opt/conda/envs/nanoWithTf/lib/python3.7/site-packages/keras/engine/functional.py:1410: CustomMaskWarning: Custom mask layers require a config and must override get_config. When loading, the custom mask layer must be passed to the custom_objects argument.\n",
      "  layer_config = serialize_layer_fn(layer)\n",
      "/opt/conda/envs/nanoWithTf/lib/python3.7/site-packages/keras/saving/saved_model/layer_serialization.py:112: CustomMaskWarning: Custom mask layers require a config and must override get_config. When loading, the custom mask layer must be passed to the custom_objects argument.\n",
      "  return generic_utils.serialize_keras_object(obj)\n"
     ]
    },
    {
     "name": "stdout",
     "output_type": "stream",
     "text": [
      "INFO:tensorflow:Assets written to: /tmp/tmpl_0jbtkn/temp_model/assets\n"
     ]
    },
    {
     "name": "stderr",
     "output_type": "stream",
     "text": [
      "INFO:tensorflow:Assets written to: /tmp/tmpl_0jbtkn/temp_model/assets\n",
      "/opt/conda/envs/nanoWithTf/lib/python3.7/site-packages/keras/engine/functional.py:1410: CustomMaskWarning: Custom mask layers require a config and must override get_config. When loading, the custom mask layer must be passed to the custom_objects argument.\n",
      "  layer_config = serialize_layer_fn(layer)\n",
      "/opt/conda/envs/nanoWithTf/lib/python3.7/site-packages/keras/saving/saved_model/layer_serialization.py:112: CustomMaskWarning: Custom mask layers require a config and must override get_config. When loading, the custom mask layer must be passed to the custom_objects argument.\n",
      "  return generic_utils.serialize_keras_object(obj)\n",
      "2022-05-24 12:45:40.500341: I tensorflow/core/platform/cpu_feature_guard.cc:151] This TensorFlow binary is optimized with oneAPI Deep Neural Network Library (oneDNN) to use the following CPU instructions in performance-critical operations:  AVX2 AVX512F FMA\n",
      "To enable them in other operations, rebuild TensorFlow with the appropriate compiler flags.\n",
      "2022-05-24 12:45:40.508890: I tensorflow/core/distributed_runtime/rpc/grpc_channel.cc:272] Initialize GrpcChannelCache for job worker -> {0 -> localhost:44939, 1 -> localhost:43503}\n",
      "2022-05-24 12:45:40.509376: I tensorflow/core/distributed_runtime/rpc/grpc_server_lib.cc:427] Started server with target: grpc://localhost:44939\n",
      "2022-05-24 12:45:40.713656: I tensorflow/core/platform/cpu_feature_guard.cc:151] This TensorFlow binary is optimized with oneAPI Deep Neural Network Library (oneDNN) to use the following CPU instructions in performance-critical operations:  AVX2 AVX512F FMA\n",
      "To enable them in other operations, rebuild TensorFlow with the appropriate compiler flags.\n",
      "2022-05-24 12:45:40.722596: I tensorflow/core/distributed_runtime/rpc/grpc_channel.cc:272] Initialize GrpcChannelCache for job worker -> {0 -> localhost:44939, 1 -> localhost:43503}\n",
      "2022-05-24 12:45:40.723547: I tensorflow/core/distributed_runtime/rpc/grpc_server_lib.cc:427] Started server with target: grpc://localhost:43503\n",
      "2022-05-24 12:45:54.674710: W tensorflow/core/grappler/optimizers/data/auto_shard.cc:537] The `assert_cardinality` transformation is currently not handled by the auto-shard rewrite and will be removed.\n",
      "2022-05-24 12:45:54.674971: W tensorflow/core/grappler/optimizers/data/auto_shard.cc:537] The `assert_cardinality` transformation is currently not handled by the auto-shard rewrite and will be removed.\n",
      "2022-05-24 12:45:54.801638: W tensorflow/core/framework/dataset.cc:744] Input of GeneratorDatasetOp::Dataset will not be optimized because the dataset does not implement the AsGraphDefInternal() method needed to apply optimizations.\n",
      "2022-05-24 12:45:54.802186: W tensorflow/core/framework/dataset.cc:744] Input of GeneratorDatasetOp::Dataset will not be optimized because the dataset does not implement the AsGraphDefInternal() method needed to apply optimizations.\n",
      "tcmalloc: large alloc 1073741824 bytes == 0x56387ba00000 @  0x7fa4ee705d3f 0x7fa4ee73c0c0 0x7fa4ee73f082 0x7fa4ee73f243 0x7fa4e86e2402 0x7fa4dca7ceb0 0x7fa4dca9d0b5 0x7fa4dcaa09ea 0x7fa4dcaa0f69 0x7fa4dcaa12d1 0x7fa4dca95ce3 0x7fa4d815b051 0x7fa4d7fb638d 0x7fa4d7d49087 0x7fa4d7d4991e 0x7fa4d7d49b1d 0x7fa4e0c9cc92 0x7fa4e0cb56d8 0x7fa4e0d09e3e 0x7fa4d815cd7c 0x7fa4d80e36d5 0x7fa4d80d724e 0x7fa4dd4a976e 0x7fa4dd4a61f3 0x7fa4d8838313 0x7fa4ee69c609 0x7fa4ee5c1163\n",
      "tcmalloc: large alloc 1073741824 bytes == 0x55b25eece000 @  0x7f6aea851d3f 0x7f6aea8880c0 0x7f6aea88b082 0x7f6aea88b243 0x7f6ae482e402 0x7f6ad8bc8eb0 0x7f6ad8be90b5 0x7f6ad8bec9ea 0x7f6ad8becf69 0x7f6ad8bed2d1 0x7f6ad8be1ce3 0x7f6ad42a7051 0x7f6ad410238d 0x7f6ad3e95087 0x7f6ad3e9591e 0x7f6ad3e95b1d 0x7f6adf886bf5 0x7f6ad42a8d7c 0x7f6ad422f6d5 0x7f6ad422324e 0x7f6ad95f576e 0x7f6ad95f21f3 0x7f6ad4984313 0x7f6aea7e8609 0x7f6aea70d163\n"
     ]
    },
    {
     "name": "stdout",
     "output_type": "stream",
     "text": [
      "Epoch 1/10\n",
      "188/187 [==============================] - ETA: 0s - loss: 0.9734 - accuracy: 0.7158"
     ]
    },
    {
     "name": "stderr",
     "output_type": "stream",
     "text": [
      "2022-05-24 12:47:10.852660: W tensorflow/core/grappler/optimizers/data/auto_shard.cc:537] The `assert_cardinality` transformation is currently not handled by the auto-shard rewrite and will be removed.\n",
      "2022-05-24 12:47:10.861563: W tensorflow/core/grappler/optimizers/data/auto_shard.cc:537] The `assert_cardinality` transformation is currently not handled by the auto-shard rewrite and will be removed.\n",
      "2022-05-24 12:47:10.944256: W tensorflow/core/framework/dataset.cc:744] Input of GeneratorDatasetOp::Dataset will not be optimized because the dataset does not implement the AsGraphDefInternal() method needed to apply optimizations.\n",
      "2022-05-24 12:47:10.952850: W tensorflow/core/framework/dataset.cc:744] Input of GeneratorDatasetOp::Dataset will not be optimized because the dataset does not implement the AsGraphDefInternal() method needed to apply optimizations.\n",
      "WARNING:tensorflow:Your input ran out of data; interrupting training. Make sure that your dataset or generator can generate at least `steps_per_epoch * epochs` batches (in this case, 187 batches). You may need to use the repeat() function when building your dataset.\n",
      "WARNING:tensorflow:Your input ran out of data; interrupting training. Make sure that your dataset or generator can generate at least `steps_per_epoch * epochs` batches (in this case, 187 batches). You may need to use the repeat() function when building your dataset.\n"
     ]
    },
    {
     "name": "stdout",
     "output_type": "stream",
     "text": [
      "187/187 [==============================] - 122s 596ms/step - loss: 0.9734 - accuracy: 0.7158 - val_loss: 0.2604 - val_accuracy: 0.9157\n",
      "Epoch 2/10\n",
      "187/187 [==============================] - 51s 272ms/step - loss: 0.8550 - accuracy: 0.7440\n"
     ]
    },
    {
     "name": "stderr",
     "output_type": "stream",
     "text": [
      "2022-05-24 12:48:47.973745: W tensorflow/core/framework/dataset.cc:744] Input of GeneratorDatasetOp::Dataset will not be optimized because the dataset does not implement the AsGraphDefInternal() method needed to apply optimizations.\n",
      "2022-05-24 12:48:47.975028: W tensorflow/core/framework/dataset.cc:744] Input of GeneratorDatasetOp::Dataset will not be optimized because the dataset does not implement the AsGraphDefInternal() method needed to apply optimizations.\n"
     ]
    },
    {
     "name": "stdout",
     "output_type": "stream",
     "text": [
      "Epoch 3/10\n",
      "187/187 [==============================] - 49s 261ms/step - loss: 0.8239 - accuracy: 0.7513\n"
     ]
    },
    {
     "name": "stderr",
     "output_type": "stream",
     "text": [
      "2022-05-24 12:49:36.948485: W tensorflow/core/framework/dataset.cc:744] Input of GeneratorDatasetOp::Dataset will not be optimized because the dataset does not implement the AsGraphDefInternal() method needed to apply optimizations.\n",
      "2022-05-24 12:49:36.959055: W tensorflow/core/framework/dataset.cc:744] Input of GeneratorDatasetOp::Dataset will not be optimized because the dataset does not implement the AsGraphDefInternal() method needed to apply optimizations.\n"
     ]
    },
    {
     "name": "stdout",
     "output_type": "stream",
     "text": [
      "Epoch 4/10\n",
      "187/187 [==============================] - 48s 257ms/step - loss: 0.7494 - accuracy: 0.7686\n"
     ]
    },
    {
     "name": "stderr",
     "output_type": "stream",
     "text": [
      "2022-05-24 12:50:25.119863: W tensorflow/core/framework/dataset.cc:744] Input of GeneratorDatasetOp::Dataset will not be optimized because the dataset does not implement the AsGraphDefInternal() method needed to apply optimizations.\n",
      "2022-05-24 12:50:25.128540: W tensorflow/core/framework/dataset.cc:744] Input of GeneratorDatasetOp::Dataset will not be optimized because the dataset does not implement the AsGraphDefInternal() method needed to apply optimizations.\n"
     ]
    },
    {
     "name": "stdout",
     "output_type": "stream",
     "text": [
      "Epoch 5/10\n",
      "187/187 [==============================] - 47s 250ms/step - loss: 0.7127 - accuracy: 0.7822\n"
     ]
    },
    {
     "name": "stderr",
     "output_type": "stream",
     "text": [
      "2022-05-24 12:51:11.940574: W tensorflow/core/framework/dataset.cc:744] Input of GeneratorDatasetOp::Dataset will not be optimized because the dataset does not implement the AsGraphDefInternal() method needed to apply optimizations.\n",
      "2022-05-24 12:51:11.952132: W tensorflow/core/framework/dataset.cc:744] Input of GeneratorDatasetOp::Dataset will not be optimized because the dataset does not implement the AsGraphDefInternal() method needed to apply optimizations.\n"
     ]
    },
    {
     "name": "stdout",
     "output_type": "stream",
     "text": [
      "Epoch 6/10\n",
      "187/187 [==============================] - 47s 253ms/step - loss: 0.6939 - accuracy: 0.7872\n"
     ]
    },
    {
     "name": "stderr",
     "output_type": "stream",
     "text": [
      "2022-05-24 12:51:59.307261: W tensorflow/core/framework/dataset.cc:744] Input of GeneratorDatasetOp::Dataset will not be optimized because the dataset does not implement the AsGraphDefInternal() method needed to apply optimizations.\n",
      "2022-05-24 12:51:59.318497: W tensorflow/core/framework/dataset.cc:744] Input of GeneratorDatasetOp::Dataset will not be optimized because the dataset does not implement the AsGraphDefInternal() method needed to apply optimizations.\n"
     ]
    },
    {
     "name": "stdout",
     "output_type": "stream",
     "text": [
      "Epoch 7/10\n",
      "187/187 [==============================] - 47s 250ms/step - loss: 0.6514 - accuracy: 0.7979\n"
     ]
    },
    {
     "name": "stderr",
     "output_type": "stream",
     "text": [
      "2022-05-24 12:52:46.267516: W tensorflow/core/framework/dataset.cc:744] Input of GeneratorDatasetOp::Dataset will not be optimized because the dataset does not implement the AsGraphDefInternal() method needed to apply optimizations.\n",
      "2022-05-24 12:52:46.278612: W tensorflow/core/framework/dataset.cc:744] Input of GeneratorDatasetOp::Dataset will not be optimized because the dataset does not implement the AsGraphDefInternal() method needed to apply optimizations.\n"
     ]
    },
    {
     "name": "stdout",
     "output_type": "stream",
     "text": [
      "Epoch 8/10\n",
      "187/187 [==============================] - 48s 254ms/step - loss: 0.6180 - accuracy: 0.8055\n"
     ]
    },
    {
     "name": "stderr",
     "output_type": "stream",
     "text": [
      "2022-05-24 12:53:33.812059: W tensorflow/core/framework/dataset.cc:744] Input of GeneratorDatasetOp::Dataset will not be optimized because the dataset does not implement the AsGraphDefInternal() method needed to apply optimizations.\n",
      "2022-05-24 12:53:33.816076: W tensorflow/core/framework/dataset.cc:744] Input of GeneratorDatasetOp::Dataset will not be optimized because the dataset does not implement the AsGraphDefInternal() method needed to apply optimizations.\n"
     ]
    },
    {
     "name": "stdout",
     "output_type": "stream",
     "text": [
      "Epoch 9/10\n",
      "187/187 [==============================] - 47s 252ms/step - loss: 0.5965 - accuracy: 0.8130\n"
     ]
    },
    {
     "name": "stderr",
     "output_type": "stream",
     "text": [
      "2022-05-24 12:54:21.123385: W tensorflow/core/framework/dataset.cc:744] Input of GeneratorDatasetOp::Dataset will not be optimized because the dataset does not implement the AsGraphDefInternal() method needed to apply optimizations.\n",
      "2022-05-24 12:54:21.123483: W tensorflow/core/framework/dataset.cc:744] Input of GeneratorDatasetOp::Dataset will not be optimized because the dataset does not implement the AsGraphDefInternal() method needed to apply optimizations.\n"
     ]
    },
    {
     "name": "stdout",
     "output_type": "stream",
     "text": [
      "Epoch 10/10\n",
      "187/187 [==============================] - 47s 253ms/step - loss: 0.5572 - accuracy: 0.8201\n"
     ]
    },
    {
     "name": "stderr",
     "output_type": "stream",
     "text": [
      "2022-05-24 12:55:08.532962: W tensorflow/core/framework/dataset.cc:744] Input of GeneratorDatasetOp::Dataset will not be optimized because the dataset does not implement the AsGraphDefInternal() method needed to apply optimizations.\n",
      "2022-05-24 12:55:08.545862: W tensorflow/core/framework/dataset.cc:744] Input of GeneratorDatasetOp::Dataset will not be optimized because the dataset does not implement the AsGraphDefInternal() method needed to apply optimizations.\n",
      "2022-05-24 12:55:16.987224: W tensorflow/python/util/util.cc:368] Sets are not currently considered sequences, but this may change in the future, so consider avoiding using them.\n",
      "2022-05-24 12:55:17.086375: W tensorflow/python/util/util.cc:368] Sets are not currently considered sequences, but this may change in the future, so consider avoiding using them.\n",
      "/opt/conda/envs/nanoWithTf/lib/python3.7/site-packages/keras/engine/functional.py:1410: CustomMaskWarning: Custom mask layers require a config and must override get_config. When loading, the custom mask layer must be passed to the custom_objects argument.\n",
      "  layer_config = serialize_layer_fn(layer)\n",
      "/opt/conda/envs/nanoWithTf/lib/python3.7/site-packages/keras/saving/saved_model/layer_serialization.py:112: CustomMaskWarning: Custom mask layers require a config and must override get_config. When loading, the custom mask layer must be passed to the custom_objects argument.\n",
      "  return generic_utils.serialize_keras_object(obj)\n",
      "/opt/conda/envs/nanoWithTf/lib/python3.7/site-packages/keras/engine/functional.py:1410: CustomMaskWarning: Custom mask layers require a config and must override get_config. When loading, the custom mask layer must be passed to the custom_objects argument.\n",
      "  layer_config = serialize_layer_fn(layer)\n",
      "/opt/conda/envs/nanoWithTf/lib/python3.7/site-packages/keras/saving/saved_model/layer_serialization.py:112: CustomMaskWarning: Custom mask layers require a config and must override get_config. When loading, the custom mask layer must be passed to the custom_objects argument.\n",
      "  return generic_utils.serialize_keras_object(obj)\n"
     ]
    },
    {
     "name": "stdout",
     "output_type": "stream",
     "text": [
      "187/187 [==============================] - 49s 260ms/step - loss: 0.1322 - accuracy: 0.9618\n"
     ]
    }
   ],
   "source": [
    "model_multiple = build_model(num_classes=NUM_CLASSES, learning_rate=1e-2)\n",
    "\n",
    "start = time()\n",
    "epochs = 25  # @param {type: \"slider\", min:8, max:80}\n",
    "model_multiple.fit(ds_train,\n",
    "                   epochs=epochs,\n",
    "                   validation_data=ds_test,\n",
    "                   steps_per_epoch=STEPS,\n",
    "                   verbose=1,\n",
    "                   num_processes=2,\n",
    "                   backend=\"multiprocessing\")\n",
    "\n",
    "unfreeze_model(model_multiple)\n",
    "\n",
    "epochs = 10  # @param {type: \"slider\", min:8, max:50}\n",
    "model_multiple.fit(ds_train,\n",
    "                  epochs=epochs,\n",
    "                   steps_per_epoch=STEPS,\n",
    "                  validation_data=ds_test,\n",
    "                  verbose=1,\n",
    "                  num_processes=2,\n",
    "                  backend=\"multiprocessing\")\n",
    "fit_time_model_multiple = time() - start\n",
    "acc_model_multiple = model_multiple.evaluate(ds_test, verbose=1)"
   ]
  },
  {
   "cell_type": "markdown",
   "id": "062daaad",
   "metadata": {},
   "source": [
    "### Multiple processes with horovod"
   ]
  },
  {
   "cell_type": "code",
   "execution_count": 10,
   "id": "651d7242",
   "metadata": {},
   "outputs": [
    {
     "name": "stdout",
     "output_type": "stream",
     "text": [
      "INFO:tensorflow:Assets written to: /tmp/tmpdm0wxo_k/temp_model/assets\n"
     ]
    },
    {
     "name": "stderr",
     "output_type": "stream",
     "text": [
      "INFO:tensorflow:Assets written to: /tmp/tmpdm0wxo_k/temp_model/assets\n",
      "/opt/conda/envs/nanoWithTf/lib/python3.7/site-packages/keras/engine/functional.py:1410: CustomMaskWarning: Custom mask layers require a config and must override get_config. When loading, the custom mask layer must be passed to the custom_objects argument.\n",
      "  layer_config = serialize_layer_fn(layer)\n",
      "/opt/conda/envs/nanoWithTf/lib/python3.7/site-packages/keras/saving/saved_model/layer_serialization.py:112: CustomMaskWarning: Custom mask layers require a config and must override get_config. When loading, the custom mask layer must be passed to the custom_objects argument.\n",
      "  return generic_utils.serialize_keras_object(obj)\n",
      "[1]<stderr>:2022-05-24 12:57:24.548910: I tensorflow/core/platform/cpu_feature_guard.cc:151] This TensorFlow binary is optimized with oneAPI Deep Neural Network Library (oneDNN) to use the following CPU instructions in performance-critical operations:  AVX2 AVX512F FMA\n",
      "[1]<stderr>:To enable them in other operations, rebuild TensorFlow with the appropriate compiler flags.\n",
      "[0]<stderr>:2022-05-24 12:57:24.555967: I tensorflow/core/platform/cpu_feature_guard.cc:151] This TensorFlow binary is optimized with oneAPI Deep Neural Network Library (oneDNN) to use the following CPU instructions in performance-critical operations:  AVX2 AVX512F FMA\n",
      "[0]<stderr>:To enable them in other operations, rebuild TensorFlow with the appropriate compiler flags.\n",
      "[0]<stderr>:2022-05-24 12:57:34.451471: W tensorflow/core/grappler/optimizers/data/auto_shard.cc:537] The `assert_cardinality` transformation is currently not handled by the auto-shard rewrite and will be removed.\n",
      "[0]<stderr>:2022-05-24 12:57:34.469529: W tensorflow/core/grappler/optimizers/data/auto_shard.cc:537] The `assert_cardinality` transformation is currently not handled by the auto-shard rewrite and will be removed.\n",
      "[1]<stderr>:2022-05-24 12:57:34.543336: W tensorflow/core/grappler/optimizers/data/auto_shard.cc:537] The `assert_cardinality` transformation is currently not handled by the auto-shard rewrite and will be removed.\n",
      "[1]<stderr>:2022-05-24 12:57:34.561795: W tensorflow/core/grappler/optimizers/data/auto_shard.cc:537] The `assert_cardinality` transformation is currently not handled by the auto-shard rewrite and will be removed.\n"
     ]
    },
    {
     "name": "stdout",
     "output_type": "stream",
     "text": [
      "[0]<stdout>:Epoch 1/25\n"
     ]
    },
    {
     "name": "stderr",
     "output_type": "stream",
     "text": [
      "[1]<stderr>:tcmalloc: large alloc 1073741824 bytes == 0x55720a8ec000 @  0x7fca0a3e5d3f 0x7fca0a41c0c0 0x7fca0a41f082 0x7fca0a41f243 0x7fca043d6402 0x7fc9f8770eb0 0x7fc9f87910b5 0x7fc9f87949ea 0x7fc9f8794f69 0x7fc9f87952d1 0x7fc9f8789ce3 0x7fc9f3e4f051 0x7fc9f3caa38d 0x7fc9f3a3d087 0x7fc9f3a3d91e 0x7fc9f3a3db1d 0x7fc9ff42ebf5 0x7fc9f3e50d7c 0x7fc9f3ddacec 0x7fc9f919d76e 0x7fc9f919a1f3 0x7fc9f452c313 0x7fca0a37c609 0x7fca0a2a1163\n",
      "[0]<stderr>:tcmalloc: large alloc 1073741824 bytes == 0x55c902706000 @  0x7f9b6a87bd3f 0x7f9b6a8b20c0 0x7f9b6a8b5082 0x7f9b6a8b5243 0x7f9b6486c402 0x7f9b58c06eb0 0x7f9b58c270b5 0x7f9b58c2a9ea 0x7f9b58c2af69 0x7f9b58c2b2d1 0x7f9b58c1fce3 0x7f9b542e5051 0x7f9b5414116a 0x7f9b5e743941 0x7f9b5e744061 0x7f9b5fbb8a1a 0x7f9b54263dbf 0x7f9b5fc83941 0x7f9b59633953 0x7f9b596301f3 0x7f9b549c2313 0x7f9b6a812609 0x7f9b6a737163\n"
     ]
    },
    {
     "name": "stdout",
     "output_type": "stream",
     "text": [
      "[0]<stdout>:187/187 [==============================] - 77s 366ms/step - loss: 3.3607 - accuracy: 0.3773 - val_loss: 0.7639 - val_accuracy: 0.7567\n",
      "[0]<stdout>:Epoch 2/25\n",
      "[0]<stdout>:187/187 [==============================] - 74s 360ms/step - loss: 1.7969 - accuracy: 0.5487 - val_loss: 0.5537 - val_accuracy: 0.8353\n",
      "[0]<stdout>:Epoch 3/25\n",
      "[0]<stdout>:187/187 [==============================] - 74s 360ms/step - loss: 1.5140 - accuracy: 0.5793 - val_loss: 0.4701 - val_accuracy: 0.8538\n",
      "[0]<stdout>:Epoch 4/25\n",
      "[0]<stdout>:187/187 [==============================] - 76s 371ms/step - loss: 1.3765 - accuracy: 0.6162 - val_loss: 0.4563 - val_accuracy: 0.8496\n",
      "[0]<stdout>:Epoch 5/25\n",
      "[0]<stdout>:187/187 [==============================] - 71s 350ms/step - loss: 1.3339 - accuracy: 0.6212 - val_loss: 0.4576 - val_accuracy: 0.8575\n",
      "[0]<stdout>:Epoch 6/25\n",
      "[0]<stdout>:187/187 [==============================] - 72s 350ms/step - loss: 1.3200 - accuracy: 0.6205 - val_loss: 0.4164 - val_accuracy: 0.8651\n",
      "[0]<stdout>:Epoch 7/25\n",
      "[0]<stdout>:187/187 [==============================] - 74s 360ms/step - loss: 1.2971 - accuracy: 0.6356 - val_loss: 0.4132 - val_accuracy: 0.8658\n",
      "[0]<stdout>:Epoch 8/25\n",
      "[0]<stdout>:187/187 [==============================] - 74s 361ms/step - loss: 1.2503 - accuracy: 0.6458 - val_loss: 0.4098 - val_accuracy: 0.8718\n",
      "[0]<stdout>:Epoch 9/25\n",
      "[0]<stdout>:187/187 [============================>.] - ETA: 0s - loss: 1.2768 - accuracy: 0.64642 \r"
     ]
    },
    {
     "name": "stderr",
     "output_type": "stream",
     "text": [
      "[0]<stderr>:tcmalloc: large alloc 2147483648 bytes == 0x55c94a400000 @  0x7f9b6a87bd3f 0x7f9b6a8b20c0 0x7f9b6a8b5082 0x7f9b6a8b5243 0x7f9b6486c402 0x7f9b58c06eb0 0x7f9b58c270b5 0x7f9b58c2a9ea 0x7f9b58c2af69 0x7f9b58c2b2d1 0x7f9b58c1fce3 0x7f9b542e5051 0x7f9b5414038d 0x7f9b53ed3087 0x7f9b53ed391e 0x7f9b53ed3b1d 0x7f9b59eb3bfd 0x7f9b542e6d7c 0x7f9b54270cec 0x7f9b5963376e 0x7f9b596301f3 0x7f9b549c2313 0x7f9b6a812609 0x7f9b6a737163\n"
     ]
    },
    {
     "name": "stdout",
     "output_type": "stream",
     "text": [
      "[0]<stdout>:187/187 [==============================] - 74s 364ms/step - loss: 1.2788 - accuracy: 0.6435 - val_loss: 0.4263 - val_accuracy: 0.8646\n",
      "[0]<stdout>:Epoch 10/25\n",
      "[0]<stdout>:187/187 [==============================] - 74s 365ms/step - loss: 1.2558 - accuracy: 0.6413 - val_loss: 0.4201 - val_accuracy: 0.8673\n",
      "[0]<stdout>:Epoch 11/25\n",
      "[0]<stdout>:187/187 [============================>.] - ETA: 0s - loss: 1.2292 - accuracy: 0.65336 \r"
     ]
    },
    {
     "name": "stderr",
     "output_type": "stream",
     "text": [
      "[1]<stderr>:tcmalloc: large alloc 2147483648 bytes == 0x5572528a4000 @  0x7fca0a3e5d3f 0x7fca0a41c0c0 0x7fca0a41f082 0x7fca0a41f243 0x7fca043d6402 0x7fc9f8770eb0 0x7fc9f87910b5 0x7fc9f87949ea 0x7fc9f8794f69 0x7fc9f87952d1 0x7fc9f8789ce3 0x7fc9f3e4f051 0x7fc9f3caa38d 0x7fc9f3a3d087 0x7fc9f3a3d91e 0x7fc9f3a3db1d 0x7fc9f9a1dbfd 0x7fc9f3e50d7c 0x7fc9f3ddacec 0x7fc9f919d76e 0x7fc9f919a1f3 0x7fc9f452c313 0x7fca0a37c609 0x7fca0a2a1163\n"
     ]
    },
    {
     "name": "stdout",
     "output_type": "stream",
     "text": [
      "[0]<stdout>:187/187 [==============================] - 73s 361ms/step - loss: 1.2283 - accuracy: 0.6582 - val_loss: 0.4008 - val_accuracy: 0.8723\n",
      "[0]<stdout>:Epoch 12/25\n",
      "[0]<stdout>:187/187 [==============================] - 73s 351ms/step - loss: 1.2296 - accuracy: 0.6469 - val_loss: 0.4128 - val_accuracy: 0.8691\n",
      "[0]<stdout>:Epoch 13/25\n",
      "[0]<stdout>:187/187 [==============================] - 74s 364ms/step - loss: 1.2071 - accuracy: 0.6627 - val_loss: 0.3857 - val_accuracy: 0.8733\n",
      "[0]<stdout>:Epoch 14/25\n",
      "[0]<stdout>:187/187 [==============================] - 73s 355ms/step - loss: 1.2258 - accuracy: 0.6524 - val_loss: 0.4067 - val_accuracy: 0.8688\n",
      "[0]<stdout>:Epoch 15/25\n",
      "[0]<stdout>:187/187 [==============================] - 76s 368ms/step - loss: 1.2283 - accuracy: 0.6576 - val_loss: 0.3878 - val_accuracy: 0.8748\n",
      "[0]<stdout>:Epoch 16/25\n",
      "[0]<stdout>:187/187 [==============================] - 74s 363ms/step - loss: 1.2589 - accuracy: 0.6459 - val_loss: 0.3714 - val_accuracy: 0.8784\n",
      "[0]<stdout>:Epoch 17/25\n",
      "[0]<stdout>:187/187 [==============================] - 75s 371ms/step - loss: 1.2381 - accuracy: 0.6554 - val_loss: 0.4379 - val_accuracy: 0.8600\n",
      "[0]<stdout>:Epoch 18/25\n",
      "[0]<stdout>:187/187 [==============================] - 75s 366ms/step - loss: 1.2367 - accuracy: 0.6458 - val_loss: 0.4327 - val_accuracy: 0.8597\n",
      "[0]<stdout>:Epoch 19/25\n",
      "[0]<stdout>:187/187 [==============================] - 73s 355ms/step - loss: 1.2171 - accuracy: 0.6499 - val_loss: 0.3759 - val_accuracy: 0.8767\n",
      "[0]<stdout>:Epoch 20/25\n",
      "[0]<stdout>:187/187 [==============================] - 76s 371ms/step - loss: 1.2331 - accuracy: 0.6543 - val_loss: 0.3630 - val_accuracy: 0.8758\n",
      "[0]<stdout>:Epoch 21/25\n",
      "[0]<stdout>:187/187 [==============================] - 73s 359ms/step - loss: 1.1836 - accuracy: 0.6747 - val_loss: 0.3645 - val_accuracy: 0.8787\n",
      "[0]<stdout>:Epoch 22/25\n",
      "[0]<stdout>:187/187 [==============================] - 75s 372ms/step - loss: 1.2566 - accuracy: 0.6546 - val_loss: 0.4239 - val_accuracy: 0.8565\n",
      "[0]<stdout>:Epoch 23/25\n",
      "[0]<stdout>:187/187 [==============================] - 73s 362ms/step - loss: 1.2556 - accuracy: 0.6524 - val_loss: 0.3484 - val_accuracy: 0.8874\n",
      "[0]<stdout>:Epoch 24/25\n",
      "[0]<stdout>:187/187 [==============================] - 73s 362ms/step - loss: 1.2318 - accuracy: 0.6597 - val_loss: 0.3983 - val_accuracy: 0.8637\n",
      "[0]<stdout>:Epoch 25/25\n",
      "[0]<stdout>:187/187 [==============================] - 75s 367ms/step - loss: 1.2180 - accuracy: 0.6607 - val_loss: 0.3699 - val_accuracy: 0.8753\n"
     ]
    },
    {
     "name": "stderr",
     "output_type": "stream",
     "text": [
      "[0]<stderr>:2022-05-24 13:28:35.322160: W tensorflow/python/util/util.cc:368] Sets are not currently considered sequences, but this may change in the future, so consider avoiding using them.\n",
      "[1]<stderr>:2022-05-24 13:28:39.869799: W tensorflow/python/util/util.cc:368] Sets are not currently considered sequences, but this may change in the future, so consider avoiding using them.\n",
      "[0]<stderr>:/opt/conda/envs/nanoWithTf/lib/python3.7/site-packages/keras/engine/functional.py:1410: CustomMaskWarning: Custom mask layers require a config and must override get_config. When loading, the custom mask layer must be passed to the custom_objects argument.\n",
      "[0]<stderr>:  layer_config = serialize_layer_fn(layer)\n",
      "[0]<stderr>:/opt/conda/envs/nanoWithTf/lib/python3.7/site-packages/keras/saving/saved_model/layer_serialization.py:112: CustomMaskWarning: Custom mask layers require a config and must override get_config. When loading, the custom mask layer must be passed to the custom_objects argument.\n",
      "[0]<stderr>:  return generic_utils.serialize_keras_object(obj)\n",
      "[1]<stderr>:/opt/conda/envs/nanoWithTf/lib/python3.7/site-packages/keras/engine/functional.py:1410: CustomMaskWarning: Custom mask layers require a config and must override get_config. When loading, the custom mask layer must be passed to the custom_objects argument.\n",
      "[1]<stderr>:  layer_config = serialize_layer_fn(layer)\n",
      "[1]<stderr>:/opt/conda/envs/nanoWithTf/lib/python3.7/site-packages/keras/saving/saved_model/layer_serialization.py:112: CustomMaskWarning: Custom mask layers require a config and must override get_config. When loading, the custom mask layer must be passed to the custom_objects argument.\n",
      "[1]<stderr>:  return generic_utils.serialize_keras_object(obj)\n"
     ]
    },
    {
     "name": "stdout",
     "output_type": "stream",
     "text": [
      "INFO:tensorflow:Assets written to: /tmp/tmpgj57atm9/temp_model/assets\n"
     ]
    },
    {
     "name": "stderr",
     "output_type": "stream",
     "text": [
      "INFO:tensorflow:Assets written to: /tmp/tmpgj57atm9/temp_model/assets\n",
      "/opt/conda/envs/nanoWithTf/lib/python3.7/site-packages/keras/engine/functional.py:1410: CustomMaskWarning: Custom mask layers require a config and must override get_config. When loading, the custom mask layer must be passed to the custom_objects argument.\n",
      "  layer_config = serialize_layer_fn(layer)\n",
      "/opt/conda/envs/nanoWithTf/lib/python3.7/site-packages/keras/saving/saved_model/layer_serialization.py:112: CustomMaskWarning: Custom mask layers require a config and must override get_config. When loading, the custom mask layer must be passed to the custom_objects argument.\n",
      "  return generic_utils.serialize_keras_object(obj)\n",
      "[0]<stderr>:2022-05-24 13:29:56.413279: I tensorflow/core/platform/cpu_feature_guard.cc:151] This TensorFlow binary is optimized with oneAPI Deep Neural Network Library (oneDNN) to use the following CPU instructions in performance-critical operations:  AVX2 AVX512F FMA\n",
      "[0]<stderr>:To enable them in other operations, rebuild TensorFlow with the appropriate compiler flags.\n",
      "[1]<stderr>:2022-05-24 13:29:56.427813: I tensorflow/core/platform/cpu_feature_guard.cc:151] This TensorFlow binary is optimized with oneAPI Deep Neural Network Library (oneDNN) to use the following CPU instructions in performance-critical operations:  AVX2 AVX512F FMA\n",
      "[1]<stderr>:To enable them in other operations, rebuild TensorFlow with the appropriate compiler flags.\n",
      "[0]<stderr>:2022-05-24 13:30:05.584748: W tensorflow/core/grappler/optimizers/data/auto_shard.cc:537] The `assert_cardinality` transformation is currently not handled by the auto-shard rewrite and will be removed.\n",
      "[0]<stderr>:2022-05-24 13:30:05.601711: W tensorflow/core/grappler/optimizers/data/auto_shard.cc:537] The `assert_cardinality` transformation is currently not handled by the auto-shard rewrite and will be removed.\n"
     ]
    },
    {
     "name": "stdout",
     "output_type": "stream",
     "text": [
      "[0]<stdout>:Epoch 1/10\n"
     ]
    },
    {
     "name": "stderr",
     "output_type": "stream",
     "text": [
      "[1]<stderr>:2022-05-24 13:30:06.323721: W tensorflow/core/grappler/optimizers/data/auto_shard.cc:537] The `assert_cardinality` transformation is currently not handled by the auto-shard rewrite and will be removed.\n",
      "[1]<stderr>:2022-05-24 13:30:06.341739: W tensorflow/core/grappler/optimizers/data/auto_shard.cc:537] The `assert_cardinality` transformation is currently not handled by the auto-shard rewrite and will be removed.\n",
      "[0]<stderr>:tcmalloc: large alloc 1073741824 bytes == 0x55de250f2000 @  0x7f745b3c7d3f 0x7f745b3fe0c0 0x7f745b401082 0x7f745b401243 0x7f74553b8402 0x7f7449752eb0 0x7f74497730b5 0x7f74497769ea 0x7f7449776f69 0x7f74497772d1 0x7f744976bce3 0x7f7444e31051 0x7f7444c8c38d 0x7f7444a1f087 0x7f7444a1f91e 0x7f7444a1fb1d 0x7f744dc6f8d2 0x7f744dc7fbda 0x7f7444e32d7c 0x7f7444dbccec 0x7f744a17f76e 0x7f744a17c1f3 0x7f744550e313 0x7f745b35e609 0x7f745b283163\n",
      "[1]<stderr>:tcmalloc: large alloc 1073741824 bytes == 0x55b0f06d6000 @  0x7f5ac8406d3f 0x7f5ac843d0c0 0x7f5ac8440082 0x7f5ac8440243 0x7f5ac23f7402 0x7f5ab6791eb0 0x7f5ab67b20b5 0x7f5ab67b59ea 0x7f5ab67b5f69 0x7f5ab67b62d1 0x7f5ab67aace3 0x7f5ab1e70051 0x7f5ab1ccb38d 0x7f5ab1a5e087 0x7f5ab1a5e91e 0x7f5ab1a5eb1d 0x7f5abd44fbf5 0x7f5ab1e71d7c 0x7f5ab1dfbcec 0x7f5ab71be76e 0x7f5ab71bb1f3 0x7f5ab254d313 0x7f5ac839d609 0x7f5ac82c2163\n"
     ]
    },
    {
     "name": "stdout",
     "output_type": "stream",
     "text": [
      "[0]<stdout>:187/187 [==============================] - 80s 378ms/step - loss: 0.9512 - accuracy: 0.7214 - val_loss: 0.2430 - val_accuracy: 0.9234\n",
      "[0]<stdout>:Epoch 2/10\n",
      "[0]<stdout>:187/187 [==============================] - 70s 369ms/step - loss: 0.8181 - accuracy: 0.7530 - val_loss: 0.2180 - val_accuracy: 0.9301\n",
      "[0]<stdout>:Epoch 3/10\n",
      "[0]<stdout>:187/187 [==============================] - 70s 373ms/step - loss: 0.7541 - accuracy: 0.7763 - val_loss: 0.2020 - val_accuracy: 0.9407\n",
      "[0]<stdout>:Epoch 4/10\n",
      "[0]<stdout>:187/187 [==============================] - 71s 377ms/step - loss: 0.7498 - accuracy: 0.7764 - val_loss: 0.1822 - val_accuracy: 0.9439\n",
      "[0]<stdout>:Epoch 5/10\n",
      "[0]<stdout>:187/187 [============================>.] - ETA: 0s - loss: 0.7064 - accuracy: 0.78775\r"
     ]
    },
    {
     "name": "stderr",
     "output_type": "stream",
     "text": [
      "[0]<stderr>:tcmalloc: large alloc 2147483648 bytes == 0x55de6ccce000 @  0x7f745b3c7d3f 0x7f745b3fe0c0 0x7f745b401082 0x7f745b401243 0x7f74553b8402 0x7f7449752eb0 0x7f74497730b5 0x7f74497769ea 0x7f7449776f69 0x7f74497772d1 0x7f744976bce3 0x7f7444e31051 0x7f7444c8c38d 0x7f7444a1f087 0x7f7444a1f91e 0x7f7444a1fb1d 0x7f744a9ffbfd 0x7f7444e32d7c 0x7f7444dbccec 0x7f744a17f76e 0x7f744a17c1f3 0x7f744550e313 0x7f745b35e609 0x7f745b283163\n"
     ]
    },
    {
     "name": "stdout",
     "output_type": "stream",
     "text": [
      "[0]<stdout>:187/187 [==============================] - 71s 376ms/step - loss: 0.7056 - accuracy: 0.7839 - val_loss: 0.1779 - val_accuracy: 0.9449\n",
      "[0]<stdout>:Epoch 6/10\n",
      "[0]<stdout>:187/187 [==============================] - 69s 364ms/step - loss: 0.6267 - accuracy: 0.8054 - val_loss: 0.1643 - val_accuracy: 0.9518\n",
      "[0]<stdout>:Epoch 7/10\n",
      "[0]<stdout>:187/187 [==============================] - 70s 367ms/step - loss: 0.6340 - accuracy: 0.8052 - val_loss: 0.1546 - val_accuracy: 0.9550\n",
      "[0]<stdout>:Epoch 8/10\n",
      "[0]<stdout>:187/187 [==============================] - 70s 370ms/step - loss: 0.5879 - accuracy: 0.8198 - val_loss: 0.1451 - val_accuracy: 0.9573\n",
      "[0]<stdout>:Epoch 9/10\n",
      "[0]<stdout>:187/187 [==============================] - 69s 365ms/step - loss: 0.5619 - accuracy: 0.8278 - val_loss: 0.1372 - val_accuracy: 0.9605\n",
      "[0]<stdout>:Epoch 10/10\n",
      "[0]<stdout>:187/187 [==============================] - 72s 383ms/step - loss: 0.5525 - accuracy: 0.8283 - val_loss: 0.1311 - val_accuracy: 0.9622\n"
     ]
    },
    {
     "name": "stderr",
     "output_type": "stream",
     "text": [
      "[0]<stderr>:2022-05-24 13:42:05.376975: W tensorflow/python/util/util.cc:368] Sets are not currently considered sequences, but this may change in the future, so consider avoiding using them.\n",
      "[1]<stderr>:2022-05-24 13:42:06.630141: W tensorflow/python/util/util.cc:368] Sets are not currently considered sequences, but this may change in the future, so consider avoiding using them.\n",
      "[0]<stderr>:/opt/conda/envs/nanoWithTf/lib/python3.7/site-packages/keras/engine/functional.py:1410: CustomMaskWarning: Custom mask layers require a config and must override get_config. When loading, the custom mask layer must be passed to the custom_objects argument.\n",
      "[0]<stderr>:  layer_config = serialize_layer_fn(layer)\n",
      "[0]<stderr>:/opt/conda/envs/nanoWithTf/lib/python3.7/site-packages/keras/saving/saved_model/layer_serialization.py:112: CustomMaskWarning: Custom mask layers require a config and must override get_config. When loading, the custom mask layer must be passed to the custom_objects argument.\n",
      "[0]<stderr>:  return generic_utils.serialize_keras_object(obj)\n",
      "[1]<stderr>:/opt/conda/envs/nanoWithTf/lib/python3.7/site-packages/keras/engine/functional.py:1410: CustomMaskWarning: Custom mask layers require a config and must override get_config. When loading, the custom mask layer must be passed to the custom_objects argument.\n",
      "[1]<stderr>:  layer_config = serialize_layer_fn(layer)\n",
      "[1]<stderr>:/opt/conda/envs/nanoWithTf/lib/python3.7/site-packages/keras/saving/saved_model/layer_serialization.py:112: CustomMaskWarning: Custom mask layers require a config and must override get_config. When loading, the custom mask layer must be passed to the custom_objects argument.\n",
      "[1]<stderr>:  return generic_utils.serialize_keras_object(obj)\n"
     ]
    },
    {
     "name": "stdout",
     "output_type": "stream",
     "text": [
      "187/187 [==============================] - 49s 260ms/step - loss: 0.1359 - accuracy: 0.9592\n"
     ]
    }
   ],
   "source": [
    "model_multiple_horovod = build_model(num_classes=NUM_CLASSES, learning_rate=1e-2)\n",
    "\n",
    "start = time()\n",
    "epochs = 25  # @param {type: \"slider\", min:8, max:80}\n",
    "model_multiple_horovod.fit(ds_train,\n",
    "                   epochs=epochs,\n",
    "                   validation_data=ds_test,\n",
    "                   steps_per_epoch=STEPS,\n",
    "                   verbose=1,\n",
    "                   num_processes=2,\n",
    "                   backend=\"horovod\")\n",
    "\n",
    "unfreeze_model(model_multiple_horovod)\n",
    "\n",
    "epochs = 10  # @param {type: \"slider\", min:8, max:50}\n",
    "model_multiple_horovod.fit(ds_train,\n",
    "                  epochs=epochs,\n",
    "                   steps_per_epoch=STEPS,\n",
    "                  validation_data=ds_test,\n",
    "                  verbose=1,\n",
    "                  num_processes=2,\n",
    "                  backend=\"horovod\")\n",
    "fit_time_model_multiple_horovod = time() - start\n",
    "acc_model_multiple_horovod = model_multiple_horovod.evaluate(ds_test, verbose=1)"
   ]
  },
  {
   "cell_type": "code",
   "execution_count": 11,
   "id": "51834636",
   "metadata": {},
   "outputs": [
    {
     "name": "stdout",
     "output_type": "stream",
     "text": [
      "\n",
      "|        Precision     | Fit Time(s)       | Accuracy(%) |\n",
      "|         Single       |       3861.91       |    96.60    |\n",
      "|        Multiple      |       1802.21       |    96.18    |\n",
      "| Multiple With Horovod|       2760.52       |    95.92    |\n",
      "\n"
     ]
    }
   ],
   "source": [
    "template = \"\"\"\n",
    "|        Precision     | Fit Time(s)       | Accuracy(%) |\n",
    "|         Single       |       {:5.2f}       |    {:5.2f}    |\n",
    "|        Multiple      |       {:5.2f}       |    {:5.2f}    |\n",
    "| Multiple With Horovod|       {:5.2f}       |    {:5.2f}    |\n",
    "\"\"\"\n",
    "summary = template.format(\n",
    "    fit_time_model_single, acc_model_single[1] * 100,\n",
    "    fit_time_model_multiple, acc_model_multiple[1] * 100,\n",
    "    fit_time_model_multiple_horovod, acc_model_multiple_horovod[1] * 100\n",
    ")\n",
    "print(summary)"
   ]
  },
  {
   "cell_type": "code",
   "execution_count": null,
   "id": "fe32dbd3",
   "metadata": {},
   "outputs": [],
   "source": []
  }
 ],
 "metadata": {
  "kernelspec": {
   "display_name": "Python [conda env:nanoWithTf]",
   "language": "python",
   "name": "conda-env-nanoWithTf-py"
  },
  "language_info": {
   "codemirror_mode": {
    "name": "ipython",
    "version": 3
   },
   "file_extension": ".py",
   "mimetype": "text/x-python",
   "name": "python",
   "nbconvert_exporter": "python",
   "pygments_lexer": "ipython3",
   "version": "3.7.0"
  }
 },
 "nbformat": 4,
 "nbformat_minor": 5
}
