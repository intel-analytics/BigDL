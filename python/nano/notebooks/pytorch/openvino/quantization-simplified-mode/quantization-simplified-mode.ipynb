{
 "cells": [
  {
   "cell_type": "markdown",
   "metadata": {},
   "source": [
    "# INT8 Quantization with Post-training Optimization Tool (POT) in Simplified Mode tutorial\n",
    "This tutorial was adapted from https://github.com/openvinotoolkit/openvino_notebooks/tree/main/notebooks/114-quantization-simplified-mode. Here, we use OpenVINO APIs provided by BigDL Nano instead to simplify the original tutorial.\n",
    "\n",
    "This tutorial shows how to quantize a [ResNet20](https://github.com/chenyaofo/pytorch-cifar-models) image classification model, trained on [CIFAR10 ](http://pytorch.org/vision/main/generated/torchvision.datasets.CIFAR10.html) dataset, using the Simplified Mode of OpenVINO Post-Training Optimization Tool (POT).\n",
    "\n",
    "Simplified Mode is designed to make the data preparation step easier, before model optimization. The mode is represented by an implementation of the engine interface in the POT API. It enables reading data from an arbitrary folder specified by the user. Currently, Simplified Mode is available only for image data in PNG or JPEG formats, stored in a single folder.\n",
    "\n",
    "**Note:** This mode cannot be used with the accuracy-aware method. It is not possible to control accuracy after optimization using this mode. However, Simplified Mode can be useful for estimating performance improvements when optimizing models.\n",
    "\n",
    "This tutorial includes the following steps:\n",
    "\n",
    "- Downloading and saving the CIFAR10 dataset\n",
    "- Preparing the model for quantization\n",
    "- Compressing the prepared model\n",
    "- Measuring and comparing the performance of the original and quantized models\n",
    "- Demonstrating the use of the quantized model for image classification\n"
   ]
  },
  {
   "cell_type": "code",
   "execution_count": 1,
   "metadata": {},
   "outputs": [],
   "source": [
    "import os\n",
    "from pathlib import Path\n",
    "import warnings\n",
    "\n",
    "import torch\n",
    "from torchvision import transforms as T\n",
    "from torchvision.datasets import CIFAR10\n",
    "\n",
    "import matplotlib.pyplot as plt\n",
    "import numpy as np\n",
    "\n",
    "from bigdl.nano.pytorch import Trainer\n",
    "from torch.utils.data.dataloader import DataLoader\n",
    "\n",
    "warnings.filterwarnings(\"ignore\")\n",
    "\n",
    "# Set the data and model directories\n",
    "MODEL_DIR = 'model'\n",
    "CALIB_DIR = 'calib'\n",
    "CIFAR_DIR = 'cifar'\n",
    "CALIB_SET_SIZE = 300\n",
    "MODEL_NAME = 'resnet20'\n",
    "\n",
    "os.makedirs(MODEL_DIR, exist_ok=True)\n",
    "os.makedirs(CALIB_DIR, exist_ok=True)"
   ]
  },
  {
   "cell_type": "markdown",
   "metadata": {},
   "source": [
    "## Prepare the calibration dataset\n",
    "The following steps are required to prepare the calibration dataset:\n",
    "- Download CIFAR10 dataset from Torchvision.datasets repository\n",
    "- Save the selected number of elements from this dataset as .png images in a separate folder"
   ]
  },
  {
   "cell_type": "code",
   "execution_count": 2,
   "metadata": {},
   "outputs": [
    {
     "name": "stdout",
     "output_type": "stream",
     "text": [
      "Files already downloaded and verified\n"
     ]
    }
   ],
   "source": [
    "transform = T.Compose([T.ToTensor()])\n",
    "dataset = CIFAR10(root=CIFAR_DIR, train=False, transform=transform, download=True)"
   ]
  },
  {
   "cell_type": "markdown",
   "metadata": {},
   "source": [
    "## Prepare the Model\n",
    "Model preparation includes the following steps:,\n",
    "- Download PyTorch model from Torchvision repository,\n",
    "- Use `bigdl.nano.pytorch.Trainer.trace(accelerator='openvino')` to convert Pytorch model to OpenVINO Intermediate Representation (IR)"
   ]
  },
  {
   "cell_type": "code",
   "execution_count": 9,
   "metadata": {},
   "outputs": [
    {
     "name": "stderr",
     "output_type": "stream",
     "text": [
      "Using cache found in /home/zhentaoc/.cache/torch/hub/chenyaofo_pytorch-cifar-models_master\n"
     ]
    }
   ],
   "source": [
    "model = torch.hub.load(\"chenyaofo/pytorch-cifar-models\", \"cifar10_resnet20\", pretrained=True)\n",
    "dummy_input = torch.randn(1, 3, 32, 32)"
   ]
  },
  {
   "cell_type": "code",
   "execution_count": 12,
   "metadata": {},
   "outputs": [
    {
     "name": "stdout",
     "output_type": "stream",
     "text": [
      "Model Optimizer arguments:\n",
      "Common parameters:\n",
      "\t- Path to the Input Model: \t/tmp/tmpvx7d2tvu/tmp.onnx\n",
      "\t- Path for generated IR: \t/tmp/tmpg8ejoz27\n",
      "\t- IR output name: \ttmp\n",
      "\t- Log level: \tERROR\n",
      "\t- Batch: \tNot specified, inherited from the model\n",
      "\t- Input layers: \tNot specified, inherited from the model\n",
      "\t- Output layers: \tNot specified, inherited from the model\n",
      "\t- Input shapes: \tNot specified, inherited from the model\n",
      "\t- Source layout: \tNot specified\n",
      "\t- Target layout: \tNot specified\n",
      "\t- Layout: \tNot specified\n",
      "\t- Mean values: \tNot specified\n",
      "\t- Scale values: \tNot specified\n",
      "\t- Scale factor: \tNot specified\n",
      "\t- Precision of IR: \tFP32\n",
      "\t- Enable fusing: \tTrue\n",
      "\t- User transformations: \tNot specified\n",
      "\t- Reverse input channels: \tFalse\n",
      "\t- Enable IR generation for fixed input shape: \tFalse\n",
      "\t- Use the transformations config file: \tNone\n",
      "Advanced parameters:\n",
      "\t- Force the usage of legacy Frontend of Model Optimizer for model conversion into IR: \tFalse\n",
      "\t- Force the usage of new Frontend of Model Optimizer for model conversion into IR: \tFalse\n",
      "OpenVINO runtime found in: \t/home/zhentaoc/anaconda3/envs/BigDL/lib/python3.7/site-packages/openvino\n",
      "OpenVINO runtime version: \t2022.1.0-7019-cdb9bec7210-releases/2022/1\n",
      "Model Optimizer version: \t2022.1.0-7019-cdb9bec7210-releases/2022/1\n",
      "[ SUCCESS ] Generated IR version 11 model.\n",
      "[ SUCCESS ] XML file: /tmp/tmpg8ejoz27/tmp.xml\n",
      "[ SUCCESS ] BIN file: /tmp/tmpg8ejoz27/tmp.bin\n",
      "[ SUCCESS ] Total execution time: 0.51 seconds. \n",
      "[ SUCCESS ] Memory consumed: 84 MB. \n",
      "It's been a while, check for a new version of Intel(R) Distribution of OpenVINO(TM) toolkit here https://software.intel.com/content/www/us/en/develop/tools/openvino-toolkit/download.html?cid=other&source=prod&campid=ww_2022_bu_IOTG_OpenVINO-2022-1&content=upg_all&medium=organic or on the GitHub*\n",
      "[ INFO ] The model was converted to IR v11, the latest model format that corresponds to the source DL framework input/output format. While IR v11 is backwards compatible with OpenVINO Inference Engine API v1.0, please use API v2.0 (as of 2022.1) to take advantage of the latest improvements in IR v11.\n",
      "Find more information about API v2.0 and IR v11 at https://docs.openvino.ai\n"
     ]
    }
   ],
   "source": [
    "ov_model = Trainer.trace(model,\n",
    "                         accelerator='openvino',\n",
    "                         input_sample=dummy_input)\n",
    "Trainer.save(ov_model, MODEL_DIR)\n",
    "\n",
    "ir_model_xml = Path(MODEL_DIR) / ov_model.status['xml_path']\n",
    "ir_model_bin = ir_model_xml.with_suffix('.bin')"
   ]
  },
  {
   "cell_type": "markdown",
   "metadata": {},
   "source": [
    "Now we convert this model into the OpenVINO IR using the Model Optimizer:"
   ]
  },
  {
   "cell_type": "markdown",
   "metadata": {},
   "source": [
    "## Compression stage\n",
    "Compress the model with `Trainer.quantize`:"
   ]
  },
  {
   "cell_type": "code",
   "execution_count": 6,
   "metadata": {},
   "outputs": [],
   "source": [
    "dataloader = DataLoader(dataset, batch_size=1)\n",
    "optimized_model = Trainer.quantize(ov_model,\n",
    "                                   precision='int8',\n",
    "                                   accelerator='openvino',\n",
    "                                   calib_dataloader=dataloader)\n"
   ]
  },
  {
   "cell_type": "markdown",
   "metadata": {},
   "source": [
    "## Compare Performance of the Original and Quantized Models\n",
    "\n",
    "Finally, we will measure the inference performance of the FP32 and INT8 models. To do this, we use [Benchmark Tool](https://docs.openvino.ai/latest/openvino_inference_engine_tools_benchmark_tool_README.html) - an inference performance measurement tool for OpenVINO.\n",
    "\n",
    "**NOTE:** For more accurate performance, we recommended running benchmark_app in a terminal/command prompt after closing other applications. Run benchmark_app -m model.xml -d CPU to benchmark async inference on CPU for one minute. Change CPU to GPU to benchmark on GPU. Run benchmark_app --help to see an overview of all command line options."
   ]
  },
  {
   "cell_type": "code",
   "execution_count": 13,
   "metadata": {},
   "outputs": [],
   "source": [
    "optimized_model_path = Path('compressed/optimized')\n",
    "\n",
    "Trainer.save(optimized_model, optimized_model_path)\n",
    "\n",
    "optimized_model_xml = optimized_model_path / optimized_model.status['xml_path']\n",
    "optimized_model_bin = optimized_model_path / optimized_model.status['weight_path']"
   ]
  },
  {
   "cell_type": "code",
   "execution_count": 14,
   "metadata": {},
   "outputs": [
    {
     "name": "stdout",
     "output_type": "stream",
     "text": [
      "[Step 1/11] Parsing and validating input arguments\n",
      "[ WARNING ]  -nstreams default value is determined automatically for a device. Although the automatic selection usually provides a reasonable performance, but it still may be non-optimal for some cases, for more information look at README. \n",
      "[Step 2/11] Loading OpenVINO\n",
      "[ WARNING ] PerformanceMode was not explicitly specified in command line. Device CPU performance hint will be set to THROUGHPUT.\n",
      "[ INFO ] OpenVINO:\n",
      "         API version............. 2022.1.0-7019-cdb9bec7210-releases/2022/1\n",
      "[ INFO ] Device info\n",
      "         CPU\n",
      "         openvino_intel_cpu_plugin version 2022.1\n",
      "         Build................... 2022.1.0-7019-cdb9bec7210-releases/2022/1\n",
      "\n",
      "[Step 3/11] Setting device configuration\n",
      "[ WARNING ] -nstreams default value is determined automatically for CPU device. Although the automatic selection usually provides a reasonable performance, but it still may be non-optimal for some cases, for more information look at README.\n",
      "[Step 4/11] Reading network files\n",
      "[ INFO ] Read model took 15.44 ms\n",
      "[Step 5/11] Resizing network to match image sizes and given batch\n",
      "[ INFO ] Network batch size: ?\n",
      "[Step 6/11] Configuring input of the model\n",
      "[ INFO ] Model input 'x' precision u8, dimensions ([N,C,H,W]): ? 3 32 32\n",
      "[ INFO ] Model output '208' precision f32, dimensions ([...]): ? 10\n",
      "[Step 7/11] Loading the model to the device\n",
      "[ INFO ] Compile model took 43.27 ms\n",
      "[Step 8/11] Querying optimal runtime parameters\n",
      "[ INFO ] DEVICE: CPU\n",
      "[ INFO ]   AVAILABLE_DEVICES  , ['']\n",
      "[ INFO ]   RANGE_FOR_ASYNC_INFER_REQUESTS  , (1, 1, 1)\n",
      "[ INFO ]   RANGE_FOR_STREAMS  , (1, 20)\n",
      "[ INFO ]   FULL_DEVICE_NAME  , Intel(R) Core(TM) i9-9900X CPU @ 3.50GHz\n",
      "[ INFO ]   OPTIMIZATION_CAPABILITIES  , ['WINOGRAD', 'FP32', 'FP16', 'INT8', 'BIN', 'EXPORT_IMPORT']\n",
      "[ INFO ]   CACHE_DIR  , \n",
      "[ INFO ]   NUM_STREAMS  , 5\n",
      "[ INFO ]   INFERENCE_NUM_THREADS  , 0\n",
      "[ INFO ]   PERF_COUNT  , False\n",
      "[ INFO ]   PERFORMANCE_HINT_NUM_REQUESTS  , 0\n",
      "[Step 9/11] Creating infer requests and preparing input data\n",
      "[ INFO ] Create 5 infer requests took 0.90 ms\n",
      "[ ERROR ] Input x is dynamic. Provide data shapes!\n",
      "Traceback (most recent call last):\n",
      "  File \"/home/zhentaoc/anaconda3/envs/BigDL/lib/python3.7/site-packages/openvino/tools/benchmark/main.py\", line 375, in run\n",
      "    data_queue = get_input_data(paths_to_input, app_inputs_info)\n",
      "  File \"/home/zhentaoc/anaconda3/envs/BigDL/lib/python3.7/site-packages/openvino/tools/benchmark/utils/inputs_filling.py\", line 108, in get_input_data\n",
      "    raise Exception(f\"Input {info.name} is dynamic. Provide data shapes!\")\n",
      "Exception: Input x is dynamic. Provide data shapes!\n"
     ]
    }
   ],
   "source": [
    "# Inference FP32 model (IR)\n",
    "!benchmark_app -m $ir_model_xml -d CPU -api async"
   ]
  },
  {
   "cell_type": "code",
   "execution_count": null,
   "metadata": {},
   "outputs": [],
   "source": [
    "# Inference INT8 model (IR)\n",
    "!benchmark_app -m $optimized_model_xml -d CPU -api async"
   ]
  },
  {
   "cell_type": "markdown",
   "metadata": {},
   "source": [
    "## Demonstration of the results\n",
    "\n",
    "This section demonstrates how to use the compressed model by running the optimized model on a subset of images from the CIFAR10 dataset and shows predictions using the model.\n",
    "\n",
    "The first step is to load the model:"
   ]
  },
  {
   "cell_type": "code",
   "execution_count": 15,
   "metadata": {},
   "outputs": [],
   "source": [
    "compiled_model = Trainer.load(optimized_model_path)"
   ]
  },
  {
   "cell_type": "code",
   "execution_count": 17,
   "metadata": {},
   "outputs": [],
   "source": [
    "# define all possible labels from CIFAR10\n",
    "labels_names = [\"airplane\", \"automobile\", \"bird\", \"cat\", \"deer\", \"dog\", \"frog\", \"horse\", \"ship\", \"truck\"]\n",
    "all_images = []\n",
    "all_labels = []\n",
    "\n",
    "# get all images and their labels \n",
    "for batch in dataset:\n",
    "    all_images.append(torch.unsqueeze(batch[0], 0))\n",
    "    all_labels.append(batch[1])"
   ]
  },
  {
   "cell_type": "markdown",
   "metadata": {},
   "source": [
    "This section defines the function that shows the images and their labels using the indexes and two lists created in the previous step:"
   ]
  },
  {
   "cell_type": "code",
   "execution_count": 18,
   "metadata": {},
   "outputs": [],
   "source": [
    "def plot_pictures(indexes: list, images=all_images, labels=all_labels):\n",
    "    \"\"\"Plot images with the specified indexes.\n",
    "    :param indexes: a list of indexes of images to be displayed.\n",
    "    :param images: a list of images from the dataset.\n",
    "    :param labels: a list of labels for each image.\n",
    "    \"\"\"\n",
    "    num_pics = len(indexes)\n",
    "    _, axarr = plt.subplots(1, num_pics)\n",
    "    for idx, im_idx in enumerate(indexes):\n",
    "        assert idx < 10000, 'Cannot get such index, there are only 10000'\n",
    "        pic = np.rollaxis(images[im_idx].squeeze().numpy(), 0, 3)\n",
    "        axarr[idx].imshow(pic)\n",
    "        axarr[idx].set_title(labels_names[labels[im_idx]])"
   ]
  },
  {
   "cell_type": "markdown",
   "metadata": {},
   "source": [
    "In this section we define a function that uses the optimized model to obtain predictions for the selected images:"
   ]
  },
  {
   "cell_type": "code",
   "execution_count": 23,
   "metadata": {},
   "outputs": [],
   "source": [
    "def infer_on_images(net, indexes: list, images=all_images):\n",
    "    \"\"\" Inference model on a set of images.\n",
    "    :param net: model on which do inference\n",
    "    :param indexes: a list of indexes of images to infer on.\n",
    "    :param images: a list of images from the dataset.\n",
    "    \"\"\"\n",
    "    predicted_labels = []\n",
    "    for idx in indexes:\n",
    "        assert idx < 10000, 'Cannot get such index, there are only 10000'\n",
    "        result = net(images[idx].detach())\n",
    "        predicted_labels.append(result)\n",
    "    return predicted_labels"
   ]
  },
  {
   "cell_type": "code",
   "execution_count": 24,
   "metadata": {},
   "outputs": [
    {
     "name": "stdout",
     "output_type": "stream",
     "text": [
      "Image labels using the quantized model : [tensor([[-2.2732, -3.0217, -1.7443,  8.2989, -2.4401,  7.2686,  0.2782, -0.5705,\n",
      "         -2.7036, -3.0820]]), tensor([[ 1.0862, -1.2857, -2.7809,  2.3331, -2.1508,  2.9092, -0.6820, -2.4029,\n",
      "          5.4923, -2.5159]]), tensor([[-1.1577, -1.7168, -2.5740,  2.3149, -1.3895,  5.5048, -0.2168,  0.1529,\n",
      "          1.1059, -2.0123]])].\n"
     ]
    },
    {
     "data": {
      "image/png": "[encoded data removed]",
      "text/plain": [
       "<Figure size 640x480 with 3 Axes>"
      ]
     },
     "metadata": {},
     "output_type": "display_data"
    }
   ],
   "source": [
    "indexes_to_infer = [0, 1, 2]  # to plot specify indexes\n",
    "\n",
    "plot_pictures(indexes_to_infer)\n",
    "\n",
    "results_quanized = infer_on_images(compiled_model, indexes_to_infer)\n",
    "\n",
    "print(f\"Image labels using the quantized model : {results_quanized}.\")"
   ]
  }
 ],
 "metadata": {
  "accelerator": "GPU",
  "colab": {
   "collapsed_sections": [
    "K5HPrY_d-7cV",
    "E01dMaR2_AFL",
    "qMnYsGo9_MA8",
    "L0tH9KdwtHhV"
   ],
   "name": "INT8 Quantization with POT in Simplified Mode tutorial",
   "provenance": []
  },
  "kernelspec": {
   "display_name": "Python 3.7.13 ('BigDL')",
   "language": "python",
   "name": "python3"
  },
  "language_info": {
   "codemirror_mode": {
    "name": "ipython",
    "version": 3
   },
   "file_extension": ".py",
   "mimetype": "text/x-python",
   "name": "python",
   "nbconvert_exporter": "python",
   "pygments_lexer": "ipython3",
   "version": "3.7.13"
  },
  "vscode": {
   "interpreter": {
    "hash": "31767e73ccf5faf58ae8bd08f02e245390c91328ab147d812430b8cd7a11fd87"
   }
  }
 },
 "nbformat": 4,
 "nbformat_minor": 4
}
