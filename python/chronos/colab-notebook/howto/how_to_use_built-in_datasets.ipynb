{
 "cells": [
  {
   "cell_type": "markdown",
   "metadata": {},
   "source": [
    "### How to use built-in dataset"
   ]
  },
  {
   "cell_type": "markdown",
   "metadata": {},
   "source": [
    "`get_public_dataset` is a function that automatically downloads the selected dataset and returns it as a `TSDataset` instance, we provide six datasets, including `nyc_taxi`, `fsi`, `network_traffic`, `AIOps`, `uci_electricity`, `tsinghua_electricity`, more dataset info, pelase refer to [here](https://bigdl.readthedocs.io/en/latest/doc/Chronos/Overview/data_processing_feature_engineering.html#built-in-dataset)."
   ]
  },
  {
   "cell_type": "code",
   "execution_count": null,
   "metadata": {},
   "outputs": [],
   "source": [
    "from bigdl.chronos.data import get_public_dataset\n",
    "train, _, test = get_public_dataset(name='nyc_taxi',\n",
    "                                    path='~/.chronos/dataset',\n",
    "                                    redownload=False,\n",
    "                                    with_split=True)  # some params"
   ]
  },
  {
   "cell_type": "markdown",
   "metadata": {},
   "source": [
    "If you do not specify `with_split=False`, three datasets will be returned, otherwise only one dataset will be returned.\n",
    "The dataset source file is saved in the `~/.chronos/dataset/` directory, you can use `path` to specify the download directory.\n",
    "Additionally, if you want to redownload the file, you can also set `redownload=True`."
   ]
  },
  {
   "cell_type": "code",
   "execution_count": null,
   "metadata": {},
   "outputs": [],
   "source": [
    "_loader = test.to_torch_data_loader()  # return dataloader"
   ]
  },
  {
   "cell_type": "markdown",
   "metadata": {},
   "source": [
    "`TSDataset` is a dataset preprocessing class, it will automatically process the data and return it as `tf.data.Dataset` or `numpy.ndarray` or `torch.utils.data.Dataloader`."
   ]
  }
 ],
 "metadata": {
  "kernelspec": {
   "display_name": "Python 3.7.13 ('chronos-deps')",
   "language": "python",
   "name": "python3"
  },
  "language_info": {
   "name": "python",
   "version": "3.7.13"
  },
  "orig_nbformat": 4,
  "vscode": {
   "interpreter": {
    "hash": "1a7f5d41b94c9ba67b8a1438ec071a63464312bab4ac0991ee31faebf1c9c228"
   }
  }
 },
 "nbformat": 4,
 "nbformat_minor": 2
}
