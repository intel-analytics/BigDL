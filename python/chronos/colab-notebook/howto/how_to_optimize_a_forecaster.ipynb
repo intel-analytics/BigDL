{
 "cells": [
  {
   "cell_type": "markdown",
   "metadata": {},
   "source": [
    "# How to optimize a forecaster"
   ]
  },
  {
   "cell_type": "markdown",
   "metadata": {},
   "source": [
    "## Introduction\n",
    "This method will traverse existing optimization methods(onnxruntime, openvino, jit, …) and save the model with minimum latency under the given data and search restrictions(accelerator, precision, accuracy_criterion) in forecaster.accelerated_model. This method is required to call before predict and evaluate. Now this function is only for non-distributed model."
   ]
  },
  {
   "cell_type": "markdown",
   "metadata": {},
   "source": [
    "## Set up\n",
    "Before we begin, we need to install chronos if it isn’t already available, we choose to use pytorch as deep learning backend."
   ]
  },
  {
   "cell_type": "code",
   "execution_count": null,
   "metadata": {},
   "outputs": [],
   "source": [
    "pip install --pre --upgrade bigdl-chronos[pytorch,inference]"
   ]
  },
  {
   "cell_type": "markdown",
   "metadata": {},
   "source": [
    "## Forecaster preparation\n",
    "\n",
    "Before the inferencing process, a forecaster should be created and trained. The training process is introduced in the previous guidance [Train forcaster on single node](https://bigdl.readthedocs.io/en/latest/doc/Chronos/Howto/how_to_train_forecaster_on_one_node.html) in detail, therefore we directly create and train a `TCNForecaster` based on the nyc taxi dataset."
   ]
  },
  {
   "cell_type": "code",
   "execution_count": null,
   "metadata": {},
   "outputs": [],
   "source": [
    "# data preparation\n",
    "def get_data():\n",
    "    from bigdl.chronos.data import get_public_dataset\n",
    "    from sklearn.preprocessing import StandardScaler\n",
    "\n",
    "    # load the nyc taxi dataset\n",
    "    tsdata_train, tsdata_val, tsdata_test = get_public_dataset(name='nyc_taxi')\n",
    "\n",
    "    stand = StandardScaler()\n",
    "    for tsdata in [tsdata_train, tsdata_val, tsdata_test]:\n",
    "        tsdata.impute()\\\n",
    "              .scale(stand, fit=tsdata is tsdata_train)\n",
    "\n",
    "    # convert `tsdata_train` and `tsdata_test` to pytorch dataloader\n",
    "    train_data = tsdata_train.to_torch_data_loader(roll=True, lookback=48, horizon=1)\n",
    "    test_data = tsdata_test.to_torch_data_loader(roll=True, lookback=48, horizon=1)\n",
    "\n",
    "    return train_data, test_data\n",
    "\n",
    "# trained forecaster preparation\n",
    "def get_trained_forecaster(train_data):\n",
    "    from bigdl.chronos.forecaster.tcn_forecaster import TCNForecaster\n",
    "    # create a TCNForecaster\n",
    "    forecaster = TCNForecaster(past_seq_len=48,\n",
    "                               future_seq_len=1,\n",
    "                               input_feature_num=1,\n",
    "                               output_feature_num=1)\n",
    "\n",
    "    # train the forecaster on the training data\n",
    "    forecaster.fit(train_data)\n",
    "    return forecaster"
   ]
  },
  {
   "cell_type": "markdown",
   "metadata": {},
   "source": [
    "And there are batch_size and quantize parameters you may want to change. If not familiar with manual hyperparameters tuning, just leave batch_size to the default value."
   ]
  },
  {
   "cell_type": "code",
   "execution_count": null,
   "metadata": {},
   "outputs": [],
   "source": [
    "# get data for training and testing\n",
    "train_data, test_data = get_data()\n",
    "# get a trained forecaster\n",
    "forecaster = get_trained_forecaster(train_data)"
   ]
  },
  {
   "cell_type": "markdown",
   "metadata": {},
   "source": [
    "Traverse existing optimization methods(onnxruntime, openvino, jit, …) and save the model with minimum latency under the given data and search restrictions(accelerator, precision, accuracy_criterion) in forecaster.accelerated_model. "
   ]
  },
  {
   "cell_type": "code",
   "execution_count": null,
   "metadata": {},
   "outputs": [],
   "source": [
    "forecaster.optimize(train_data, test_data, thread_num=1)"
   ]
  },
  {
   "cell_type": "markdown",
   "metadata": {},
   "source": [
    "==========================Optimization Results==========================\n",
    "```\n",
    " -------------------------------- ---------------------- -------------- ----------------------\n",
    "|             method             |        status        | latency(ms)  |       accuracy       |\n",
    " -------------------------------- ---------------------- -------------- ----------------------\n",
    "|            original            |      successful      |    0.798     |        0.023         |\n",
    "|              bf16              |   fail to forward    |     None     |         None         |\n",
    "|          static_int8           |      successful      |    1.416     |        0.022         |\n",
    "|         jit_fp32_ipex          |    early stopped     |    26.346    |         None         |\n",
    "|  jit_fp32_ipex_channels_last   |   fail to forward    |     None     |         None         |\n",
    "|         jit_bf16_ipex          |      successful      |    0.405     |        0.023         |\n",
    "|  jit_bf16_ipex_channels_last   |   fail to forward    |     None     |         None         |\n",
    "|         openvino_fp32          |      successful      |    0.191     |        0.023*        |\n",
    "|         openvino_int8          |      successful      |    0.185     |         0.26         |\n",
    "|        onnxruntime_fp32        |      successful      |    0.075     |        0.023*        |\n",
    "|    onnxruntime_int8_qlinear    |      successful      |    0.097     |        0.023         |\n",
    " -------------------------------- ---------------------- -------------- ----------------------\n",
    " ```\n",
    "* means we assume the precision of the traced model does not change, so we don't recompute accuracy to save time.\n",
    "Optimization cost 22.5s in total.\n",
    "===========================Stop Optimization==========================="
   ]
  }
 ],
 "metadata": {
  "language_info": {
   "name": "python"
  },
  "orig_nbformat": 4
 },
 "nbformat": 4,
 "nbformat_minor": 2
}
