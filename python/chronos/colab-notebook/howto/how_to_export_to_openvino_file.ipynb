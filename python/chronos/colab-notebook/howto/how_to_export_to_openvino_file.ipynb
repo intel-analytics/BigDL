{
 "cells": [
  {
   "cell_type": "code",
   "execution_count": null,
   "metadata": {},
   "outputs": [],
   "source": []
  }
 ],
 "metadata": {
  "kernelspec": {
   "display_name": "Python 3.7.13 ('nano')",
   "language": "python",
   "name": "python3"
  },
  "language_info": {
   "name": "python",
   "version": "3.7.13"
  },
  "orig_nbformat": 4,
  "vscode": {
   "interpreter": {
    "hash": "14da7c362e82670bd8533bacdfe4c42e2e5b857b0b93b1bfa88b1857fb3ecaf8"
   }
  }
 },
 "nbformat": 4,
 "nbformat_minor": 2
}
