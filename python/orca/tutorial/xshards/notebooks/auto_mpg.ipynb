{
 "cells": [
  {
   "cell_type": "markdown",
   "id": "a3b44703",
   "metadata": {},
   "source": [
    "# Regression: predict fuel efficiency"
   ]
  },
  {
   "cell_type": "markdown",
   "id": "416b0a4b",
   "metadata": {},
   "source": [
    "Copyright 2016 The BigDL Authors."
   ]
  },
  {
   "cell_type": "raw",
   "id": "a474a628",
   "metadata": {},
   "source": [
    "# Licensed under the Apache License, Version 2.0 (the \"License\");\n",
    "# you may not use this file except in compliance with the License.\n",
    "# You may obtain a copy of the License at\n",
    "#\n",
    "#     http://www.apache.org/licenses/LICENSE-2.0\n",
    "#\n",
    "# Unless required by applicable law or agreed to in writing, software\n",
    "# distributed under the License is distributed on an \"AS IS\" BASIS,\n",
    "# WITHOUT WARRANTIES OR CONDITIONS OF ANY KIND, either express or implied.\n",
    "# See the License for the specific language governing permissions and\n",
    "# limitations under the License."
   ]
  },
  {
   "cell_type": "markdown",
   "id": "bf304c91",
   "metadata": {},
   "source": [
    "SparkXshards in Orca allows users to process large-scale dataset using existing Python codes in a distributed and data-parallel fashion, as shown below. This notebook is an example of comprehensive data exploration using SparkXshards on Orca. \n",
    "\n",
    "It is adapted from [TensorFlow tutorial of basic regression] (https://github.com/tensorflow/docs/blob/master/site/en/r1/tutorials/keras/basic_regression.ipynb) on auto data. \n"
   ]
  },
  {
   "cell_type": "code",
   "execution_count": null,
   "id": "aa7ba935",
   "metadata": {},
   "outputs": [],
   "source": [
    "# Use seaborn for some plots\n",
    "!pip install seaborn pandas numpy"
   ]
  },
  {
   "cell_type": "code",
   "execution_count": null,
   "id": "fca5adf8",
   "metadata": {},
   "outputs": [],
   "source": [
    "# import necessary libraries\n",
    "import bigdl.orca.data.pandas\n",
    "from bigdl.orca import init_orca_context, stop_orca_context\n",
    "from bigdl.orca.data.transformer import *\n",
    "from bigdl.orca.learn.tf.estimator import Estimator\n",
    "import matplotlib.pyplot as plt\n",
    "import pandas as pd\n",
    "import seaborn as sns\n",
    "\n",
    "import tensorflow.compat.v1 as tf\n",
    "from tensorflow.keras.models import Sequential\n",
    "from tensorflow.keras.layers import Dense"
   ]
  },
  {
   "cell_type": "markdown",
   "id": "833f9193",
   "metadata": {},
   "source": [
    "Start an OrcaContext and setup backend using \"pandas\", then it will use pandas to read each file into a pandas dataframe."
   ]
  },
  {
   "cell_type": "code",
   "execution_count": null,
   "id": "1cb05ce2",
   "metadata": {},
   "outputs": [],
   "source": [
    "sc = init_orca_context(memory=\"4g\")\n",
    "OrcaContext.pandas_read_backend = \"pandas\""
   ]
  },
  {
   "cell_type": "markdown",
   "id": "a46ad6a7",
   "metadata": {},
   "source": [
    "##  Load data in parallel and get general information"
   ]
  },
  {
   "cell_type": "markdown",
   "id": "904060e4",
   "metadata": {},
   "source": [
    "Load data into data_shards, it is a SparkXshards that can be operated on in parallel, here each element of the data_shards is a panda dataframe read from a file on the cluster. Users can distribute local code of `pd.read_csv(dataFile)` using `bigdl.orca.data.pandas.read_csv(datapath)`."
   ]
  },
  {
   "cell_type": "code",
   "execution_count": null,
   "id": "7be0d69e",
   "metadata": {
    "scrolled": true
   },
   "outputs": [],
   "source": [
    "datapath = '../auto-mpg.csv'\n",
    "column_names = ['MPG', 'Cylinders', 'Displacement', 'Horsepower', 'Weight',\n",
    "                'Acceleration', 'Model Year', 'Origin']\n",
    "data_shards = bigdl.orca.data.pandas.read_csv(file_path=datapath, names=column_names,\n",
    "                                              na_values=\"?\", comment='\\t',\n",
    "                                              sep=\" \", skipinitialspace=True)\n"
   ]
  },
  {
   "cell_type": "code",
   "execution_count": 5,
   "id": "6d12d912",
   "metadata": {
    "scrolled": true
   },
   "outputs": [
    {
     "data": {
      "text/html": [
       "<div>\n",
       "<style scoped>\n",
       "    .dataframe tbody tr th:only-of-type {\n",
       "        vertical-align: middle;\n",
       "    }\n",
       "\n",
       "    .dataframe tbody tr th {\n",
       "        vertical-align: top;\n",
       "    }\n",
       "\n",
       "    .dataframe thead th {\n",
       "        text-align: right;\n",
       "    }\n",
       "</style>\n",
       "<table border=\"1\" class=\"dataframe\">\n",
       "  <thead>\n",
       "    <tr style=\"text-align: right;\">\n",
       "      <th></th>\n",
       "      <th>MPG</th>\n",
       "      <th>Cylinders</th>\n",
       "      <th>Displacement</th>\n",
       "      <th>Horsepower</th>\n",
       "      <th>Weight</th>\n",
       "      <th>Acceleration</th>\n",
       "      <th>Model Year</th>\n",
       "      <th>Origin</th>\n",
       "    </tr>\n",
       "  </thead>\n",
       "  <tbody>\n",
       "    <tr>\n",
       "      <th>0</th>\n",
       "      <td>18.0</td>\n",
       "      <td>8</td>\n",
       "      <td>307.0</td>\n",
       "      <td>130.0</td>\n",
       "      <td>3504.0</td>\n",
       "      <td>12.0</td>\n",
       "      <td>70</td>\n",
       "      <td>1</td>\n",
       "    </tr>\n",
       "    <tr>\n",
       "      <th>1</th>\n",
       "      <td>15.0</td>\n",
       "      <td>8</td>\n",
       "      <td>350.0</td>\n",
       "      <td>165.0</td>\n",
       "      <td>3693.0</td>\n",
       "      <td>11.5</td>\n",
       "      <td>70</td>\n",
       "      <td>1</td>\n",
       "    </tr>\n",
       "    <tr>\n",
       "      <th>2</th>\n",
       "      <td>18.0</td>\n",
       "      <td>8</td>\n",
       "      <td>318.0</td>\n",
       "      <td>150.0</td>\n",
       "      <td>3436.0</td>\n",
       "      <td>11.0</td>\n",
       "      <td>70</td>\n",
       "      <td>1</td>\n",
       "    </tr>\n",
       "    <tr>\n",
       "      <th>3</th>\n",
       "      <td>16.0</td>\n",
       "      <td>8</td>\n",
       "      <td>304.0</td>\n",
       "      <td>150.0</td>\n",
       "      <td>3433.0</td>\n",
       "      <td>12.0</td>\n",
       "      <td>70</td>\n",
       "      <td>1</td>\n",
       "    </tr>\n",
       "    <tr>\n",
       "      <th>4</th>\n",
       "      <td>17.0</td>\n",
       "      <td>8</td>\n",
       "      <td>302.0</td>\n",
       "      <td>140.0</td>\n",
       "      <td>3449.0</td>\n",
       "      <td>10.5</td>\n",
       "      <td>70</td>\n",
       "      <td>1</td>\n",
       "    </tr>\n",
       "  </tbody>\n",
       "</table>\n",
       "</div>"
      ],
      "text/plain": [
       "    MPG  Cylinders  Displacement  Horsepower  Weight  Acceleration  \\\n",
       "0  18.0          8         307.0       130.0  3504.0          12.0   \n",
       "1  15.0          8         350.0       165.0  3693.0          11.5   \n",
       "2  18.0          8         318.0       150.0  3436.0          11.0   \n",
       "3  16.0          8         304.0       150.0  3433.0          12.0   \n",
       "4  17.0          8         302.0       140.0  3449.0          10.5   \n",
       "\n",
       "   Model Year  Origin  \n",
       "0          70       1  \n",
       "1          70       1  \n",
       "2          70       1  \n",
       "3          70       1  \n",
       "4          70       1  "
      ]
     },
     "execution_count": 5,
     "metadata": {},
     "output_type": "execute_result"
    }
   ],
   "source": [
    "# show the first couple of rows in the data_shards\n",
    "print(data_shards.head(5))\n",
    "print(data_shards._get_class_name())"
   ]
  },
  {
   "cell_type": "code",
   "execution_count": 6,
   "id": "62d45e04",
   "metadata": {
    "scrolled": true
   },
   "outputs": [
    {
     "data": {
      "text/plain": [
       "1"
      ]
     },
     "execution_count": 6,
     "metadata": {},
     "output_type": "execute_result"
    }
   ],
   "source": [
    "# see the num of partitions of data_shards\n",
    "data_shards.num_partitions()\n"
   ]
  },
  {
   "cell_type": "code",
   "execution_count": 7,
   "id": "3b8526d9",
   "metadata": {
    "scrolled": true
   },
   "outputs": [
    {
     "data": {
      "text/plain": [
       "398"
      ]
     },
     "execution_count": 7,
     "metadata": {},
     "output_type": "execute_result"
    }
   ],
   "source": [
    "# count total number of rows in the data_shards\n",
    "len(data_shards)"
   ]
  },
  {
   "cell_type": "markdown",
   "id": "ce183207",
   "metadata": {},
   "source": [
    "## Clean the data"
   ]
  },
  {
   "cell_type": "markdown",
   "id": "ef28781d",
   "metadata": {},
   "source": [
    "The dataset contains a few unknown values, drop them"
   ]
  },
  {
   "cell_type": "code",
   "execution_count": 8,
   "id": "abbc976d",
   "metadata": {},
   "outputs": [
    {
     "data": {
      "text/html": [
       "<div>\n",
       "<style scoped>\n",
       "    .dataframe tbody tr th:only-of-type {\n",
       "        vertical-align: middle;\n",
       "    }\n",
       "\n",
       "    .dataframe tbody tr th {\n",
       "        vertical-align: top;\n",
       "    }\n",
       "\n",
       "    .dataframe thead th {\n",
       "        text-align: right;\n",
       "    }\n",
       "</style>\n",
       "<table border=\"1\" class=\"dataframe\">\n",
       "  <thead>\n",
       "    <tr style=\"text-align: right;\">\n",
       "      <th></th>\n",
       "      <th>col</th>\n",
       "      <th>total</th>\n",
       "    </tr>\n",
       "  </thead>\n",
       "  <tbody>\n",
       "    <tr>\n",
       "      <th>3</th>\n",
       "      <td>Horsepower</td>\n",
       "      <td>6</td>\n",
       "    </tr>\n",
       "    <tr>\n",
       "      <th>0</th>\n",
       "      <td>MPG</td>\n",
       "      <td>0</td>\n",
       "    </tr>\n",
       "    <tr>\n",
       "      <th>1</th>\n",
       "      <td>Cylinders</td>\n",
       "      <td>0</td>\n",
       "    </tr>\n",
       "    <tr>\n",
       "      <th>2</th>\n",
       "      <td>Displacement</td>\n",
       "      <td>0</td>\n",
       "    </tr>\n",
       "    <tr>\n",
       "      <th>4</th>\n",
       "      <td>Weight</td>\n",
       "      <td>0</td>\n",
       "    </tr>\n",
       "  </tbody>\n",
       "</table>\n",
       "</div>"
      ],
      "text/plain": [
       "            col  total\n",
       "3    Horsepower      6\n",
       "0           MPG      0\n",
       "1     Cylinders      0\n",
       "2  Displacement      0\n",
       "4        Weight      0"
      ]
     },
     "execution_count": 8,
     "metadata": {},
     "output_type": "execute_result"
    }
   ],
   "source": [
    "null_cnt_pdf = data_shards.get_null_sum().sort_values(by=\"total\", ascending=False)\n",
    "null_cnt_pdf.head(5)"
   ]
  },
  {
   "cell_type": "code",
   "execution_count": 9,
   "id": "1f93fc66",
   "metadata": {},
   "outputs": [],
   "source": [
    "def drop_na(df):\n",
    "    df = df.dropna()\n",
    "    return df\n",
    "data_shards = data_shards.transform_shard(drop_na)"
   ]
  },
  {
   "cell_type": "markdown",
   "id": "121255d2",
   "metadata": {},
   "source": [
    "The \"Origin\" column is really categorical, not numeric. So convert that to a one-hot:"
   ]
  },
  {
   "cell_type": "code",
   "execution_count": 10,
   "id": "6075bcb3",
   "metadata": {},
   "outputs": [],
   "source": [
    "def generate_extra_cols(df):\n",
    "    origin = df.pop('Origin')\n",
    "    df['USA'] = (origin == 1)*1.0\n",
    "    df['Europe'] = (origin == 2)*1.0\n",
    "    df['Japan'] = (origin == 3)*1.0\n",
    "    return df\n",
    "\n",
    "data_shards = data_shards.transform_shard(generate_extra_cols)"
   ]
  },
  {
   "cell_type": "markdown",
   "id": "97f8598d",
   "metadata": {},
   "source": [
    "## Inspect the data"
   ]
  },
  {
   "cell_type": "markdown",
   "id": "0c76ffc7",
   "metadata": {},
   "source": [
    "Users can compute the descriptive statistics summary of on the full data_shards in a distributed way. For local visualization, users can sample a portion of the data_shards across the cluster into a local panda dataframe, then analyze it using traditional tools like seaborn for plots."
   ]
  },
  {
   "cell_type": "markdown",
   "id": "0dc83601",
   "metadata": {},
   "source": [
    "###  Local visualization"
   ]
  },
  {
   "cell_type": "markdown",
   "id": "93a246d7",
   "metadata": {},
   "source": [
    "Users can call `data_shards.sample_to_pdf(frac)` to sample a portion of the data_shards and bring back to a panda dataframe on local for visualization. \n",
    "Just a few examples are shown in here."
   ]
  },
  {
   "cell_type": "code",
   "execution_count": 12,
   "id": "c9c7c5c4",
   "metadata": {
    "scrolled": true
   },
   "outputs": [],
   "source": [
    "# 0 < frac <= 1, here frac = 1.0 is chosen to collect and show full data.\n",
    "pdf = data_shards.sample_to_pdf(frac = 1.0)"
   ]
  },
  {
   "cell_type": "code",
   "execution_count": 13,
   "id": "5a39cf2f",
   "metadata": {
    "scrolled": true
   },
   "outputs": [
    {
     "data": {
      "image/png": "[encoded data removed]",
      "text/plain": [
       "<Figure size 720x720 with 20 Axes>"
      ]
     },
     "metadata": {
      "needs_background": "light"
     },
     "output_type": "display_data"
    }
   ],
   "source": [
    "sns.pairplot(pdf[[\"MPG\", \"Cylinders\", \"Displacement\", \"Weight\"]], diag_kind=\"kde\")\n",
    "plt.show()"
   ]
  },
  {
   "cell_type": "markdown",
   "id": "24713dbf",
   "metadata": {},
   "source": [
    "Plot scatter plots to show relationship with numerical variables."
   ]
  },
  {
   "cell_type": "markdown",
   "id": "a3a3ba2a",
   "metadata": {},
   "source": [
    "## Normalize the data using MinMaxScaler"
   ]
  },
  {
   "cell_type": "code",
   "execution_count": 14,
   "id": "0c1c4b63",
   "metadata": {},
   "outputs": [
    {
     "name": "stdout",
     "output_type": "stream",
     "text": [
      "['MPG', 'Cylinders', 'Displacement', 'Horsepower', 'Weight', 'Acceleration', 'Model Year', 'USA', 'Europe', 'Japan']\n",
      "createDataFrame from shards attempted Arrow optimization failed as: 'NoneType' object has no attribute 'json',Will try without Arrow optimization\n",
      "create shards from Spark DataFrame attempted Arrow optimization failed as: name 'df' is not defined. Will try without Arrow optimization\n"
     ]
    },
    {
     "name": "stderr",
     "output_type": "stream",
     "text": [
      "                                                                                \r"
     ]
    }
   ],
   "source": [
    "columns = data_shards.get_schema()['columns']\n",
    "print(columns)\n",
    "scaler = MinMaxScaler(inputCol=list(columns[1:]), outputCol=\"scaled_vec\")\n",
    "data_shards = scaler.fit_transform(data_shards)"
   ]
  },
  {
   "cell_type": "markdown",
   "id": "06ca17ff",
   "metadata": {},
   "source": [
    "## Train validation split"
   ]
  },
  {
   "cell_type": "code",
   "execution_count": 15,
   "id": "d1568364",
   "metadata": {},
   "outputs": [],
   "source": [
    "def split_train_test(df):\n",
    "    train_df = df.sample(frac=0.8, random_state=0)\n",
    "    test_df = df.drop(train_df.index)\n",
    "    return train_df, test_df\n",
    "\n",
    "shards_train, shards_val = data_shards.transform_shard(split_train_test).split()"
   ]
  },
  {
   "cell_type": "code",
   "execution_count": 16,
   "id": "95f8dd5a",
   "metadata": {},
   "outputs": [
    {
     "data": {
      "text/html": [
       "<div>\n",
       "<style scoped>\n",
       "    .dataframe tbody tr th:only-of-type {\n",
       "        vertical-align: middle;\n",
       "    }\n",
       "\n",
       "    .dataframe tbody tr th {\n",
       "        vertical-align: top;\n",
       "    }\n",
       "\n",
       "    .dataframe thead th {\n",
       "        text-align: right;\n",
       "    }\n",
       "</style>\n",
       "<table border=\"1\" class=\"dataframe\">\n",
       "  <thead>\n",
       "    <tr style=\"text-align: right;\">\n",
       "      <th></th>\n",
       "      <th>MPG</th>\n",
       "      <th>Cylinders</th>\n",
       "      <th>Displacement</th>\n",
       "      <th>Horsepower</th>\n",
       "      <th>Weight</th>\n",
       "      <th>Acceleration</th>\n",
       "      <th>Model Year</th>\n",
       "      <th>USA</th>\n",
       "      <th>Europe</th>\n",
       "      <th>Japan</th>\n",
       "      <th>081c9e2e-6871-11ed-aba1-dca9048df0d4x_vec</th>\n",
       "      <th>scaled_vec</th>\n",
       "    </tr>\n",
       "  </thead>\n",
       "  <tbody>\n",
       "    <tr>\n",
       "      <th>144</th>\n",
       "      <td>28.0</td>\n",
       "      <td>4</td>\n",
       "      <td>90.0</td>\n",
       "      <td>75.0</td>\n",
       "      <td>2125.0</td>\n",
       "      <td>14.5</td>\n",
       "      <td>74</td>\n",
       "      <td>1.0</td>\n",
       "      <td>0.0</td>\n",
       "      <td>0.0</td>\n",
       "      <td>[4.0, 90.0, 75.0, 2125.0, 14.5, 74.0, 1.0, 0.0...</td>\n",
       "      <td>[0.20000000298023224, 0.05684754624962807, 0.1...</td>\n",
       "    </tr>\n",
       "    <tr>\n",
       "      <th>280</th>\n",
       "      <td>22.3</td>\n",
       "      <td>4</td>\n",
       "      <td>140.0</td>\n",
       "      <td>88.0</td>\n",
       "      <td>2890.0</td>\n",
       "      <td>17.3</td>\n",
       "      <td>79</td>\n",
       "      <td>1.0</td>\n",
       "      <td>0.0</td>\n",
       "      <td>0.0</td>\n",
       "      <td>[4.0, 140.0, 88.0, 2890.0, 17.299999237060547,...</td>\n",
       "      <td>[0.20000000298023224, 0.1860465109348297, 0.22...</td>\n",
       "    </tr>\n",
       "    <tr>\n",
       "      <th>68</th>\n",
       "      <td>12.0</td>\n",
       "      <td>8</td>\n",
       "      <td>350.0</td>\n",
       "      <td>160.0</td>\n",
       "      <td>4456.0</td>\n",
       "      <td>13.5</td>\n",
       "      <td>72</td>\n",
       "      <td>1.0</td>\n",
       "      <td>0.0</td>\n",
       "      <td>0.0</td>\n",
       "      <td>[8.0, 350.0, 160.0, 4456.0, 13.5, 72.0, 1.0, 0...</td>\n",
       "      <td>[1.0, 0.7286821603775024, 0.6195651888847351, ...</td>\n",
       "    </tr>\n",
       "    <tr>\n",
       "      <th>372</th>\n",
       "      <td>38.0</td>\n",
       "      <td>4</td>\n",
       "      <td>105.0</td>\n",
       "      <td>63.0</td>\n",
       "      <td>2125.0</td>\n",
       "      <td>14.7</td>\n",
       "      <td>82</td>\n",
       "      <td>1.0</td>\n",
       "      <td>0.0</td>\n",
       "      <td>0.0</td>\n",
       "      <td>[4.0, 105.0, 63.0, 2125.0, 14.699999809265137,...</td>\n",
       "      <td>[0.20000000298023224, 0.09560723602771759, 0.0...</td>\n",
       "    </tr>\n",
       "    <tr>\n",
       "      <th>328</th>\n",
       "      <td>33.8</td>\n",
       "      <td>4</td>\n",
       "      <td>97.0</td>\n",
       "      <td>67.0</td>\n",
       "      <td>2145.0</td>\n",
       "      <td>18.0</td>\n",
       "      <td>80</td>\n",
       "      <td>0.0</td>\n",
       "      <td>0.0</td>\n",
       "      <td>1.0</td>\n",
       "      <td>[4.0, 97.0, 67.0, 2145.0, 18.0, 80.0, 0.0, 0.0...</td>\n",
       "      <td>[0.20000000298023224, 0.07493539899587631, 0.1...</td>\n",
       "    </tr>\n",
       "  </tbody>\n",
       "</table>\n",
       "</div>"
      ],
      "text/plain": [
       "      MPG  Cylinders  Displacement  Horsepower  Weight  Acceleration  \\\n",
       "144  28.0          4          90.0        75.0  2125.0          14.5   \n",
       "280  22.3          4         140.0        88.0  2890.0          17.3   \n",
       "68   12.0          8         350.0       160.0  4456.0          13.5   \n",
       "372  38.0          4         105.0        63.0  2125.0          14.7   \n",
       "328  33.8          4          97.0        67.0  2145.0          18.0   \n",
       "\n",
       "     Model Year  USA  Europe  Japan  \\\n",
       "144          74  1.0     0.0    0.0   \n",
       "280          79  1.0     0.0    0.0   \n",
       "68           72  1.0     0.0    0.0   \n",
       "372          82  1.0     0.0    0.0   \n",
       "328          80  0.0     0.0    1.0   \n",
       "\n",
       "             081c9e2e-6871-11ed-aba1-dca9048df0d4x_vec  \\\n",
       "144  [4.0, 90.0, 75.0, 2125.0, 14.5, 74.0, 1.0, 0.0...   \n",
       "280  [4.0, 140.0, 88.0, 2890.0, 17.299999237060547,...   \n",
       "68   [8.0, 350.0, 160.0, 4456.0, 13.5, 72.0, 1.0, 0...   \n",
       "372  [4.0, 105.0, 63.0, 2125.0, 14.699999809265137,...   \n",
       "328  [4.0, 97.0, 67.0, 2145.0, 18.0, 80.0, 0.0, 0.0...   \n",
       "\n",
       "                                            scaled_vec  \n",
       "144  [0.20000000298023224, 0.05684754624962807, 0.1...  \n",
       "280  [0.20000000298023224, 0.1860465109348297, 0.22...  \n",
       "68   [1.0, 0.7286821603775024, 0.6195651888847351, ...  \n",
       "372  [0.20000000298023224, 0.09560723602771759, 0.0...  \n",
       "328  [0.20000000298023224, 0.07493539899587631, 0.1...  "
      ]
     },
     "execution_count": 16,
     "metadata": {},
     "output_type": "execute_result"
    }
   ],
   "source": [
    "shards_train.head(5)"
   ]
  },
  {
   "cell_type": "code",
   "execution_count": 18,
   "id": "3479a1be",
   "metadata": {
    "scrolled": true
   },
   "outputs": [
    {
     "name": "stdout",
     "output_type": "stream",
     "text": [
      "314 78\n"
     ]
    }
   ],
   "source": [
    "print(len(shards_train), len(shards_val))"
   ]
  },
  {
   "cell_type": "markdown",
   "id": "c38da308",
   "metadata": {},
   "source": [
    "## The model"
   ]
  },
  {
   "cell_type": "markdown",
   "id": "3806b914",
   "metadata": {
    "scrolled": true
   },
   "source": [
    "Build the model model as usual. Here, we'll use a Sequential model with two densely connected hidden layers, and an output layer that returns a single, continuous value. The model building steps are wrapped in a function, build_model.\n"
   ]
  },
  {
   "cell_type": "code",
   "execution_count": 19,
   "id": "394393c8",
   "metadata": {},
   "outputs": [],
   "source": [
    "def build_model():\n",
    "    model = Sequential([\n",
    "        Dense(64, activation=tf.nn.relu, input_shape=[9]),\n",
    "        Dense(64, activation=tf.nn.relu),\n",
    "        Dense(1)\n",
    "    ])\n",
    "\n",
    "    optimizer = tf.keras.optimizers.RMSprop(0.001)\n",
    "\n",
    "    model.compile(loss='mean_squared_error',\n",
    "                  optimizer=optimizer,\n",
    "                  metrics=['mean_absolute_error', 'mean_squared_error'])\n",
    "    return model"
   ]
  },
  {
   "cell_type": "code",
   "execution_count": null,
   "id": "ac0db7e4",
   "metadata": {},
   "outputs": [],
   "source": [
    "model = build_model()"
   ]
  },
  {
   "cell_type": "code",
   "execution_count": 21,
   "id": "5ff9aecd",
   "metadata": {},
   "outputs": [],
   "source": [
    "est = Estimator.from_keras(keras_model=model)"
   ]
  },
  {
   "cell_type": "code",
   "execution_count": null,
   "id": "52c640cb",
   "metadata": {},
   "outputs": [],
   "source": [
    "EPOCHS = 1000\n",
    "est.fit(data=shards_train,\n",
    "        batch_size=16,\n",
    "        epochs=EPOCHS, feature_cols=['scaled_vec'], label_cols=['MPG'])"
   ]
  },
  {
   "cell_type": "code",
   "execution_count": 23,
   "id": "d9c18a3c",
   "metadata": {},
   "outputs": [
    {
     "name": "stdout",
     "output_type": "stream",
     "text": [
      "Stopping orca context\n"
     ]
    }
   ],
   "source": [
    "stop_orca_context()"
   ]
  }
 ],
 "metadata": {
  "kernelspec": {
   "display_name": "py37tf2_x3",
   "language": "python",
   "name": "py37tf2_x3"
  },
  "language_info": {
   "codemirror_mode": {
    "name": "ipython",
    "version": 3
   },
   "file_extension": ".py",
   "mimetype": "text/x-python",
   "name": "python",
   "nbconvert_exporter": "python",
   "pygments_lexer": "ipython3",
   "version": "3.7.10"
  }
 },
 "nbformat": 4,
 "nbformat_minor": 5
}
