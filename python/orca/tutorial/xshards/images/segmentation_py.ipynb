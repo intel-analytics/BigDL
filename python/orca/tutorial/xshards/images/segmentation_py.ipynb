{
 "cells": [
  {
   "cell_type": "markdown",
   "id": "a3b44703",
   "metadata": {},
   "source": [
    "# U-Net: Training Image Segmentation Models in PyTorch"
   ]
  },
  {
   "cell_type": "markdown",
   "id": "416b0a4b",
   "metadata": {},
   "source": [
    "Copyright 2016 The BigDL Authors."
   ]
  },
  {
   "cell_type": "raw",
   "id": "a474a628",
   "metadata": {},
   "source": [
    "# Licensed under the Apache License, Version 2.0 (the \"License\");\n",
    "# you may not use this file except in compliance with the License.\n",
    "# You may obtain a copy of the License at\n",
    "#\n",
    "#     http://www.apache.org/licenses/LICENSE-2.0\n",
    "#\n",
    "# Unless required by applicable law or agreed to in writing, software\n",
    "# distributed under the License is distributed on an \"AS IS\" BASIS,\n",
    "# WITHOUT WARRANTIES OR CONDITIONS OF ANY KIND, either express or implied.\n",
    "# See the License for the specific language governing permissions and\n",
    "# limitations under the License."
   ]
  },
  {
   "cell_type": "markdown",
   "id": "bf304c91",
   "metadata": {},
   "source": [
    "SparkXshards in Orca allows users to process large-scale dataset using existing Python codes in a distributed and data-parallel fashion, as shown below. This notebook is an example of training U-Net, an image segmentation model in PyTorch on Orca Estimtor and SparkXShard of images. \n",
    "\n",
    "It is adapted from [U-Net: Training Image Segmentation Models in PyTorch](https://pyimagesearch.com/2021/11/08/u-net-training-image-segmentation-models-in-pytorch/) on [TGS Salt Segmentation Dataset](https://www.kaggle.com/c/tgs-salt-identification-challenge). "
   ]
  },
  {
   "cell_type": "code",
   "execution_count": null,
   "id": "aa7ba935",
   "metadata": {},
   "outputs": [],
   "source": [
    "# Use seaborn for some plots\n",
    "!pip install torch torchvision"
   ]
  },
  {
   "cell_type": "code",
   "execution_count": null,
   "id": "fca5adf8",
   "metadata": {},
   "outputs": [],
   "source": [
    "# import necessary libraries\n",
    "from bigdl.orca.data.shard import SparkXShards\n",
    "\n",
    "import bigdl.orca.data.image\n",
    "from bigdl.orca import init_orca_context, stop_orca_context\n",
    "from bigdl.orca.learn.pytorch import Estimator\n",
    "import numpy as np\n",
    "from torch.nn import ConvTranspose2d\n",
    "from torch.nn import Conv2d\n",
    "from torch.nn import MaxPool2d\n",
    "from torch.nn import Module\n",
    "from torch.nn import ModuleList\n",
    "from torch.nn import ReLU\n",
    "from torchvision.transforms import CenterCrop\n",
    "from torch.nn import functional as F\n",
    "import torch.nn\n",
    "import torch.optim as optim\n",
    "from torchvision import transforms"
   ]
  },
  {
   "cell_type": "markdown",
   "id": "833f9193",
   "metadata": {},
   "source": [
    "Start an OrcaContext and give a bit more memory."
   ]
  },
  {
   "cell_type": "code",
   "execution_count": null,
   "id": "1cb05ce2",
   "metadata": {},
   "outputs": [],
   "source": [
    "sc = init_orca_context(cluster_mode=\"local\", cores=4, memory=\"8g\")"
   ]
  },
  {
   "cell_type": "markdown",
   "id": "a46ad6a7",
   "metadata": {},
   "source": [
    "##  Load images into SparkXShards in parallel"
   ]
  },
  {
   "cell_type": "markdown",
   "id": "904060e4",
   "metadata": {},
   "source": [
    "Load data into data_shards, it is a SparkXshards that can be operated on in parallel. Here each record is a tuple of (image: PIL.Image.Image and mask: PIL.Image.Image), and could be operated as "
   ]
  },
  {
   "cell_type": "code",
   "execution_count": 4,
   "id": "7be0d69e",
   "metadata": {
    "scrolled": true
   },
   "outputs": [
    {
     "name": "stderr",
     "output_type": "stream",
     "text": [
      "                                                                                \r"
     ]
    }
   ],
   "source": [
    "input_dir = \"../tsg_salt/images/\"\n",
    "target_dir = \"../tsg_salt/masks/\"\n",
    "data_shards = bigdl.orca.data.image.read_images(input_dir, \n",
    "                                                target_path=target_dir, \n",
    "                                                image_type=\".png\", \n",
    "                                                target_type=\".png\")"
   ]
  },
  {
   "cell_type": "code",
   "execution_count": 5,
   "id": "6d12d912",
   "metadata": {
    "scrolled": true
   },
   "outputs": [
    {
     "data": {
      "image/png": "[encoded data removed]",
      "text/plain": [
       "<PIL.Image.Image image mode=RGB size=101x101 at 0x7F9269B27290>"
      ]
     },
     "metadata": {},
     "output_type": "display_data"
    },
    {
     "data": {
      "image/png": "[encoded data removed]",
      "text/plain": [
       "<PIL.Image.Image image mode=L size=101x101 at 0x7F9269CBAFD0>"
      ]
     },
     "metadata": {},
     "output_type": "display_data"
    }
   ],
   "source": [
    "# take a look at the data\n",
    "from PIL import ImageOps\n",
    "image, mask = data_shards.first()\n",
    "display(image)\n",
    "mask = ImageOps.autocontrast(mask)\n",
    "display(mask)"
   ]
  },
  {
   "cell_type": "code",
   "execution_count": 6,
   "id": "62d45e04",
   "metadata": {
    "scrolled": true
   },
   "outputs": [
    {
     "data": {
      "text/plain": [
       "4"
      ]
     },
     "execution_count": 6,
     "metadata": {},
     "output_type": "execute_result"
    }
   ],
   "source": [
    "# see the num of partitions of data_shards\n",
    "data_shards.num_partitions()\n"
   ]
  },
  {
   "cell_type": "markdown",
   "id": "ce183207",
   "metadata": {},
   "source": [
    "## Transformation of the images"
   ]
  },
  {
   "cell_type": "markdown",
   "id": "ccff8361",
   "metadata": {},
   "source": [
    "Define a train_transform function directly using methods of torchvision transforms "
   ]
  },
  {
   "cell_type": "code",
   "execution_count": 7,
   "id": "c40ab5c3",
   "metadata": {},
   "outputs": [],
   "source": [
    "def train_transform(im):\n",
    "    features = im[0]\n",
    "    features = transforms.Resize((80, 80))(features)\n",
    "    features = transforms.ToTensor()(features)\n",
    "    features = features.numpy()\n",
    "\n",
    "    targets = im[1]\n",
    "    targets = transforms.Resize((80, 80))(targets)\n",
    "    targets = transforms.ToTensor()(targets)\n",
    "    targets = targets.numpy()\n",
    "    return features, targets"
   ]
  },
  {
   "cell_type": "code",
   "execution_count": 8,
   "id": "abbc976d",
   "metadata": {},
   "outputs": [
    {
     "name": "stderr",
     "output_type": "stream",
     "text": [
      "                                                                                \r"
     ]
    }
   ],
   "source": [
    "data_shards = data_shards.transform_shard(train_transform)"
   ]
  },
  {
   "cell_type": "markdown",
   "id": "5aa49894",
   "metadata": {},
   "source": [
    "Stack elements of each partition into an ndarray of features and labels for efficient training"
   ]
  },
  {
   "cell_type": "code",
   "execution_count": 9,
   "id": "7de5bfdd",
   "metadata": {},
   "outputs": [
    {
     "name": "stderr",
     "output_type": "stream",
     "text": [
      "                                                                                \r"
     ]
    }
   ],
   "source": [
    "data_shards = data_shards.stack_feature_labels()"
   ]
  },
  {
   "cell_type": "markdown",
   "id": "c38da308",
   "metadata": {},
   "source": [
    "## The model"
   ]
  },
  {
   "cell_type": "markdown",
   "id": "3806b914",
   "metadata": {
    "scrolled": true
   },
   "source": [
    "Build the U-Net model model as usual. Here, model is adapted from https://pyimagesearch.com/2021/11/08/u-net-training-image-segmentation-models-in-pytorch/."
   ]
  },
  {
   "cell_type": "code",
   "execution_count": 10,
   "id": "394393c8",
   "metadata": {},
   "outputs": [],
   "source": [
    "img_size = (80, 80)\n",
    "\n",
    "class Block(Module):\n",
    "    def __init__(self, inChannels, outChannels):\n",
    "        super().__init__()\n",
    "        # store the convolution and RELU layers\n",
    "        self.conv1 = Conv2d(inChannels, outChannels, 3)\n",
    "        self.relu = ReLU()\n",
    "        self.conv2 = Conv2d(outChannels, outChannels, 3)\n",
    "    def forward(self, x):\n",
    "        # apply CONV => RELU => CONV block to the inputs and return it\n",
    "        return self.conv2(self.relu(self.conv1(x)))\n",
    "\n",
    "class Encoder(Module):\n",
    "    def __init__(self, channels=(3, 16, 32, 64)):\n",
    "        super().__init__()\n",
    "        # store the encoder blocks and maxpooling layer\n",
    "        self.encBlocks = ModuleList([Block(channels[i], channels[i + 1])\n",
    "                                     for i in range(len(channels) - 1)])\n",
    "        self.pool = MaxPool2d(2)\n",
    "\n",
    "    def forward(self, x):\n",
    "        # initialize an empty list to store the intermediate outputs\n",
    "        blockOutputs = []\n",
    "        # loop through the encoder blocks\n",
    "        for block in self.encBlocks:\n",
    "            # pass the inputs through the current encoder block, store\n",
    "            # the outputs, and then apply maxpooling on the output\n",
    "            x = block(x)\n",
    "            blockOutputs.append(x)\n",
    "            x = self.pool(x)\n",
    "        # return the list containing the intermediate outputs\n",
    "        return blockOutputs\n",
    "\n",
    "\n",
    "class Decoder(Module):\n",
    "    def __init__(self, channels=(64, 32, 16)):\n",
    "        super().__init__()\n",
    "        # initialize the number of channels, upsampler blocks, and decoder blocks\n",
    "        self.channels = channels\n",
    "        self.upconvs = ModuleList([ConvTranspose2d(channels[i], channels[i + 1], 2, 2)\n",
    "                                   for i in range(len(channels) - 1)])\n",
    "        self.dec_blocks = ModuleList([Block(channels[i], channels[i + 1])\n",
    "                                      for i in range(len(channels) - 1)])\n",
    "\n",
    "    def forward(self, x, encFeatures):\n",
    "        # loop through the number of channels\n",
    "        for i in range(len(self.channels) - 1):\n",
    "            # pass the inputs through the upsampler blocks\n",
    "            x = self.upconvs[i](x)\n",
    "            # crop the current features from the encoder blocks,\n",
    "            # concatenate them with the current upsampled features,\n",
    "            # and pass the concatenated output through the current\n",
    "            # decoder block\n",
    "            encFeat = self.crop(encFeatures[i], x)\n",
    "            x = torch.cat([x, encFeat], dim=1)\n",
    "            x = self.dec_blocks[i](x)\n",
    "        # return the final decoder output\n",
    "        return x\n",
    "\n",
    "    def crop(self, encFeatures, x):\n",
    "        # grab the dimensions of the inputs, and crop the encoder\n",
    "\t\t# features to match the dimensions\n",
    "        (_, _, H, W) = x.shape\n",
    "        encFeatures = CenterCrop([H, W])(encFeatures)\n",
    "        # return the cropped features\n",
    "        return encFeatures\n",
    "\n",
    "class UNet(Module):\n",
    "    def __init__(self, encChannels=(3, 16, 32, 64),\n",
    "                 decChannels=(64, 32, 16),\n",
    "                 nbClasses=1, retainDim=True,\n",
    "                 outSize = (img_size[0], img_size[1])):\n",
    "        super().__init__()\n",
    "        # initialize the encoder and decoder\n",
    "        self.encoder = Encoder(encChannels)\n",
    "        self.decoder = Decoder(decChannels)\n",
    "        # initialize the regression head and store the class variables\n",
    "        self.head = Conv2d(decChannels[-1], nbClasses, 1)\n",
    "        self.retainDim = retainDim\n",
    "        self.outSize = outSize\n",
    "\n",
    "    def forward(self, x):\n",
    "        # grab the features from the encoder\n",
    "        encFeatures = self.encoder(x)\n",
    "        # pass the encoder features through decoder making sure that\n",
    "        # their dimensions are suited for concatenation\n",
    "        decFeatures = self.decoder(encFeatures[::-1][0],\n",
    "            encFeatures[::-1][1:])\n",
    "        # pass the decoder features through the regression head to\n",
    "        # obtain the segmentation mask\n",
    "        map = self.head(decFeatures)\n",
    "        # check to see if we are retaining the original output\n",
    "        # dimensions and if so, then resize the output to match them\n",
    "        if self.retainDim:\n",
    "            map = F.interpolate(map, self.outSize)\n",
    "        # return the segmentation map\n",
    "        return map"
   ]
  },
  {
   "cell_type": "markdown",
   "id": "6aa536a1",
   "metadata": {},
   "source": [
    "define a model_creator for Orca Estimator and show the summary of model structure"
   ]
  },
  {
   "cell_type": "code",
   "execution_count": 11,
   "id": "88dd965d",
   "metadata": {},
   "outputs": [],
   "source": [
    "def model_creator(config):\n",
    "    model = UNet()\n",
    "    model.train()\n",
    "    print(model)\n",
    "    return model"
   ]
  },
  {
   "cell_type": "markdown",
   "id": "15fdcd7f",
   "metadata": {},
   "source": [
    "define the loss function, optimizer"
   ]
  },
  {
   "cell_type": "code",
   "execution_count": 12,
   "id": "c1de6bce",
   "metadata": {},
   "outputs": [],
   "source": [
    "criterion = torch.nn.BCEWithLogitsLoss()\n",
    "\n",
    "def optimizer_creator(model, config):\n",
    "    optimizer = optim.Adam(model.parameters(), lr=0.001)\n",
    "    return optimizer"
   ]
  },
  {
   "cell_type": "markdown",
   "id": "88826381",
   "metadata": {},
   "source": [
    "define an Orca Estimator and train the model"
   ]
  },
  {
   "cell_type": "code",
   "execution_count": 13,
   "id": "51dd7ebf",
   "metadata": {},
   "outputs": [
    {
     "name": "stdout",
     "output_type": "stream",
     "text": [
      "UNet(\n",
      "  (encoder): Encoder(\n",
      "    (encBlocks): ModuleList(\n",
      "      (0): Block(\n",
      "        (conv1): Conv2d(3, 16, kernel_size=(3, 3), stride=(1, 1))\n",
      "        (relu): ReLU()\n",
      "        (conv2): Conv2d(16, 16, kernel_size=(3, 3), stride=(1, 1))\n",
      "      )\n",
      "      (1): Block(\n",
      "        (conv1): Conv2d(16, 32, kernel_size=(3, 3), stride=(1, 1))\n",
      "        (relu): ReLU()\n",
      "        (conv2): Conv2d(32, 32, kernel_size=(3, 3), stride=(1, 1))\n",
      "      )\n",
      "      (2): Block(\n",
      "        (conv1): Conv2d(32, 64, kernel_size=(3, 3), stride=(1, 1))\n",
      "        (relu): ReLU()\n",
      "        (conv2): Conv2d(64, 64, kernel_size=(3, 3), stride=(1, 1))\n",
      "      )\n",
      "    )\n",
      "    (pool): MaxPool2d(kernel_size=2, stride=2, padding=0, dilation=1, ceil_mode=False)\n",
      "  )\n",
      "  (decoder): Decoder(\n",
      "    (upconvs): ModuleList(\n",
      "      (0): ConvTranspose2d(64, 32, kernel_size=(2, 2), stride=(2, 2))\n",
      "      (1): ConvTranspose2d(32, 16, kernel_size=(2, 2), stride=(2, 2))\n",
      "    )\n",
      "    (dec_blocks): ModuleList(\n",
      "      (0): Block(\n",
      "        (conv1): Conv2d(64, 32, kernel_size=(3, 3), stride=(1, 1))\n",
      "        (relu): ReLU()\n",
      "        (conv2): Conv2d(32, 32, kernel_size=(3, 3), stride=(1, 1))\n",
      "      )\n",
      "      (1): Block(\n",
      "        (conv1): Conv2d(32, 16, kernel_size=(3, 3), stride=(1, 1))\n",
      "        (relu): ReLU()\n",
      "        (conv2): Conv2d(16, 16, kernel_size=(3, 3), stride=(1, 1))\n",
      "      )\n",
      "    )\n",
      "  )\n",
      "  (head): Conv2d(16, 1, kernel_size=(1, 1), stride=(1, 1))\n",
      ")\n"
     ]
    }
   ],
   "source": [
    "orca_estimator = Estimator.from_torch(model=model_creator,\n",
    "                                      optimizer=optimizer_creator,\n",
    "                                      loss=criterion,\n",
    "                                      metrics=[criterion],\n",
    "                                      backend=\"spark\")"
   ]
  },
  {
   "cell_type": "code",
   "execution_count": null,
   "id": "52c640cb",
   "metadata": {},
   "outputs": [],
   "source": [
    "EPOCHS = 50\n",
    "BATCH_SIZE = 32\n",
    "orca_estimator.fit(data=data_shards, epochs=EPOCHS, batch_size=BATCH_SIZE)"
   ]
  },
  {
   "cell_type": "code",
   "execution_count": null,
   "id": "d9c18a3c",
   "metadata": {},
   "outputs": [],
   "source": [
    "stop_orca_context()"
   ]
  }
 ],
 "metadata": {
  "kernelspec": {
   "display_name": "py37tf2",
   "language": "python",
   "name": "py37tf2"
  },
  "language_info": {
   "codemirror_mode": {
    "name": "ipython",
    "version": 3
   },
   "file_extension": ".py",
   "mimetype": "text/x-python",
   "name": "python",
   "nbconvert_exporter": "python",
   "pygments_lexer": "ipython3",
   "version": "3.7.10"
  }
 },
 "nbformat": 4,
 "nbformat_minor": 5
}
