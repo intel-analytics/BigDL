{
 "cells": [
  {
   "cell_type": "code",
   "execution_count": 1,
   "metadata": {},
   "outputs": [],
   "source": [
    "# We have to prepare for this journey .... import modules is e great idea .... :)\n",
    "import numpy as np\n",
    "import pandas as pd\n",
    "\n",
    "from sklearn.utils import shuffle\n",
    "\n",
    "import torch\n",
    "import torch.nn as nn\n",
    "import torch.optim as optim\n",
    "import torch.nn.functional as F\n",
    "\n",
    "from bigdl.orca import init_orca_context, OrcaContext\n",
    "from bigdl.orca.learn.pytorch import Estimator \n",
    "from bigdl.orca.learn.metrics import Accuracy\n",
    "\n",
    "import bigdl.orca.data\n",
    "import bigdl.orca.data.pandas\n",
    "from bigdl.orca.data import SharedValue\n",
    "from bigdl.orca.data import SparkXShards\n",
    "\n",
    "from bigdl.orca.data.transform import *\n",
    "\n",
    "import ray"
   ]
  },
  {
   "cell_type": "code",
   "execution_count": 2,
   "metadata": {},
   "outputs": [
    {
     "name": "stdout",
     "output_type": "stream",
     "text": [
      "Initializing orca context\n",
      "Current pyspark location is : /home/yansu/miniconda3/envs/env/lib/python3.7/site-packages/pyspark/__init__.py\n",
      "Start to getOrCreate SparkContext\n",
      "pyspark_submit_args is:  --driver-class-path /home/yansu/Desktop/BigDL/dist/lib/bigdl-dllib-spark_2.4.6-2.1.0-SNAPSHOT-jar-with-dependencies.jar:/home/yansu/Desktop/BigDL/dist/lib/bigdl-friesian-spark_2.4.6-2.1.0-SNAPSHOT-jar-with-dependencies.jar:/home/yansu/Desktop/BigDL/dist/lib/bigdl-orca-spark_2.4.6-2.1.0-SNAPSHOT-jar-with-dependencies.jar pyspark-shell \n",
      "Successfully got a SparkContext\n"
     ]
    }
   ],
   "source": [
    "# cluster_mode can be \"local\", \"k8s\" or \"yarn\"\n",
    "sc = init_orca_context(cluster_mode=\"local\", cores=4, memory=\"10g\", num_nodes=1) "
   ]
  },
  {
   "cell_type": "markdown",
   "metadata": {},
   "source": [
    "### Duplicate the dataframe"
   ]
  },
  {
   "cell_type": "code",
   "execution_count": 3,
   "metadata": {},
   "outputs": [],
   "source": [
    "train = pd.read_csv('./train.csv', index_col = 'id')\n",
    "train = train[~train.drop('target', axis = 1).duplicated()]\n",
    "train.to_csv('./csv_train/train_fix.csv')"
   ]
  },
  {
   "cell_type": "markdown",
   "metadata": {},
   "source": [
    "### Load data"
   ]
  },
  {
   "cell_type": "code",
   "execution_count": 4,
   "metadata": {},
   "outputs": [],
   "source": [
    "file_path = './csv_train'\n",
    "data_shard = bigdl.orca.data.pandas.read_csv(file_path)"
   ]
  },
  {
   "cell_type": "markdown",
   "metadata": {},
   "source": [
    "### Shuffle data"
   ]
  },
  {
   "cell_type": "code",
   "execution_count": 5,
   "metadata": {},
   "outputs": [],
   "source": [
    "RANDOM_STATE = 2021\n",
    "def trans_func(df):\n",
    "    return shuffle(df, random_state=RANDOM_STATE)\n",
    "transformed_data_shard = data_shard.transform_shard(trans_func)"
   ]
  },
  {
   "cell_type": "markdown",
   "metadata": {},
   "source": [
    "### Labelencode y"
   ]
  },
  {
   "cell_type": "code",
   "execution_count": 6,
   "metadata": {},
   "outputs": [],
   "source": [
    "scale = LabelEncode(inputCol='target', outputCol=\"y_scaled\")\n",
    "transformed_data_shard = scale.fit_transform(transformed_data_shard)"
   ]
  },
  {
   "cell_type": "markdown",
   "metadata": {},
   "source": [
    "### Split train and test set"
   ]
  },
  {
   "cell_type": "code",
   "execution_count": 7,
   "metadata": {},
   "outputs": [],
   "source": [
    "TRAIN_SIZE = int(len(data_shard) * 0.8)\n",
    "transformed_data_shard = transformed_data_shard.transform_shard(lambda df: (df[0:int(len(df)*0.8)], df[int(len(df)*0.8):]))\n",
    "shards_splits = transformed_data_shard.split()\n",
    "shards_train = shards_splits[0]\n",
    "shards_val = shards_splits[1]"
   ]
  },
  {
   "cell_type": "markdown",
   "metadata": {},
   "source": [
    "### Transform the feature columns"
   ]
  },
  {
   "cell_type": "code",
   "execution_count": 8,
   "metadata": {},
   "outputs": [],
   "source": [
    "feature_list = []\n",
    "for i in range(50):\n",
    "    feature_list.append('feature_' + str(i))\n",
    "scale = MinMaxScaler(inputCol=feature_list, outputCol=\"x_scaled\")\n",
    "shards_train = scale.fit_transform(shards_train)\n",
    "shards_val = scale.transform(shards_val)"
   ]
  },
  {
   "cell_type": "markdown",
   "metadata": {},
   "source": [
    "### Change data types"
   ]
  },
  {
   "cell_type": "code",
   "execution_count": 9,
   "metadata": {},
   "outputs": [],
   "source": [
    "def trans_func(df):\n",
    "    df['x_scaled'] = df['x_scaled'].apply(lambda x:torch.tensor(np.array(x),dtype=torch.float32))\n",
    "    df['y_scaled'] = df['y_scaled'].apply(lambda x:torch.tensor(x,dtype=torch.long))\n",
    "    return df\n",
    "shards_train1 = shards_train.transform_shard(trans_func)\n",
    "shards_val1 = shards_val.transform_shard(trans_func)"
   ]
  },
  {
   "cell_type": "markdown",
   "metadata": {},
   "source": [
    "### Model"
   ]
  },
  {
   "cell_type": "code",
   "execution_count": 10,
   "metadata": {},
   "outputs": [],
   "source": [
    "torch.manual_seed(0)\n",
    "BATCH_SIZE = 64\n",
    "NUM_FEATURES = len(train.columns)-1\n",
    "NUM_CLASSES = 4\n",
    "NUM_EPOCHS = 100"
   ]
  },
  {
   "cell_type": "code",
   "execution_count": 11,
   "metadata": {},
   "outputs": [],
   "source": [
    "def linear_block(in_features, out_features, p_drop, *args, **kwargs):\n",
    "    return nn.Sequential(\n",
    "        nn.Linear(in_features, out_features),\n",
    "        #nn.BatchNorm1d(out_features),\n",
    "        nn.ReLU(),\n",
    "        nn.Dropout(p = p_drop)\n",
    "    )\n",
    "\n",
    "class TPS05ClassificationSeq(nn.Module):\n",
    "    def __init__(self):\n",
    "        super(TPS05ClassificationSeq, self).__init__()\n",
    "        num_feature = len(train.columns)-1\n",
    "        num_class = 4\n",
    "        self.linear = nn.Sequential(\n",
    "            linear_block(num_feature, 100, 0.3),\n",
    "            linear_block(100, 250, 0.3),\n",
    "            linear_block(250, 128, 0.3),\n",
    "        )\n",
    "        \n",
    "        self.out = nn.Sequential(\n",
    "            nn.Linear(128, num_class)\n",
    "        )\n",
    "    \n",
    "    def forward(self, x):\n",
    "        x = self.linear(x)\n",
    "        return self.out(x)"
   ]
  },
  {
   "cell_type": "code",
   "execution_count": 14,
   "metadata": {},
   "outputs": [],
   "source": [
    "def model_creator(config):\n",
    "    model = TPS05ClassificationSeq()\n",
    "    return model\n",
    "\n",
    "def optim_creator(model, config):\n",
    "    return optim.Adam(model.parameters(), lr = 0.001)\n",
    "\n",
    "criterion = nn.CrossEntropyLoss()"
   ]
  },
  {
   "cell_type": "code",
   "execution_count": 15,
   "metadata": {},
   "outputs": [
    {
     "name": "stderr",
     "output_type": "stream",
     "text": [
      "2022-06-30 17:05:22,072\tINFO services.py:1340 -- View the Ray dashboard at \u001b[1m\u001b[32mhttp://10.239.166.126:8266\u001b[39m\u001b[22m\n"
     ]
    },
    {
     "name": "stdout",
     "output_type": "stream",
     "text": [
      "{'node_ip_address': '10.239.166.126', 'raylet_ip_address': '10.239.166.126', 'redis_address': '10.239.166.126:32362', 'object_store_address': '/tmp/ray/session_2022-06-30_17-05-19_623040_5167/sockets/plasma_store', 'raylet_socket_name': '/tmp/ray/session_2022-06-30_17-05-19_623040_5167/sockets/raylet', 'webui_url': '10.239.166.126:8266', 'session_dir': '/tmp/ray/session_2022-06-30_17-05-19_623040_5167', 'metrics_export_port': 52740, 'node_id': 'bac8ce28b231b9cf338728270cb013999f32034ee852925c10b6c3d0'}\n"
     ]
    },
    {
     "name": "stderr",
     "output_type": "stream",
     "text": [
      "\u001b[2m\u001b[36m(pid=5959)\u001b[0m \n",
      "\u001b[2m\u001b[36m(pid=5959)\u001b[0m User settings:\n",
      "\u001b[2m\u001b[36m(pid=5959)\u001b[0m \n",
      "\u001b[2m\u001b[36m(pid=5959)\u001b[0m    KMP_AFFINITY=granularity=fine,compact,1,0\n",
      "\u001b[2m\u001b[36m(pid=5959)\u001b[0m    KMP_BLOCKTIME=0\n",
      "\u001b[2m\u001b[36m(pid=5959)\u001b[0m    KMP_DUPLICATE_LIB_OK=True\n",
      "\u001b[2m\u001b[36m(pid=5959)\u001b[0m    KMP_INIT_AT_FORK=FALSE\n",
      "\u001b[2m\u001b[36m(pid=5959)\u001b[0m    KMP_SETTINGS=1\n",
      "\u001b[2m\u001b[36m(pid=5959)\u001b[0m    OMP_NUM_THREADS=1\n",
      "\u001b[2m\u001b[36m(pid=5959)\u001b[0m \n",
      "\u001b[2m\u001b[36m(pid=5959)\u001b[0m Effective settings:\n",
      "\u001b[2m\u001b[36m(pid=5959)\u001b[0m \n",
      "\u001b[2m\u001b[36m(pid=5959)\u001b[0m    KMP_ABORT_DELAY=0\n",
      "\u001b[2m\u001b[36m(pid=5959)\u001b[0m    KMP_ADAPTIVE_LOCK_PROPS='1,1024'\n",
      "\u001b[2m\u001b[36m(pid=5959)\u001b[0m    KMP_ALIGN_ALLOC=64\n",
      "\u001b[2m\u001b[36m(pid=5959)\u001b[0m    KMP_ALL_THREADPRIVATE=128\n",
      "\u001b[2m\u001b[36m(pid=5959)\u001b[0m    KMP_ATOMIC_MODE=2\n",
      "\u001b[2m\u001b[36m(pid=5959)\u001b[0m    KMP_BLOCKTIME=0\n",
      "\u001b[2m\u001b[36m(pid=5959)\u001b[0m    KMP_CPUINFO_FILE: value is not defined\n",
      "\u001b[2m\u001b[36m(pid=5959)\u001b[0m    KMP_DETERMINISTIC_REDUCTION=false\n",
      "\u001b[2m\u001b[36m(pid=5959)\u001b[0m    KMP_DEVICE_THREAD_LIMIT=2147483647\n",
      "\u001b[2m\u001b[36m(pid=5959)\u001b[0m    KMP_DISP_HAND_THREAD=false\n",
      "\u001b[2m\u001b[36m(pid=5959)\u001b[0m    KMP_DISP_NUM_BUFFERS=7\n",
      "\u001b[2m\u001b[36m(pid=5959)\u001b[0m    KMP_DUPLICATE_LIB_OK=true\n",
      "\u001b[2m\u001b[36m(pid=5959)\u001b[0m    KMP_ENABLE_TASK_THROTTLING=true\n",
      "\u001b[2m\u001b[36m(pid=5959)\u001b[0m    KMP_FORCE_MONOTONIC_DYNAMIC_SCHEDULE=false\n",
      "\u001b[2m\u001b[36m(pid=5959)\u001b[0m    KMP_FORCE_REDUCTION: value is not defined\n",
      "\u001b[2m\u001b[36m(pid=5959)\u001b[0m    KMP_FOREIGN_THREADS_THREADPRIVATE=true\n",
      "\u001b[2m\u001b[36m(pid=5959)\u001b[0m    KMP_FORKJOIN_BARRIER='2,2'\n",
      "\u001b[2m\u001b[36m(pid=5959)\u001b[0m    KMP_FORKJOIN_BARRIER_PATTERN='hyper,hyper'\n",
      "\u001b[2m\u001b[36m(pid=5959)\u001b[0m    KMP_FORKJOIN_FRAMES=true\n",
      "\u001b[2m\u001b[36m(pid=5959)\u001b[0m    KMP_FORKJOIN_FRAMES_MODE=3\n",
      "\u001b[2m\u001b[36m(pid=5959)\u001b[0m    KMP_GTID_MODE=3\n",
      "\u001b[2m\u001b[36m(pid=5959)\u001b[0m    KMP_HANDLE_SIGNALS=false\n",
      "\u001b[2m\u001b[36m(pid=5959)\u001b[0m    KMP_HOT_TEAMS_MAX_LEVEL=1\n",
      "\u001b[2m\u001b[36m(pid=5959)\u001b[0m    KMP_HOT_TEAMS_MODE=0\n",
      "\u001b[2m\u001b[36m(pid=5959)\u001b[0m    KMP_INIT_AT_FORK=true\n",
      "\u001b[2m\u001b[36m(pid=5959)\u001b[0m    KMP_ITT_PREPARE_DELAY=0\n",
      "\u001b[2m\u001b[36m(pid=5959)\u001b[0m    KMP_LIBRARY=throughput\n",
      "\u001b[2m\u001b[36m(pid=5959)\u001b[0m    KMP_LOCK_KIND=queuing\n",
      "\u001b[2m\u001b[36m(pid=5959)\u001b[0m    KMP_MALLOC_POOL_INCR=1M\n",
      "\u001b[2m\u001b[36m(pid=5959)\u001b[0m    KMP_MWAIT_HINTS=0\n",
      "\u001b[2m\u001b[36m(pid=5959)\u001b[0m    KMP_NUM_LOCKS_IN_BLOCK=1\n",
      "\u001b[2m\u001b[36m(pid=5959)\u001b[0m    KMP_PLAIN_BARRIER='2,2'\n",
      "\u001b[2m\u001b[36m(pid=5959)\u001b[0m    KMP_PLAIN_BARRIER_PATTERN='hyper,hyper'\n",
      "\u001b[2m\u001b[36m(pid=5959)\u001b[0m    KMP_REDUCTION_BARRIER='1,1'\n",
      "\u001b[2m\u001b[36m(pid=5959)\u001b[0m    KMP_REDUCTION_BARRIER_PATTERN='hyper,hyper'\n",
      "\u001b[2m\u001b[36m(pid=5959)\u001b[0m    KMP_SCHEDULE='static,balanced;guided,iterative'\n",
      "\u001b[2m\u001b[36m(pid=5959)\u001b[0m    KMP_SETTINGS=true\n",
      "\u001b[2m\u001b[36m(pid=5959)\u001b[0m    KMP_SPIN_BACKOFF_PARAMS='4096,100'\n",
      "\u001b[2m\u001b[36m(pid=5959)\u001b[0m    KMP_STACKOFFSET=64\n",
      "\u001b[2m\u001b[36m(pid=5959)\u001b[0m    KMP_STACKPAD=0\n",
      "\u001b[2m\u001b[36m(pid=5959)\u001b[0m    KMP_STACKSIZE=8M\n",
      "\u001b[2m\u001b[36m(pid=5959)\u001b[0m    KMP_STORAGE_MAP=false\n",
      "\u001b[2m\u001b[36m(pid=5959)\u001b[0m    KMP_TASKING=2\n",
      "\u001b[2m\u001b[36m(pid=5959)\u001b[0m    KMP_TASKLOOP_MIN_TASKS=0\n",
      "\u001b[2m\u001b[36m(pid=5959)\u001b[0m    KMP_TASK_STEALING_CONSTRAINT=1\n",
      "\u001b[2m\u001b[36m(pid=5959)\u001b[0m    KMP_TEAMS_THREAD_LIMIT=12\n",
      "\u001b[2m\u001b[36m(pid=5959)\u001b[0m    KMP_TOPOLOGY_METHOD=all\n",
      "\u001b[2m\u001b[36m(pid=5959)\u001b[0m    KMP_USER_LEVEL_MWAIT=false\n",
      "\u001b[2m\u001b[36m(pid=5959)\u001b[0m    KMP_USE_YIELD=1\n",
      "\u001b[2m\u001b[36m(pid=5959)\u001b[0m    KMP_VERSION=false\n",
      "\u001b[2m\u001b[36m(pid=5959)\u001b[0m    KMP_WARNINGS=true\n",
      "\u001b[2m\u001b[36m(pid=5959)\u001b[0m    OMP_AFFINITY_FORMAT='OMP: pid %P tid %i thread %n bound to OS proc set {%A}'\n",
      "\u001b[2m\u001b[36m(pid=5959)\u001b[0m    OMP_ALLOCATOR=omp_default_mem_alloc\n",
      "\u001b[2m\u001b[36m(pid=5959)\u001b[0m    OMP_CANCELLATION=false\n",
      "\u001b[2m\u001b[36m(pid=5959)\u001b[0m    OMP_DEBUG=disabled\n",
      "\u001b[2m\u001b[36m(pid=5959)\u001b[0m    OMP_DEFAULT_DEVICE=0\n",
      "\u001b[2m\u001b[36m(pid=5959)\u001b[0m    OMP_DISPLAY_AFFINITY=false\n",
      "\u001b[2m\u001b[36m(pid=5959)\u001b[0m    OMP_DISPLAY_ENV=false\n",
      "\u001b[2m\u001b[36m(pid=5959)\u001b[0m    OMP_DYNAMIC=false\n",
      "\u001b[2m\u001b[36m(pid=5959)\u001b[0m    OMP_MAX_ACTIVE_LEVELS=1\n",
      "\u001b[2m\u001b[36m(pid=5959)\u001b[0m    OMP_MAX_TASK_PRIORITY=0\n",
      "\u001b[2m\u001b[36m(pid=5959)\u001b[0m    OMP_NESTED: deprecated; max-active-levels-var=1\n",
      "\u001b[2m\u001b[36m(pid=5959)\u001b[0m    OMP_NUM_TEAMS=0\n",
      "\u001b[2m\u001b[36m(pid=5959)\u001b[0m    OMP_NUM_THREADS='1'\n",
      "\u001b[2m\u001b[36m(pid=5959)\u001b[0m    OMP_PLACES='threads'\n",
      "\u001b[2m\u001b[36m(pid=5959)\u001b[0m    OMP_PROC_BIND='intel'\n",
      "\u001b[2m\u001b[36m(pid=5959)\u001b[0m    OMP_SCHEDULE='static'\n",
      "\u001b[2m\u001b[36m(pid=5959)\u001b[0m    OMP_STACKSIZE=8M\n",
      "\u001b[2m\u001b[36m(pid=5959)\u001b[0m    OMP_TARGET_OFFLOAD=DEFAULT\n",
      "\u001b[2m\u001b[36m(pid=5959)\u001b[0m    OMP_TEAMS_THREAD_LIMIT=0\n",
      "\u001b[2m\u001b[36m(pid=5959)\u001b[0m    OMP_THREAD_LIMIT=2147483647\n",
      "\u001b[2m\u001b[36m(pid=5959)\u001b[0m    OMP_TOOL=enabled\n",
      "\u001b[2m\u001b[36m(pid=5959)\u001b[0m    OMP_TOOL_LIBRARIES: value is not defined\n",
      "\u001b[2m\u001b[36m(pid=5959)\u001b[0m    OMP_WAIT_POLICY=PASSIVE\n",
      "\u001b[2m\u001b[36m(pid=5959)\u001b[0m    KMP_AFFINITY='noverbose,warnings,respect,granularity=thread,compact,1,0'\n",
      "\u001b[2m\u001b[36m(pid=5959)\u001b[0m \n",
      "\u001b[2m\u001b[36m(PytorchRayWorker pid=5959)\u001b[0m [2022-06-30 17:05:23] INFO     Added key: store_based_barrier_key:1 to store for rank: 0\n"
     ]
    }
   ],
   "source": [
    "est = Estimator.from_torch(model=model_creator, optimizer=optim_creator, loss=criterion, metrics=[Accuracy()], backend=\"ray\")"
   ]
  },
  {
   "cell_type": "code",
   "execution_count": 16,
   "metadata": {},
   "outputs": [
    {
     "name": "stderr",
     "output_type": "stream",
     "text": [
      "\u001b[2m\u001b[36m(LocalStore pid=5958)\u001b[0m \n",
      "\u001b[2m\u001b[36m(LocalStore pid=5958)\u001b[0m User settings:\n",
      "\u001b[2m\u001b[36m(LocalStore pid=5958)\u001b[0m \n",
      "\u001b[2m\u001b[36m(LocalStore pid=5958)\u001b[0m    KMP_AFFINITY=granularity=fine,compact,1,0\n",
      "\u001b[2m\u001b[36m(LocalStore pid=5958)\u001b[0m    KMP_BLOCKTIME=0\n",
      "\u001b[2m\u001b[36m(LocalStore pid=5958)\u001b[0m    KMP_DUPLICATE_LIB_OK=True\n",
      "\u001b[2m\u001b[36m(LocalStore pid=5958)\u001b[0m    KMP_INIT_AT_FORK=FALSE\n",
      "\u001b[2m\u001b[36m(LocalStore pid=5958)\u001b[0m    KMP_SETTINGS=1\n",
      "\u001b[2m\u001b[36m(LocalStore pid=5958)\u001b[0m    OMP_NUM_THREADS=1\n",
      "\u001b[2m\u001b[36m(LocalStore pid=5958)\u001b[0m \n",
      "\u001b[2m\u001b[36m(LocalStore pid=5958)\u001b[0m Effective settings:\n",
      "\u001b[2m\u001b[36m(LocalStore pid=5958)\u001b[0m \n",
      "\u001b[2m\u001b[36m(LocalStore pid=5958)\u001b[0m    KMP_ABORT_DELAY=0\n",
      "\u001b[2m\u001b[36m(LocalStore pid=5958)\u001b[0m    KMP_ADAPTIVE_LOCK_PROPS='1,1024'\n",
      "\u001b[2m\u001b[36m(LocalStore pid=5958)\u001b[0m    KMP_ALIGN_ALLOC=64\n",
      "\u001b[2m\u001b[36m(LocalStore pid=5958)\u001b[0m    KMP_ALL_THREADPRIVATE=128\n",
      "\u001b[2m\u001b[36m(LocalStore pid=5958)\u001b[0m    KMP_ATOMIC_MODE=2\n",
      "\u001b[2m\u001b[36m(LocalStore pid=5958)\u001b[0m    KMP_BLOCKTIME=0\n",
      "\u001b[2m\u001b[36m(LocalStore pid=5958)\u001b[0m    KMP_CPUINFO_FILE: value is not defined\n",
      "\u001b[2m\u001b[36m(LocalStore pid=5958)\u001b[0m    KMP_DETERMINISTIC_REDUCTION=false\n",
      "\u001b[2m\u001b[36m(LocalStore pid=5958)\u001b[0m    KMP_DEVICE_THREAD_LIMIT=2147483647\n",
      "\u001b[2m\u001b[36m(LocalStore pid=5958)\u001b[0m    KMP_DISP_HAND_THREAD=false\n",
      "\u001b[2m\u001b[36m(LocalStore pid=5958)\u001b[0m    KMP_DISP_NUM_BUFFERS=7\n",
      "\u001b[2m\u001b[36m(LocalStore pid=5958)\u001b[0m    KMP_DUPLICATE_LIB_OK=true\n",
      "\u001b[2m\u001b[36m(LocalStore pid=5958)\u001b[0m    KMP_ENABLE_TASK_THROTTLING=true\n",
      "\u001b[2m\u001b[36m(LocalStore pid=5958)\u001b[0m    KMP_FORCE_MONOTONIC_DYNAMIC_SCHEDULE=false\n",
      "\u001b[2m\u001b[36m(LocalStore pid=5958)\u001b[0m    KMP_FORCE_REDUCTION: value is not defined\n",
      "\u001b[2m\u001b[36m(LocalStore pid=5958)\u001b[0m    KMP_FOREIGN_THREADS_THREADPRIVATE=true\n",
      "\u001b[2m\u001b[36m(LocalStore pid=5958)\u001b[0m    KMP_FORKJOIN_BARRIER='2,2'\n",
      "\u001b[2m\u001b[36m(LocalStore pid=5958)\u001b[0m    KMP_FORKJOIN_BARRIER_PATTERN='hyper,hyper'\n",
      "\u001b[2m\u001b[36m(LocalStore pid=5958)\u001b[0m    KMP_FORKJOIN_FRAMES=true\n",
      "\u001b[2m\u001b[36m(LocalStore pid=5958)\u001b[0m    KMP_FORKJOIN_FRAMES_MODE=3\n",
      "\u001b[2m\u001b[36m(LocalStore pid=5958)\u001b[0m    KMP_GTID_MODE=3\n",
      "\u001b[2m\u001b[36m(LocalStore pid=5958)\u001b[0m    KMP_HANDLE_SIGNALS=false\n",
      "\u001b[2m\u001b[36m(LocalStore pid=5958)\u001b[0m    KMP_HOT_TEAMS_MAX_LEVEL=1\n",
      "\u001b[2m\u001b[36m(LocalStore pid=5958)\u001b[0m    KMP_HOT_TEAMS_MODE=0\n",
      "\u001b[2m\u001b[36m(LocalStore pid=5958)\u001b[0m    KMP_INIT_AT_FORK=true\n",
      "\u001b[2m\u001b[36m(LocalStore pid=5958)\u001b[0m    KMP_ITT_PREPARE_DELAY=0\n",
      "\u001b[2m\u001b[36m(LocalStore pid=5958)\u001b[0m    KMP_LIBRARY=throughput\n",
      "\u001b[2m\u001b[36m(LocalStore pid=5958)\u001b[0m    KMP_LOCK_KIND=queuing\n",
      "\u001b[2m\u001b[36m(LocalStore pid=5958)\u001b[0m    KMP_MALLOC_POOL_INCR=1M\n",
      "\u001b[2m\u001b[36m(LocalStore pid=5958)\u001b[0m    KMP_MWAIT_HINTS=0\n",
      "\u001b[2m\u001b[36m(LocalStore pid=5958)\u001b[0m    KMP_NUM_LOCKS_IN_BLOCK=1\n",
      "\u001b[2m\u001b[36m(LocalStore pid=5958)\u001b[0m    KMP_PLAIN_BARRIER='2,2'\n",
      "\u001b[2m\u001b[36m(LocalStore pid=5958)\u001b[0m    KMP_PLAIN_BARRIER_PATTERN='hyper,hyper'\n",
      "\u001b[2m\u001b[36m(LocalStore pid=5958)\u001b[0m    KMP_REDUCTION_BARRIER='1,1'\n",
      "\u001b[2m\u001b[36m(LocalStore pid=5958)\u001b[0m    KMP_REDUCTION_BARRIER_PATTERN='hyper,hyper'\n",
      "\u001b[2m\u001b[36m(LocalStore pid=5958)\u001b[0m    KMP_SCHEDULE='static,balanced;guided,iterative'\n",
      "\u001b[2m\u001b[36m(LocalStore pid=5958)\u001b[0m    KMP_SETTINGS=true\n",
      "\u001b[2m\u001b[36m(LocalStore pid=5958)\u001b[0m    KMP_SPIN_BACKOFF_PARAMS='4096,100'\n",
      "\u001b[2m\u001b[36m(LocalStore pid=5958)\u001b[0m    KMP_STACKOFFSET=64\n",
      "\u001b[2m\u001b[36m(LocalStore pid=5958)\u001b[0m    KMP_STACKPAD=0\n",
      "\u001b[2m\u001b[36m(LocalStore pid=5958)\u001b[0m    KMP_STACKSIZE=8M\n",
      "\u001b[2m\u001b[36m(LocalStore pid=5958)\u001b[0m    KMP_STORAGE_MAP=false\n",
      "\u001b[2m\u001b[36m(LocalStore pid=5958)\u001b[0m    KMP_TASKING=2\n",
      "\u001b[2m\u001b[36m(LocalStore pid=5958)\u001b[0m    KMP_TASKLOOP_MIN_TASKS=0\n",
      "\u001b[2m\u001b[36m(LocalStore pid=5958)\u001b[0m    KMP_TASK_STEALING_CONSTRAINT=1\n",
      "\u001b[2m\u001b[36m(LocalStore pid=5958)\u001b[0m    KMP_TEAMS_THREAD_LIMIT=12\n",
      "\u001b[2m\u001b[36m(LocalStore pid=5958)\u001b[0m    KMP_TOPOLOGY_METHOD=all\n",
      "\u001b[2m\u001b[36m(LocalStore pid=5958)\u001b[0m    KMP_USER_LEVEL_MWAIT=false\n",
      "\u001b[2m\u001b[36m(LocalStore pid=5958)\u001b[0m    KMP_USE_YIELD=1\n",
      "\u001b[2m\u001b[36m(LocalStore pid=5958)\u001b[0m    KMP_VERSION=false\n",
      "\u001b[2m\u001b[36m(LocalStore pid=5958)\u001b[0m    KMP_WARNINGS=true\n",
      "\u001b[2m\u001b[36m(LocalStore pid=5958)\u001b[0m    OMP_AFFINITY_FORMAT='OMP: pid %P tid %i thread %n bound to OS proc set {%A}'\n",
      "\u001b[2m\u001b[36m(LocalStore pid=5958)\u001b[0m    OMP_ALLOCATOR=omp_default_mem_alloc\n",
      "\u001b[2m\u001b[36m(LocalStore pid=5958)\u001b[0m    OMP_CANCELLATION=false\n",
      "\u001b[2m\u001b[36m(LocalStore pid=5958)\u001b[0m    OMP_DEBUG=disabled\n",
      "\u001b[2m\u001b[36m(LocalStore pid=5958)\u001b[0m    OMP_DEFAULT_DEVICE=0\n",
      "\u001b[2m\u001b[36m(LocalStore pid=5958)\u001b[0m    OMP_DISPLAY_AFFINITY=false\n",
      "\u001b[2m\u001b[36m(LocalStore pid=5958)\u001b[0m    OMP_DISPLAY_ENV=false\n",
      "\u001b[2m\u001b[36m(LocalStore pid=5958)\u001b[0m    OMP_DYNAMIC=false\n",
      "\u001b[2m\u001b[36m(LocalStore pid=5958)\u001b[0m    OMP_MAX_ACTIVE_LEVELS=1\n",
      "\u001b[2m\u001b[36m(LocalStore pid=5958)\u001b[0m    OMP_MAX_TASK_PRIORITY=0\n",
      "\u001b[2m\u001b[36m(LocalStore pid=5958)\u001b[0m    OMP_NESTED: deprecated; max-active-levels-var=1\n",
      "\u001b[2m\u001b[36m(LocalStore pid=5958)\u001b[0m    OMP_NUM_TEAMS=0\n",
      "\u001b[2m\u001b[36m(LocalStore pid=5958)\u001b[0m    OMP_NUM_THREADS='1'\n",
      "\u001b[2m\u001b[36m(LocalStore pid=5958)\u001b[0m    OMP_PLACES='threads'\n",
      "\u001b[2m\u001b[36m(LocalStore pid=5958)\u001b[0m    OMP_PROC_BIND='intel'\n",
      "\u001b[2m\u001b[36m(LocalStore pid=5958)\u001b[0m    OMP_SCHEDULE='static'\n",
      "\u001b[2m\u001b[36m(LocalStore pid=5958)\u001b[0m    OMP_STACKSIZE=8M\n",
      "\u001b[2m\u001b[36m(LocalStore pid=5958)\u001b[0m    OMP_TARGET_OFFLOAD=DEFAULT\n",
      "\u001b[2m\u001b[36m(LocalStore pid=5958)\u001b[0m    OMP_TEAMS_THREAD_LIMIT=0\n",
      "\u001b[2m\u001b[36m(LocalStore pid=5958)\u001b[0m    OMP_THREAD_LIMIT=2147483647\n",
      "\u001b[2m\u001b[36m(LocalStore pid=5958)\u001b[0m    OMP_TOOL=enabled\n",
      "\u001b[2m\u001b[36m(LocalStore pid=5958)\u001b[0m    OMP_TOOL_LIBRARIES: value is not defined\n",
      "\u001b[2m\u001b[36m(LocalStore pid=5958)\u001b[0m    OMP_WAIT_POLICY=PASSIVE\n",
      "\u001b[2m\u001b[36m(LocalStore pid=5958)\u001b[0m    KMP_AFFINITY='noverbose,warnings,respect,granularity=thread,compact,1,0'\n",
      "\u001b[2m\u001b[36m(LocalStore pid=5958)\u001b[0m \n",
      "\u001b[2m\u001b[36m(LocalStore pid=5957)\u001b[0m \n",
      "\u001b[2m\u001b[36m(LocalStore pid=5957)\u001b[0m User settings:\n",
      "\u001b[2m\u001b[36m(LocalStore pid=5957)\u001b[0m \n",
      "\u001b[2m\u001b[36m(LocalStore pid=5957)\u001b[0m    KMP_AFFINITY=granularity=fine,compact,1,0\n",
      "\u001b[2m\u001b[36m(LocalStore pid=5957)\u001b[0m    KMP_BLOCKTIME=0\n",
      "\u001b[2m\u001b[36m(LocalStore pid=5957)\u001b[0m    KMP_DUPLICATE_LIB_OK=True\n",
      "\u001b[2m\u001b[36m(LocalStore pid=5957)\u001b[0m    KMP_INIT_AT_FORK=FALSE\n",
      "\u001b[2m\u001b[36m(LocalStore pid=5957)\u001b[0m    KMP_SETTINGS=1\n",
      "\u001b[2m\u001b[36m(LocalStore pid=5957)\u001b[0m    OMP_NUM_THREADS=1\n",
      "\u001b[2m\u001b[36m(LocalStore pid=5957)\u001b[0m \n",
      "\u001b[2m\u001b[36m(LocalStore pid=5957)\u001b[0m Effective settings:\n",
      "\u001b[2m\u001b[36m(LocalStore pid=5957)\u001b[0m \n",
      "\u001b[2m\u001b[36m(LocalStore pid=5957)\u001b[0m    KMP_ABORT_DELAY=0\n",
      "\u001b[2m\u001b[36m(LocalStore pid=5957)\u001b[0m    KMP_ADAPTIVE_LOCK_PROPS='1,1024'\n",
      "\u001b[2m\u001b[36m(LocalStore pid=5957)\u001b[0m    KMP_ALIGN_ALLOC=64\n",
      "\u001b[2m\u001b[36m(LocalStore pid=5957)\u001b[0m    KMP_ALL_THREADPRIVATE=128\n",
      "\u001b[2m\u001b[36m(LocalStore pid=5957)\u001b[0m    KMP_ATOMIC_MODE=2\n",
      "\u001b[2m\u001b[36m(LocalStore pid=5957)\u001b[0m    KMP_BLOCKTIME=0\n",
      "\u001b[2m\u001b[36m(LocalStore pid=5957)\u001b[0m    KMP_CPUINFO_FILE: value is not defined\n",
      "\u001b[2m\u001b[36m(LocalStore pid=5957)\u001b[0m    KMP_DETERMINISTIC_REDUCTION=false\n",
      "\u001b[2m\u001b[36m(LocalStore pid=5957)\u001b[0m    KMP_DEVICE_THREAD_LIMIT=2147483647\n",
      "\u001b[2m\u001b[36m(LocalStore pid=5957)\u001b[0m    KMP_DISP_HAND_THREAD=false\n",
      "\u001b[2m\u001b[36m(LocalStore pid=5957)\u001b[0m    KMP_DISP_NUM_BUFFERS=7\n",
      "\u001b[2m\u001b[36m(LocalStore pid=5957)\u001b[0m    KMP_DUPLICATE_LIB_OK=true\n",
      "\u001b[2m\u001b[36m(LocalStore pid=5957)\u001b[0m    KMP_ENABLE_TASK_THROTTLING=true\n",
      "\u001b[2m\u001b[36m(LocalStore pid=5957)\u001b[0m    KMP_FORCE_MONOTONIC_DYNAMIC_SCHEDULE=false\n",
      "\u001b[2m\u001b[36m(LocalStore pid=5957)\u001b[0m    KMP_FORCE_REDUCTION: value is not defined\n",
      "\u001b[2m\u001b[36m(LocalStore pid=5957)\u001b[0m    KMP_FOREIGN_THREADS_THREADPRIVATE=true\n",
      "\u001b[2m\u001b[36m(LocalStore pid=5957)\u001b[0m    KMP_FORKJOIN_BARRIER='2,2'\n",
      "\u001b[2m\u001b[36m(LocalStore pid=5957)\u001b[0m    KMP_FORKJOIN_BARRIER_PATTERN='hyper,hyper'\n",
      "\u001b[2m\u001b[36m(LocalStore pid=5957)\u001b[0m    KMP_FORKJOIN_FRAMES=true\n",
      "\u001b[2m\u001b[36m(LocalStore pid=5957)\u001b[0m    KMP_FORKJOIN_FRAMES_MODE=3\n",
      "\u001b[2m\u001b[36m(LocalStore pid=5957)\u001b[0m    KMP_GTID_MODE=3\n",
      "\u001b[2m\u001b[36m(LocalStore pid=5957)\u001b[0m    KMP_HANDLE_SIGNALS=false\n",
      "\u001b[2m\u001b[36m(LocalStore pid=5957)\u001b[0m    KMP_HOT_TEAMS_MAX_LEVEL=1\n",
      "\u001b[2m\u001b[36m(LocalStore pid=5957)\u001b[0m    KMP_HOT_TEAMS_MODE=0\n",
      "\u001b[2m\u001b[36m(LocalStore pid=5957)\u001b[0m    KMP_INIT_AT_FORK=true\n",
      "\u001b[2m\u001b[36m(LocalStore pid=5957)\u001b[0m    KMP_ITT_PREPARE_DELAY=0\n",
      "\u001b[2m\u001b[36m(LocalStore pid=5957)\u001b[0m    KMP_LIBRARY=throughput\n",
      "\u001b[2m\u001b[36m(LocalStore pid=5957)\u001b[0m    KMP_LOCK_KIND=queuing\n",
      "\u001b[2m\u001b[36m(LocalStore pid=5957)\u001b[0m    KMP_MALLOC_POOL_INCR=1M\n",
      "\u001b[2m\u001b[36m(LocalStore pid=5957)\u001b[0m    KMP_MWAIT_HINTS=0\n",
      "\u001b[2m\u001b[36m(LocalStore pid=5957)\u001b[0m    KMP_NUM_LOCKS_IN_BLOCK=1\n",
      "\u001b[2m\u001b[36m(LocalStore pid=5957)\u001b[0m    KMP_PLAIN_BARRIER='2,2'\n",
      "\u001b[2m\u001b[36m(LocalStore pid=5957)\u001b[0m    KMP_PLAIN_BARRIER_PATTERN='hyper,hyper'\n",
      "\u001b[2m\u001b[36m(LocalStore pid=5957)\u001b[0m    KMP_REDUCTION_BARRIER='1,1'\n",
      "\u001b[2m\u001b[36m(LocalStore pid=5957)\u001b[0m    KMP_REDUCTION_BARRIER_PATTERN='hyper,hyper'\n",
      "\u001b[2m\u001b[36m(LocalStore pid=5957)\u001b[0m    KMP_SCHEDULE='static,balanced;guided,iterative'\n",
      "\u001b[2m\u001b[36m(LocalStore pid=5957)\u001b[0m    KMP_SETTINGS=true\n",
      "\u001b[2m\u001b[36m(LocalStore pid=5957)\u001b[0m    KMP_SPIN_BACKOFF_PARAMS='4096,100'\n",
      "\u001b[2m\u001b[36m(LocalStore pid=5957)\u001b[0m    KMP_STACKOFFSET=64\n",
      "\u001b[2m\u001b[36m(LocalStore pid=5957)\u001b[0m    KMP_STACKPAD=0\n",
      "\u001b[2m\u001b[36m(LocalStore pid=5957)\u001b[0m    KMP_STACKSIZE=8M\n",
      "\u001b[2m\u001b[36m(LocalStore pid=5957)\u001b[0m    KMP_STORAGE_MAP=false\n",
      "\u001b[2m\u001b[36m(LocalStore pid=5957)\u001b[0m    KMP_TASKING=2\n",
      "\u001b[2m\u001b[36m(LocalStore pid=5957)\u001b[0m    KMP_TASKLOOP_MIN_TASKS=0\n",
      "\u001b[2m\u001b[36m(LocalStore pid=5957)\u001b[0m    KMP_TASK_STEALING_CONSTRAINT=1\n",
      "\u001b[2m\u001b[36m(LocalStore pid=5957)\u001b[0m    KMP_TEAMS_THREAD_LIMIT=12\n",
      "\u001b[2m\u001b[36m(LocalStore pid=5957)\u001b[0m    KMP_TOPOLOGY_METHOD=all\n",
      "\u001b[2m\u001b[36m(LocalStore pid=5957)\u001b[0m    KMP_USER_LEVEL_MWAIT=false\n",
      "\u001b[2m\u001b[36m(LocalStore pid=5957)\u001b[0m    KMP_USE_YIELD=1\n",
      "\u001b[2m\u001b[36m(LocalStore pid=5957)\u001b[0m    KMP_VERSION=false\n",
      "\u001b[2m\u001b[36m(LocalStore pid=5957)\u001b[0m    KMP_WARNINGS=true\n",
      "\u001b[2m\u001b[36m(LocalStore pid=5957)\u001b[0m    OMP_AFFINITY_FORMAT='OMP: pid %P tid %i thread %n bound to OS proc set {%A}'\n",
      "\u001b[2m\u001b[36m(LocalStore pid=5957)\u001b[0m    OMP_ALLOCATOR=omp_default_mem_alloc\n",
      "\u001b[2m\u001b[36m(LocalStore pid=5957)\u001b[0m    OMP_CANCELLATION=false\n",
      "\u001b[2m\u001b[36m(LocalStore pid=5957)\u001b[0m    OMP_DEBUG=disabled\n",
      "\u001b[2m\u001b[36m(LocalStore pid=5957)\u001b[0m    OMP_DEFAULT_DEVICE=0\n",
      "\u001b[2m\u001b[36m(LocalStore pid=5957)\u001b[0m    OMP_DISPLAY_AFFINITY=false\n",
      "\u001b[2m\u001b[36m(LocalStore pid=5957)\u001b[0m    OMP_DISPLAY_ENV=false\n",
      "\u001b[2m\u001b[36m(LocalStore pid=5957)\u001b[0m    OMP_DYNAMIC=false\n",
      "\u001b[2m\u001b[36m(LocalStore pid=5957)\u001b[0m    OMP_MAX_ACTIVE_LEVELS=1\n",
      "\u001b[2m\u001b[36m(LocalStore pid=5957)\u001b[0m    OMP_MAX_TASK_PRIORITY=0\n",
      "\u001b[2m\u001b[36m(LocalStore pid=5957)\u001b[0m    OMP_NESTED: deprecated; max-active-levels-var=1\n",
      "\u001b[2m\u001b[36m(LocalStore pid=5957)\u001b[0m    OMP_NUM_TEAMS=0\n",
      "\u001b[2m\u001b[36m(LocalStore pid=5957)\u001b[0m    OMP_NUM_THREADS='1'\n",
      "\u001b[2m\u001b[36m(LocalStore pid=5957)\u001b[0m    OMP_PLACES='threads'\n",
      "\u001b[2m\u001b[36m(LocalStore pid=5957)\u001b[0m    OMP_PROC_BIND='intel'\n",
      "\u001b[2m\u001b[36m(LocalStore pid=5957)\u001b[0m    OMP_SCHEDULE='static'\n",
      "\u001b[2m\u001b[36m(LocalStore pid=5957)\u001b[0m    OMP_STACKSIZE=8M\n",
      "\u001b[2m\u001b[36m(LocalStore pid=5957)\u001b[0m    OMP_TARGET_OFFLOAD=DEFAULT\n",
      "\u001b[2m\u001b[36m(LocalStore pid=5957)\u001b[0m    OMP_TEAMS_THREAD_LIMIT=0\n",
      "\u001b[2m\u001b[36m(LocalStore pid=5957)\u001b[0m    OMP_THREAD_LIMIT=2147483647\n",
      "\u001b[2m\u001b[36m(LocalStore pid=5957)\u001b[0m    OMP_TOOL=enabled\n",
      "\u001b[2m\u001b[36m(LocalStore pid=5957)\u001b[0m    OMP_TOOL_LIBRARIES: value is not defined\n",
      "\u001b[2m\u001b[36m(LocalStore pid=5957)\u001b[0m    OMP_WAIT_POLICY=PASSIVE\n",
      "\u001b[2m\u001b[36m(LocalStore pid=5957)\u001b[0m    KMP_AFFINITY='noverbose,warnings,respect,granularity=thread,compact,1,0'\n",
      "\u001b[2m\u001b[36m(LocalStore pid=5957)\u001b[0m \n"
     ]
    },
    {
     "name": "stdout",
     "output_type": "stream",
     "text": [
      "\u001b[2m\u001b[36m(PytorchRayWorker pid=5959)\u001b[0m Data size on worker:  79996\n"
     ]
    },
    {
     "name": "stderr",
     "output_type": "stream",
     "text": [
      "\u001b[2m\u001b[36m(PytorchRayWorker pid=5959)\u001b[0m [2022-06-30 17:10:28] INFO     Reducer buckets have been rebuilt in this iteration.\n"
     ]
    },
    {
     "name": "stdout",
     "output_type": "stream",
     "text": [
      "\u001b[2m\u001b[36m(PytorchRayWorker pid=5959)\u001b[0m Data size on worker:  20000\n"
     ]
    },
    {
     "name": "stderr",
     "output_type": "stream",
     "text": [
      "\u001b[2m\u001b[36m(PytorchRayWorker pid=5959)\u001b[0m [2022-06-30 17:10:34] INFO     Finished training epoch 1, stats on rank 0: {'epoch': 1, 'batch_count': 1250, 'num_samples': 79996, 'train_loss': 1.1223435290986714, 'last_train_loss': 1.1325827836990356, 'val_accuracy': tensor(0.5770), 'val_loss': 1.1085240882873535, 'val_num_samples': 20000}\n"
     ]
    },
    {
     "data": {
      "text/plain": [
       "[{'num_samples': 79996,\n",
       "  'epoch': 1,\n",
       "  'batch_count': 1250,\n",
       "  'train_loss': 1.1223435290986714,\n",
       "  'last_train_loss': 1.1325827836990356,\n",
       "  'val_accuracy': tensor(0.5770),\n",
       "  'val_loss': 1.1085240882873535,\n",
       "  'val_num_samples': 20000}]"
      ]
     },
     "execution_count": 16,
     "metadata": {},
     "output_type": "execute_result"
    }
   ],
   "source": [
    "est.fit(data=shards_train1, feature_cols=['x_scaled'], label_cols=['y_scaled'], validation_data=shards_val1, \n",
    "        epochs=1, batch_size=BATCH_SIZE)"
   ]
  },
  {
   "cell_type": "code",
   "execution_count": 17,
   "metadata": {},
   "outputs": [
    {
     "name": "stderr",
     "output_type": "stream",
     "text": [
      "\u001b[2m\u001b[36m(LocalStore pid=5956)\u001b[0m \n",
      "\u001b[2m\u001b[36m(LocalStore pid=5956)\u001b[0m User settings:\n",
      "\u001b[2m\u001b[36m(LocalStore pid=5956)\u001b[0m \n",
      "\u001b[2m\u001b[36m(LocalStore pid=5956)\u001b[0m    KMP_AFFINITY=granularity=fine,compact,1,0\n",
      "\u001b[2m\u001b[36m(LocalStore pid=5956)\u001b[0m    KMP_BLOCKTIME=0\n",
      "\u001b[2m\u001b[36m(LocalStore pid=5956)\u001b[0m    KMP_DUPLICATE_LIB_OK=True\n",
      "\u001b[2m\u001b[36m(LocalStore pid=5956)\u001b[0m    KMP_INIT_AT_FORK=FALSE\n",
      "\u001b[2m\u001b[36m(LocalStore pid=5956)\u001b[0m    KMP_SETTINGS=1\n",
      "\u001b[2m\u001b[36m(LocalStore pid=5956)\u001b[0m    OMP_NUM_THREADS=1\n",
      "\u001b[2m\u001b[36m(LocalStore pid=5956)\u001b[0m \n",
      "\u001b[2m\u001b[36m(LocalStore pid=5956)\u001b[0m Effective settings:\n",
      "\u001b[2m\u001b[36m(LocalStore pid=5956)\u001b[0m \n",
      "\u001b[2m\u001b[36m(LocalStore pid=5956)\u001b[0m    KMP_ABORT_DELAY=0\n",
      "\u001b[2m\u001b[36m(LocalStore pid=5956)\u001b[0m    KMP_ADAPTIVE_LOCK_PROPS='1,1024'\n",
      "\u001b[2m\u001b[36m(LocalStore pid=5956)\u001b[0m    KMP_ALIGN_ALLOC=64\n",
      "\u001b[2m\u001b[36m(LocalStore pid=5956)\u001b[0m    KMP_ALL_THREADPRIVATE=128\n",
      "\u001b[2m\u001b[36m(LocalStore pid=5956)\u001b[0m    KMP_ATOMIC_MODE=2\n",
      "\u001b[2m\u001b[36m(LocalStore pid=5956)\u001b[0m    KMP_BLOCKTIME=0\n",
      "\u001b[2m\u001b[36m(LocalStore pid=5956)\u001b[0m    KMP_CPUINFO_FILE: value is not defined\n",
      "\u001b[2m\u001b[36m(LocalStore pid=5956)\u001b[0m    KMP_DETERMINISTIC_REDUCTION=false\n",
      "\u001b[2m\u001b[36m(LocalStore pid=5956)\u001b[0m    KMP_DEVICE_THREAD_LIMIT=2147483647\n",
      "\u001b[2m\u001b[36m(LocalStore pid=5956)\u001b[0m    KMP_DISP_HAND_THREAD=false\n",
      "\u001b[2m\u001b[36m(LocalStore pid=5956)\u001b[0m    KMP_DISP_NUM_BUFFERS=7\n",
      "\u001b[2m\u001b[36m(LocalStore pid=5956)\u001b[0m    KMP_DUPLICATE_LIB_OK=true\n",
      "\u001b[2m\u001b[36m(LocalStore pid=5956)\u001b[0m    KMP_ENABLE_TASK_THROTTLING=true\n",
      "\u001b[2m\u001b[36m(LocalStore pid=5956)\u001b[0m    KMP_FORCE_MONOTONIC_DYNAMIC_SCHEDULE=false\n",
      "\u001b[2m\u001b[36m(LocalStore pid=5956)\u001b[0m    KMP_FORCE_REDUCTION: value is not defined\n",
      "\u001b[2m\u001b[36m(LocalStore pid=5956)\u001b[0m    KMP_FOREIGN_THREADS_THREADPRIVATE=true\n",
      "\u001b[2m\u001b[36m(LocalStore pid=5956)\u001b[0m    KMP_FORKJOIN_BARRIER='2,2'\n",
      "\u001b[2m\u001b[36m(LocalStore pid=5956)\u001b[0m    KMP_FORKJOIN_BARRIER_PATTERN='hyper,hyper'\n",
      "\u001b[2m\u001b[36m(LocalStore pid=5956)\u001b[0m    KMP_FORKJOIN_FRAMES=true\n",
      "\u001b[2m\u001b[36m(LocalStore pid=5956)\u001b[0m    KMP_FORKJOIN_FRAMES_MODE=3\n",
      "\u001b[2m\u001b[36m(LocalStore pid=5956)\u001b[0m    KMP_GTID_MODE=3\n",
      "\u001b[2m\u001b[36m(LocalStore pid=5956)\u001b[0m    KMP_HANDLE_SIGNALS=false\n",
      "\u001b[2m\u001b[36m(LocalStore pid=5956)\u001b[0m    KMP_HOT_TEAMS_MAX_LEVEL=1\n",
      "\u001b[2m\u001b[36m(LocalStore pid=5956)\u001b[0m    KMP_HOT_TEAMS_MODE=0\n",
      "\u001b[2m\u001b[36m(LocalStore pid=5956)\u001b[0m    KMP_INIT_AT_FORK=true\n",
      "\u001b[2m\u001b[36m(LocalStore pid=5956)\u001b[0m    KMP_ITT_PREPARE_DELAY=0\n",
      "\u001b[2m\u001b[36m(LocalStore pid=5956)\u001b[0m    KMP_LIBRARY=throughput\n",
      "\u001b[2m\u001b[36m(LocalStore pid=5956)\u001b[0m    KMP_LOCK_KIND=queuing\n",
      "\u001b[2m\u001b[36m(LocalStore pid=5956)\u001b[0m    KMP_MALLOC_POOL_INCR=1M\n",
      "\u001b[2m\u001b[36m(LocalStore pid=5956)\u001b[0m    KMP_MWAIT_HINTS=0\n",
      "\u001b[2m\u001b[36m(LocalStore pid=5956)\u001b[0m    KMP_NUM_LOCKS_IN_BLOCK=1\n",
      "\u001b[2m\u001b[36m(LocalStore pid=5956)\u001b[0m    KMP_PLAIN_BARRIER='2,2'\n",
      "\u001b[2m\u001b[36m(LocalStore pid=5956)\u001b[0m    KMP_PLAIN_BARRIER_PATTERN='hyper,hyper'\n",
      "\u001b[2m\u001b[36m(LocalStore pid=5956)\u001b[0m    KMP_REDUCTION_BARRIER='1,1'\n",
      "\u001b[2m\u001b[36m(LocalStore pid=5956)\u001b[0m    KMP_REDUCTION_BARRIER_PATTERN='hyper,hyper'\n",
      "\u001b[2m\u001b[36m(LocalStore pid=5956)\u001b[0m    KMP_SCHEDULE='static,balanced;guided,iterative'\n",
      "\u001b[2m\u001b[36m(LocalStore pid=5956)\u001b[0m    KMP_SETTINGS=true\n",
      "\u001b[2m\u001b[36m(LocalStore pid=5956)\u001b[0m    KMP_SPIN_BACKOFF_PARAMS='4096,100'\n",
      "\u001b[2m\u001b[36m(LocalStore pid=5956)\u001b[0m    KMP_STACKOFFSET=64\n",
      "\u001b[2m\u001b[36m(LocalStore pid=5956)\u001b[0m    KMP_STACKPAD=0\n",
      "\u001b[2m\u001b[36m(LocalStore pid=5956)\u001b[0m    KMP_STACKSIZE=8M\n",
      "\u001b[2m\u001b[36m(LocalStore pid=5956)\u001b[0m    KMP_STORAGE_MAP=false\n",
      "\u001b[2m\u001b[36m(LocalStore pid=5956)\u001b[0m    KMP_TASKING=2\n",
      "\u001b[2m\u001b[36m(LocalStore pid=5956)\u001b[0m    KMP_TASKLOOP_MIN_TASKS=0\n",
      "\u001b[2m\u001b[36m(LocalStore pid=5956)\u001b[0m    KMP_TASK_STEALING_CONSTRAINT=1\n",
      "\u001b[2m\u001b[36m(LocalStore pid=5956)\u001b[0m    KMP_TEAMS_THREAD_LIMIT=12\n",
      "\u001b[2m\u001b[36m(LocalStore pid=5956)\u001b[0m    KMP_TOPOLOGY_METHOD=all\n",
      "\u001b[2m\u001b[36m(LocalStore pid=5956)\u001b[0m    KMP_USER_LEVEL_MWAIT=false\n",
      "\u001b[2m\u001b[36m(LocalStore pid=5956)\u001b[0m    KMP_USE_YIELD=1\n",
      "\u001b[2m\u001b[36m(LocalStore pid=5956)\u001b[0m    KMP_VERSION=false\n",
      "\u001b[2m\u001b[36m(LocalStore pid=5956)\u001b[0m    KMP_WARNINGS=true\n",
      "\u001b[2m\u001b[36m(LocalStore pid=5956)\u001b[0m    OMP_AFFINITY_FORMAT='OMP: pid %P tid %i thread %n bound to OS proc set {%A}'\n",
      "\u001b[2m\u001b[36m(LocalStore pid=5956)\u001b[0m    OMP_ALLOCATOR=omp_default_mem_alloc\n",
      "\u001b[2m\u001b[36m(LocalStore pid=5956)\u001b[0m    OMP_CANCELLATION=false\n",
      "\u001b[2m\u001b[36m(LocalStore pid=5956)\u001b[0m    OMP_DEBUG=disabled\n",
      "\u001b[2m\u001b[36m(LocalStore pid=5956)\u001b[0m    OMP_DEFAULT_DEVICE=0\n",
      "\u001b[2m\u001b[36m(LocalStore pid=5956)\u001b[0m    OMP_DISPLAY_AFFINITY=false\n",
      "\u001b[2m\u001b[36m(LocalStore pid=5956)\u001b[0m    OMP_DISPLAY_ENV=false\n",
      "\u001b[2m\u001b[36m(LocalStore pid=5956)\u001b[0m    OMP_DYNAMIC=false\n",
      "\u001b[2m\u001b[36m(LocalStore pid=5956)\u001b[0m    OMP_MAX_ACTIVE_LEVELS=1\n",
      "\u001b[2m\u001b[36m(LocalStore pid=5956)\u001b[0m    OMP_MAX_TASK_PRIORITY=0\n",
      "\u001b[2m\u001b[36m(LocalStore pid=5956)\u001b[0m    OMP_NESTED: deprecated; max-active-levels-var=1\n",
      "\u001b[2m\u001b[36m(LocalStore pid=5956)\u001b[0m    OMP_NUM_TEAMS=0\n",
      "\u001b[2m\u001b[36m(LocalStore pid=5956)\u001b[0m    OMP_NUM_THREADS='1'\n",
      "\u001b[2m\u001b[36m(LocalStore pid=5956)\u001b[0m    OMP_PLACES='threads'\n",
      "\u001b[2m\u001b[36m(LocalStore pid=5956)\u001b[0m    OMP_PROC_BIND='intel'\n",
      "\u001b[2m\u001b[36m(LocalStore pid=5956)\u001b[0m    OMP_SCHEDULE='static'\n",
      "\u001b[2m\u001b[36m(LocalStore pid=5956)\u001b[0m    OMP_STACKSIZE=8M\n",
      "\u001b[2m\u001b[36m(LocalStore pid=5956)\u001b[0m    OMP_TARGET_OFFLOAD=DEFAULT\n",
      "\u001b[2m\u001b[36m(LocalStore pid=5956)\u001b[0m    OMP_TEAMS_THREAD_LIMIT=0\n",
      "\u001b[2m\u001b[36m(LocalStore pid=5956)\u001b[0m    OMP_THREAD_LIMIT=2147483647\n",
      "\u001b[2m\u001b[36m(LocalStore pid=5956)\u001b[0m    OMP_TOOL=enabled\n",
      "\u001b[2m\u001b[36m(LocalStore pid=5956)\u001b[0m    OMP_TOOL_LIBRARIES: value is not defined\n",
      "\u001b[2m\u001b[36m(LocalStore pid=5956)\u001b[0m    OMP_WAIT_POLICY=PASSIVE\n",
      "\u001b[2m\u001b[36m(LocalStore pid=5956)\u001b[0m    KMP_AFFINITY='noverbose,warnings,respect,granularity=thread,compact,1,0'\n",
      "\u001b[2m\u001b[36m(LocalStore pid=5956)\u001b[0m \n"
     ]
    },
    {
     "name": "stdout",
     "output_type": "stream",
     "text": [
      "\u001b[2m\u001b[36m(PytorchRayWorker pid=5959)\u001b[0m Data size on worker:  20000\n"
     ]
    }
   ],
   "source": [
    "result = est.evaluate(data=shards_val1, feature_cols=['x_scaled'], label_cols=['y_scaled'], batch_size=1)"
   ]
  },
  {
   "cell_type": "code",
   "execution_count": 18,
   "metadata": {},
   "outputs": [
    {
     "name": "stdout",
     "output_type": "stream",
     "text": [
      "num_samples : 20000\n",
      "Accuracy : tensor(0.5770)\n",
      "val_loss : 1.1085240890711545\n"
     ]
    }
   ],
   "source": [
    "for r in result:\n",
    "    print(r, \":\", result[r])"
   ]
  },
  {
   "cell_type": "code",
   "execution_count": null,
   "metadata": {},
   "outputs": [],
   "source": []
  }
 ],
 "metadata": {
  "kernelspec": {
   "display_name": "Python(xinyi)",
   "language": "python",
   "name": "xinyi"
  },
  "language_info": {
   "codemirror_mode": {
    "name": "ipython",
    "version": 3
   },
   "file_extension": ".py",
   "mimetype": "text/x-python",
   "name": "python",
   "nbconvert_exporter": "python",
   "pygments_lexer": "ipython3",
   "version": "3.7.7"
  }
 },
 "nbformat": 4,
 "nbformat_minor": 4
}
