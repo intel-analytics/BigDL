{
 "cells": [
  {
   "attachments": {},
   "cell_type": "markdown",
   "metadata": {},
   "source": [
    "##### Copyright 2016 The BigDL Authors."
   ]
  },
  {
   "cell_type": "code",
   "execution_count": null,
   "metadata": {},
   "outputs": [
    {
     "ename": "",
     "evalue": "",
     "output_type": "error",
     "traceback": [
      "\u001b[1;31m运行具有“py37”的单元格需要ipykernel包。\n",
      "\u001b[1;31mRun the following command to install 'ipykernel' into the Python environment. \n",
      "\u001b[1;31mCommand: 'conda install -n py37 ipykernel --update-deps --force-reinstall'"
     ]
    }
   ],
   "source": [
    "\n",
    "#@title Licensed under the Apache License, Version 2.0 (the \"License\");\n",
    "# you may not use this file except in compliance with the License.\n",
    "# You may obtain a copy of the License at\n",
    "#\n",
    "#     http://www.apache.org/licenses/LICENSE-2.0\n",
    "#\n",
    "# Unless required by applicable law or agreed to in writing, software\n",
    "# distributed under the License is distributed on an \"AS IS\" BASIS,\n",
    "# WITHOUT WARRANTIES OR CONDITIONS OF ANY KIND, either express or implied.\n",
    "# See the License for the specific language governing permissions and\n",
    "# limitations under the License.\n",
    "#"
   ]
  },
  {
   "attachments": {},
   "cell_type": "markdown",
   "metadata": {},
   "source": [
    "## Callback Mechanism Introduction\n",
    "\n",
    "### What is callback mechanism?\n",
    "\n",
    "A callback function is a function passed into another function as an argument, which is then invoked inside the outer function to complete some kind of routine or action.\n",
    "\n",
    "### How does a callback work?\n",
    "\n",
    "Callbacks mechanism divides the entire training process into several points according to different stages, so users can implement various processes of training by overriding these callbacks of corresponding points.\n",
    "\n",
    "### How many callbacks are there?\n",
    "\n",
    "And there are two kinds of callbacks here:\n",
    "\n",
    "One is the callback that does nothing by default like `on_run_end`. We may utilize our existing Callback class to achieve this.\n",
    "```python\n",
    "class Callback:\n",
    "    \n",
    "    def on_run_begin(self, runner): ...\n",
    "    def on_run_end(self, runner): ...\n",
    "    def on_epoch_begin(self, runner): ...\n",
    "    def on_epoch_end(self, runner): ...\n",
    "    def on_iter_begin(self, runner): ...\n",
    "    def on_iter_end(self, runner): ...\n",
    "```\n",
    "\n",
    "Another is the callback that contains default behaviors defined by orca: on_iter_forward, on_iter_backward and on_lr_adjust. These methods are somewhat special, because only one special MainCallback should be allowed to implement these methods among all callbacks(otherwise there will propagate forward and backward twice).\n",
    "```python\n",
    "class MainCallback(Callback);\n",
    "\n",
    "    def on_iter_forward(self, runner):\n",
    "        inputs, targets = runner.batch\n",
    "        runner.outputs = runner.model(inputs)\n",
    "        inputs, targets = runner.batch\n",
    "        runner.loss = runner.criterion(runner.outputs, targets)\n",
    "\n",
    "    def on_iter_backward(self, runner):\n",
    "        runner.optimizer.zero_grad()\n",
    "        runner.loss.backward()\n",
    "        runner.optimizer.step()\n",
    "    \n",
    "    def on_lr_adjust(self, runner):\n",
    "        if runner.lr_scheduler is not None:\n",
    "           runner.lr_scheduler.step()\n",
    "```\n",
    "\n",
    "In general, there are 23 points where callbacks can be inserted from the beginning to the end of model training:\n",
    "\n",
    "* global points: `before_run`, `after_run`, `before_epoch`, `after_epoch`, `before_iter`, `after_iter`, *`on_iter_forward`\n",
    "* training points: `before_train_epoch`, `after_train_epoch`,  `before_train_iter`, `before_val_iter`, *`on_train_forward`, *`on_iter_backward`, *`on_lr_adjust`\n",
    "* validation points: `before_val_epoch`, `after_val_epoch`, `before_val_iter`, `after_val_iter`, *`on_val_forward`\n",
    "* prediction points: `before_pred_epoch`, `after_pred_epoch`, `before_pred_iter`, `after_pred_iter`\n",
    "\n",
    "Note that points marked with star are only available in `MainCallBack`.\n",
    "\n",
    "### How these callbacks are composed?\n",
    "\n",
    "Basically we assume the **training** process as the following pseudocode:\n",
    "```python\n",
    "\n",
    "# In TorchRunner.train_epochs:\n",
    "\n",
    "...\n",
    "\n",
    "call_hooks(\"on_run_begin\", self)\n",
    "\n",
    "for epoch in range(epochs):\n",
    "\n",
    "    self.epoch+=1\n",
    "    call_hooks(\"on_epoch_begin\", self)\n",
    "\n",
    "    for batch_idx, batch in enumerate(self.dataloader):\n",
    "        self.batch = batch\n",
    "        self.batch_idx = batch_idx\n",
    "        call_hooks(\"on_iter_begin\", self)\n",
    "\n",
    "        call_hooks(\"on_iter_forward\", self)\n",
    "\n",
    "        call_hooks(\"on_iter_backward\", self)# this will be called when training\n",
    "\n",
    "        call_hooks(\"on_iter_end\", self)\n",
    "\n",
    "        # We should not present items in last iteration to users in the next iteration.\n",
    "        if hasattrs(self, 'batch'|'batch_idx'|'outputs'|'loss')\n",
    "           del self.batch\n",
    "           del self.batch_idx\n",
    "           del self.outputs\n",
    "           del self.loss\n",
    "\n",
    "    call_hooks(\"on_lr_adjust\", self)# this will be called when training\n",
    "\n",
    "    call_hooks(\"on_epoch_end\", self)\n",
    "\n",
    "call_hooks(\"on_run_end\", self)\n",
    "\n",
    "```\n",
    "So you may write down your forwarding logic by **accessing these runner's attributes** like:\n",
    "```python\n",
    "class CustomMainCB(MainCallBack):\n",
    "    def on_iter_forward(self, runner):\n",
    "        # Forward features\n",
    "        image, target = runner.batch\n",
    "        runner.output= runner.model(image, target)\n",
    "        # Compute loss\n",
    "        runner.loss = sum(loss for loss in runner.output.values())\n",
    "```\n"
   ]
  },
  {
   "attachments": {},
   "cell_type": "markdown",
   "metadata": {},
   "source": [
    "## Pytorch Estimator Callbacks Example"
   ]
  },
  {
   "cell_type": "markdown",
   "metadata": {},
   "source": []
  }
 ],
 "metadata": {
  "kernelspec": {
   "display_name": "py37",
   "language": "python",
   "name": "python3"
  },
  "language_info": {
   "name": "python",
   "version": "3.7.13"
  },
  "orig_nbformat": 4,
  "vscode": {
   "interpreter": {
    "hash": "e16043b4919c59a20f120d8af33832970ddf5559bbe5f37992c3d954196860e7"
   }
  }
 },
 "nbformat": 4,
 "nbformat_minor": 2
}
