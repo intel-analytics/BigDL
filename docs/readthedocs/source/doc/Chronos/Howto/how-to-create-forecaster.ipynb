{
 "cells": [
  {
   "cell_type": "markdown",
   "metadata": {},
   "source": [
    "# How to create a Forecaster"
   ]
  },
  {
   "cell_type": "markdown",
   "metadata": {},
   "source": [
    "## Forecaster Introduction\n",
    "Before creating a Forecaster, you need to understand the four parameters `past_seq_len`, `future_seq_len`, `input_feature_num`, `output_feature_num`, which represent the time step and feature column, As shown below.\n",
    "![](../Image/forecast-RR.png \"time series\")\n",
    " * **past_seq_len**: Sampled input length, represents the history time step. (i.e. lookback)\n",
    " * **future_seq_len**: Sampled output length, represents the output time step.(i.e. horizon)\n",
    " * **input_feature_num**: All feature column(s), including extra feature column(s) and target column(s).\n",
    " * **output_feature_num**: Only target column(s)."
   ]
  },
  {
   "cell_type": "markdown",
   "metadata": {},
   "source": [
    "After understanding these 4 parameters, the next step is to create a Forecaster.\n",
    "\n",
    "Tips: Some forecaster models may only require some parameters, such as\n",
    "LSTMforecaster without specifying future_seq_len, because lstm is a single-step model.\n",
    "More Forecaster info, please refer to [Time Series Forecasting OverView](https://bigdl.readthedocs.io/en/latest/doc/Chronos/Overview/forecasting.html#time-series-forecasting-overview)"
   ]
  },
  {
   "cell_type": "markdown",
   "metadata": {},
   "source": [
    "## Create a forecaster\n",
    "We provide two ways to create a Forecaster.\n",
    "* `Forecaster.from_tsdataset`(**Highly recommended**)\n",
    "* Create a `Forecaster` directly"
   ]
  },
  {
   "cell_type": "markdown",
   "metadata": {},
   "source": [
    "### Create a Forecaster using Forecaster.from_tsdataset(**Highly recommended**)\n",
    "`from_tsdataset` is a classmethod, so you can call `Forecsater.from_tsdataset`, then input a `TSDataset` instance.\n",
    "`TSDataset` is a built-in time series preprocessing class. More info, please refer to [here](https://bigdl.readthedocs.io/en/latest/doc/Chronos/Overview/quick-tour.html#tsdataset-xshardstsdataset).\n",
    "\n",
    "If your tsdataset has used the `roll` or `to_torch_data_loader` methods, you do not need to specify `past_seq_len` and `future_seq_len` for from_tsdataset, otherwise you must specify both.\n",
    "You can also specify the hyperparameters of the model, such as lr, dropout etc."
   ]
  },
  {
   "cell_type": "code",
   "execution_count": null,
   "metadata": {},
   "outputs": [],
   "source": [
    "import pandas as pd\n",
    "from bigdl.chronos.forecaster import TCNForecaster\n",
    "from bigdl.chronos.data import TSDataset\n",
    "\n",
    "df = pd.read_csv(...)\n",
    "tsdataset = TSDataset.from_pandas(df, ...)  # df is a pandas.DataFrame\n",
    "# No call roll and to_torch_data_loader\n",
    "tcn = TCNForecaster.from_tsdataset(tsdataset,\n",
    "                                   past_seq_len=48,\n",
    "                                   future_seq_len=5)\n",
    "tcn.fit(tsdataset)\n",
    "\n",
    "# Do not specify past_seq_len and future_seq_len, if roll or to_torch_dataloader has been called.\n",
    "tsdataset.to_torch_data_loader(...)\n",
    "tcn = TCNForecaster.from_tsdataset(tsdataset)\n",
    "tcn.fit(tsdataset)"
   ]
  },
  {
   "cell_type": "markdown",
   "metadata": {},
   "source": [
    "### Create a forecaster directly\n",
    "You can also create TCNForecaster directly, the parameters mentioned above still need to be specified."
   ]
  },
  {
   "cell_type": "code",
   "execution_count": null,
   "metadata": {},
   "outputs": [],
   "source": [
    "from bigdl.chronos.forecaster import TCNForecaster\n",
    "# prepare dataset\n",
    "timeseries = ...\n",
    "\n",
    "tcn = TCNForecaster(past_seq_len=48,\n",
    "                    future_seq_len=5,\n",
    "                    input_feature_num=2,\n",
    "                    output_feature_num=2)\n",
    "\n",
    "tcn.fit(timeseries)"
   ]
  },
  {
   "cell_type": "markdown",
   "metadata": {},
   "source": [
    "## Further reading\n",
    "training: After you have created the forecaster, you can train your model. Please refer to [here](https://bigdl.readthedocs.io/en/latest/doc/Chronos/Howto/how_to_train_forecaster_on_one_node.html).\n",
    "\n",
    "distributed: When your data volume is large and it is difficult to complete on a single machine, we also provide distributed training.\n",
    "\n",
    "load: When you have trained and saved the model locally, you can load a model.\n",
    "\n"
   ]
  }
 ],
 "metadata": {
  "kernelspec": {
   "display_name": "Python 3 (ipykernel)",
   "language": "python",
   "name": "python3"
  },
  "language_info": {
   "codemirror_mode": {
    "name": "ipython",
    "version": 3
   },
   "file_extension": ".py",
   "mimetype": "text/x-python",
   "name": "python",
   "nbconvert_exporter": "python",
   "pygments_lexer": "ipython3",
   "version": "3.7.12"
  },
  "vscode": {
   "interpreter": {
    "hash": "1a7f5d41b94c9ba67b8a1438ec071a63464312bab4ac0991ee31faebf1c9c228"
   }
  }
 },
 "nbformat": 4,
 "nbformat_minor": 2
}
